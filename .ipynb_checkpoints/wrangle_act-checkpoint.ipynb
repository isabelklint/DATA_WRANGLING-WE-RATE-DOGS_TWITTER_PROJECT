{
 "cells": [
  {
   "cell_type": "markdown",
   "metadata": {
    "extensions": {
     "jupyter_dashboards": {
      "version": 1,
      "views": {
       "grid_default": {
        "col": 0,
        "height": 4,
        "hidden": false,
        "row": 0,
        "width": 4
       },
       "report_default": {
        "hidden": false
       }
      }
     }
    }
   },
   "source": [
    "# Project: Wrangling and Analyze Data"
   ]
  },
  {
   "cell_type": "code",
   "execution_count": 247,
   "metadata": {},
   "outputs": [],
   "source": [
    "# import statements\n",
    "\n",
    "# pandas\n",
    "import pandas as pd \n",
    "\n",
    "# numpy\n",
    "import numpy as np\n",
    "\n",
    "# for requests to use when it reads in file???\n",
    "import os\n",
    "\n",
    "# requests to import .tsv file\n",
    "import requests\n",
    "\n",
    "# tweepy\n",
    "# import tweepy\n",
    "# from tweepy import OAuthHandler\n",
    "\n",
    "# json\n",
    "import json\n",
    "\n",
    "# for those visualisations\n",
    "import matplotlib.pyplot as plt\n",
    "%matplotlib inline\n",
    "\n",
    "\n",
    "# Implementation of matplotlib function\n",
    "import datetime\n",
    "from matplotlib.dates import drange\n",
    "\n",
    "from matplotlib.dates import DateFormatter\n",
    "\n",
    "plt.rcParams[\"figure.figsize\"] = (15, 10)\n",
    "\n",
    "import seaborn as sns\n"
   ]
  },
  {
   "cell_type": "markdown",
   "metadata": {},
   "source": [
    "## Data Gathering\n",
    "In the cell below, gather **all** three pieces of data for this project and load them in the notebook. **Note:** the methods required to gather each data are different.\n",
    "1. Directly download the WeRateDogs Twitter archive data (twitter_archive_enhanced.csv)"
   ]
  },
  {
   "cell_type": "code",
   "execution_count": 248,
   "metadata": {
    "extensions": {
     "jupyter_dashboards": {
      "version": 1,
      "views": {
       "grid_default": {
        "hidden": true
       },
       "report_default": {
        "hidden": true
       }
      }
     }
    },
    "scrolled": true
   },
   "outputs": [],
   "source": [
    "## directly download the WeRateDogs Twitter archive data\n",
    "\n",
    "# NOTE: I did this but was unable to upload file to my workspace.\n",
    "# So I did this to get the file into my workspace.\n",
    "\n",
    "# get .csv file link\n",
    "# src_url = 'https://d17h27t6h515a5.cloudfront.net/topher/2017/August/59a4e958_twitter-archive-enhanced/twitter-archive-enhanced.csv'\n",
    "\n",
    "# read in .csv file using pandas read_csv\n",
    "# enhanced_df = pd.read_csv(src_url, encoding='latin-1')\n",
    "\n",
    "# create .csv file in my workspace\n",
    "# enhanced_df.to_csv(\"enhanced_df.csv\")\n"
   ]
  },
  {
   "cell_type": "code",
   "execution_count": 249,
   "metadata": {},
   "outputs": [],
   "source": [
    "# read in my enhanced twitter csv from my workspace\n",
    "enhanced_tweets_original_df = pd.read_csv('enhanced_df.csv', encoding='latin-1')\n"
   ]
  },
  {
   "cell_type": "markdown",
   "metadata": {},
   "source": [
    "2. Use the Requests library to download the tweet image prediction (image_predictions.tsv)"
   ]
  },
  {
   "cell_type": "code",
   "execution_count": 250,
   "metadata": {},
   "outputs": [],
   "source": [
    "## use requests to get text from .tsv file\n",
    "\n",
    "# r = requests.get('https://d17h27t6h515a5.cloudfront.net/topher/2017/August/599fd2ad_image-predictions/image-predictions.tsv', auth=('user', 'pass'))\n",
    "\n",
    "# take a look at the file data type and the file data itself\n",
    "# print(r.headers['content-type'], '\\n\\n', r.text)\n",
    "\n",
    "## NOTE: I needed to make copy of image_predictions.tsv in my workspace using requests\n",
    "# from: https://stackoverflow.com/questions/35371043/use-python-requests-to-download-csv\n",
    "# src_url = 'https://d17h27t6h515a5.cloudfront.net/topher/2017/August/599fd2ad_image-predictions/image-predictions.tsv'\n",
    "\n",
    "# with open(os.path.split(src_url)[1], 'wb') as f, \\\n",
    "# requests.get(src_url, stream=True) as r:\n",
    "#     for line in r.iter_lines():\n",
    "#         f.write(line+'\\n'.encode())\n"
   ]
  },
  {
   "cell_type": "code",
   "execution_count": 251,
   "metadata": {},
   "outputs": [],
   "source": [
    "# get df for image-predictions.tsv\n",
    "image_predictions_original_df = pd.read_csv('image-predictions.tsv', sep='\\t')\n"
   ]
  },
  {
   "cell_type": "markdown",
   "metadata": {},
   "source": [
    "3. Use the Tweepy library to query additional data via the Twitter API (tweet_json.txt)"
   ]
  },
  {
   "cell_type": "code",
   "execution_count": 252,
   "metadata": {},
   "outputs": [],
   "source": [
    "## NOTE: I did not use tweepy library to get additional data\n",
    "\n",
    "# make an array to store vales from provided json file\n",
    "selected_attr = []\n",
    "\n",
    "# get values from json file\n",
    "with open ('tweets_json.txt', 'r') as json_file:\n",
    "    # loop thru lines in file\n",
    "    for line in json_file:\n",
    "        # each line is an array called tweet\n",
    "        tweet = json.loads(line)\n",
    "        # append data and also rename columns at the same time\n",
    "        selected_attr.append({'tweet_id': tweet['id'],\n",
    "                             'favorites': tweet['favorite_count'],\n",
    "                             'retweets': tweet['retweet_count'],\n",
    "                             'timestamp': tweet['created_at']})\n",
    "# change array to dataframe\n",
    "tweet_columns_original_df = pd.DataFrame(selected_attr, columns = ['tweet_id', 'favorites', 'retweets', 'timestamp'])\n"
   ]
  },
  {
   "cell_type": "code",
   "execution_count": 253,
   "metadata": {},
   "outputs": [],
   "source": [
    "## save txt to workspace\n",
    "# tweet_columns_original_df.to_csv(\"tweet_columns.txt\")\n"
   ]
  },
  {
   "cell_type": "code",
   "execution_count": 254,
   "metadata": {},
   "outputs": [
    {
     "name": "stdout",
     "output_type": "stream",
     "text": [
      "This code describes the use of the twitter api but I don't want it to run\n"
     ]
    }
   ],
   "source": [
    "## Query Twitter API for each tweet in the Twitter archive and save JSON in a text file\n",
    "\n",
    "# get just the tweet id numbers\n",
    "# tweet_ids_original = tweet_columns_df.tweet_id.values\n",
    "\n",
    "# make them a dataframe\n",
    "# tweet_ids_df = pd.DataFrame(tweet_ids_original)\n",
    "\n",
    "# save them to workspace as .csv\n",
    "#tweet_ids_df.to_csv(\"tweet_ids.csv\")\n",
    "\n",
    "# These are hidden to comply with Twitter's API terms and conditions\n",
    "# consumer_key = 'HIDDEN'\n",
    "# consumer_secret = 'HIDDEN'\n",
    "# access_token = 'HIDDEN'\n",
    "# access_secret = 'HIDDEN'\n",
    "\n",
    "# auth = OAuthHandler(consumer_key, consumer_secret)\n",
    "# auth.set_access_token(access_token, access_secret)\n",
    "\n",
    "# api = tweepy.API(auth, wait_on_rate_limit=True)\n",
    "\n",
    "# NOTE TO STUDENT WITH MOBILE VERIFICATION ISSUES:\n",
    "# df_1 is a DataFrame with the twitter_archive_enhanced.csv file. You may have to\n",
    "# change line 17 to match the name of your DataFrame with twitter_archive_enhanced.csv\n",
    "# NOTE TO REVIEWER: this student had mobile verification issues so the following\n",
    "# Twitter API code was sent to this student from a Udacity instructor\n",
    "# Tweet IDs for which to gather additional data via Twitter's API\n",
    "# tweet_ids = df_1.tweet_id.values\n",
    "# len(tweet_ids)\n",
    "\n",
    "# Query Twitter's API for JSON data for each tweet ID in the Twitter archive\n",
    "# count = 0\n",
    "# fails_dict = {}\n",
    "# start = timer()\n",
    "# # Save each tweet's returned JSON as a new line in a .txt file\n",
    "# with open('tweet_json.txt', 'w') as outfile:\n",
    "#     # This loop will likely take 20-30 minutes to run because of Twitter's rate limit\n",
    "#     for tweet_id in tweet_ids:\n",
    "#         count += 1\n",
    "#         print(str(count) + \": \" + str(tweet_id))\n",
    "#         try:\n",
    "#             tweet = api.get_status(tweet_id, tweet_mode='extended')\n",
    "#             print(\"Success\")\n",
    "#             json.dump(tweet._json, outfile)\n",
    "#             outfile.write('\\n')\n",
    "#         except tweepy.TweepError as e:\n",
    "#             print(\"Fail\")\n",
    "#             fails_dict[tweet_id] = e\n",
    "#             pass\n",
    "# end = timer()\n",
    "# print(end - start)\n",
    "# print(fails_dict)\n",
    "print('This code describes the use of the twitter api but I don\\'t want it to run')\n"
   ]
  },
  {
   "cell_type": "markdown",
   "metadata": {
    "extensions": {
     "jupyter_dashboards": {
      "version": 1,
      "views": {
       "grid_default": {
        "col": 4,
        "height": 4,
        "hidden": false,
        "row": 28,
        "width": 4
       },
       "report_default": {
        "hidden": false
       }
      }
     }
    }
   },
   "source": [
    "## Assessing Data\n",
    "In this section, detect and document at least **eight (8) quality issues and two (2) tidiness issue**. You must use **both** visual assessment\n",
    "programmatic assessement to assess the data.\n",
    "\n",
    "**Note:** pay attention to the following key points when you access the data.\n",
    "\n",
    "* You only want original ratings (no retweets) that have images. Though there are 5000+ tweets in the dataset, not all are dog ratings and some are retweets.\n",
    "* Assessing and cleaning the entire dataset completely would require a lot of time, and is not necessary to practice and demonstrate your skills in data wrangling. Therefore, the requirements of this project are only to assess and clean at least 8 quality issues and at least 2 tidiness issues in this dataset.\n",
    "* The fact that the rating numerators are greater than the denominators does not need to be cleaned. This [unique rating system](http://knowyourmeme.com/memes/theyre-good-dogs-brent) is a big part of the popularity of WeRateDogs.\n",
    "* You do not need to gather the tweets beyond August 1st, 2017. You can, but note that you won't be able to gather the image predictions for these tweets since you don't have access to the algorithm used.\n"
   ]
  },
  {
   "cell_type": "code",
   "execution_count": 255,
   "metadata": {},
   "outputs": [
    {
     "data": {
      "text/html": [
       "<div>\n",
       "<style scoped>\n",
       "    .dataframe tbody tr th:only-of-type {\n",
       "        vertical-align: middle;\n",
       "    }\n",
       "\n",
       "    .dataframe tbody tr th {\n",
       "        vertical-align: top;\n",
       "    }\n",
       "\n",
       "    .dataframe thead th {\n",
       "        text-align: right;\n",
       "    }\n",
       "</style>\n",
       "<table border=\"1\" class=\"dataframe\">\n",
       "  <thead>\n",
       "    <tr style=\"text-align: right;\">\n",
       "      <th></th>\n",
       "      <th>Unnamed: 0</th>\n",
       "      <th>tweet_id</th>\n",
       "      <th>in_reply_to_status_id</th>\n",
       "      <th>in_reply_to_user_id</th>\n",
       "      <th>timestamp</th>\n",
       "      <th>source</th>\n",
       "      <th>text</th>\n",
       "      <th>retweeted_status_id</th>\n",
       "      <th>retweeted_status_user_id</th>\n",
       "      <th>retweeted_status_timestamp</th>\n",
       "      <th>expanded_urls</th>\n",
       "      <th>rating_numerator</th>\n",
       "      <th>rating_denominator</th>\n",
       "      <th>name</th>\n",
       "      <th>doggo</th>\n",
       "      <th>floofer</th>\n",
       "      <th>pupper</th>\n",
       "      <th>puppo</th>\n",
       "    </tr>\n",
       "  </thead>\n",
       "  <tbody>\n",
       "    <tr>\n",
       "      <th>2303</th>\n",
       "      <td>2303</td>\n",
       "      <td>666996132027977728</td>\n",
       "      <td>NaN</td>\n",
       "      <td>NaN</td>\n",
       "      <td>2015-11-18 15:07:24 +0000</td>\n",
       "      <td>&lt;a href=\"http://twitter.com/download/iphone\" r...</td>\n",
       "      <td>This is Carll. He wants to be a donkey. But al...</td>\n",
       "      <td>NaN</td>\n",
       "      <td>NaN</td>\n",
       "      <td>NaN</td>\n",
       "      <td>https://twitter.com/dog_rates/status/666996132...</td>\n",
       "      <td>10</td>\n",
       "      <td>10</td>\n",
       "      <td>Carll</td>\n",
       "      <td>None</td>\n",
       "      <td>None</td>\n",
       "      <td>None</td>\n",
       "      <td>None</td>\n",
       "    </tr>\n",
       "    <tr>\n",
       "      <th>1317</th>\n",
       "      <td>1317</td>\n",
       "      <td>706593038911545345</td>\n",
       "      <td>NaN</td>\n",
       "      <td>NaN</td>\n",
       "      <td>2016-03-06 21:31:22 +0000</td>\n",
       "      <td>&lt;a href=\"http://twitter.com/download/iphone\" r...</td>\n",
       "      <td>Here's a sneak peek of me on spring break. 10/...</td>\n",
       "      <td>NaN</td>\n",
       "      <td>NaN</td>\n",
       "      <td>NaN</td>\n",
       "      <td>https://twitter.com/dog_rates/status/706593038...</td>\n",
       "      <td>10</td>\n",
       "      <td>10</td>\n",
       "      <td>None</td>\n",
       "      <td>None</td>\n",
       "      <td>None</td>\n",
       "      <td>None</td>\n",
       "      <td>None</td>\n",
       "    </tr>\n",
       "  </tbody>\n",
       "</table>\n",
       "</div>"
      ],
      "text/plain": [
       "      Unnamed: 0            tweet_id  in_reply_to_status_id  \\\n",
       "2303        2303  666996132027977728                    NaN   \n",
       "1317        1317  706593038911545345                    NaN   \n",
       "\n",
       "      in_reply_to_user_id                  timestamp  \\\n",
       "2303                  NaN  2015-11-18 15:07:24 +0000   \n",
       "1317                  NaN  2016-03-06 21:31:22 +0000   \n",
       "\n",
       "                                                 source  \\\n",
       "2303  <a href=\"http://twitter.com/download/iphone\" r...   \n",
       "1317  <a href=\"http://twitter.com/download/iphone\" r...   \n",
       "\n",
       "                                                   text  retweeted_status_id  \\\n",
       "2303  This is Carll. He wants to be a donkey. But al...                  NaN   \n",
       "1317  Here's a sneak peek of me on spring break. 10/...                  NaN   \n",
       "\n",
       "      retweeted_status_user_id retweeted_status_timestamp  \\\n",
       "2303                       NaN                        NaN   \n",
       "1317                       NaN                        NaN   \n",
       "\n",
       "                                          expanded_urls  rating_numerator  \\\n",
       "2303  https://twitter.com/dog_rates/status/666996132...                10   \n",
       "1317  https://twitter.com/dog_rates/status/706593038...                10   \n",
       "\n",
       "      rating_denominator   name doggo floofer pupper puppo  \n",
       "2303                  10  Carll  None    None   None  None  \n",
       "1317                  10   None  None    None   None  None  "
      ]
     },
     "execution_count": 255,
     "metadata": {},
     "output_type": "execute_result"
    }
   ],
   "source": [
    "# visual assessment enhanced_tweets\n",
    "\n",
    "# look at df\n",
    "enhanced_tweets_original_df.sample(2)\n"
   ]
  },
  {
   "cell_type": "markdown",
   "metadata": {},
   "source": [
    "Visual assessment of enhanced tweets df shows unnecessary columns (retweeted status). \n",
    "\n",
    "In addition, we see that some dogs lack ratings.\n",
    "\n",
    "Furthermore, some dogs names are 'None', some dog names are in error (such as 'quite'), and that some dogs lack rankings."
   ]
  },
  {
   "cell_type": "code",
   "execution_count": 256,
   "metadata": {},
   "outputs": [
    {
     "data": {
      "text/html": [
       "<div>\n",
       "<style scoped>\n",
       "    .dataframe tbody tr th:only-of-type {\n",
       "        vertical-align: middle;\n",
       "    }\n",
       "\n",
       "    .dataframe tbody tr th {\n",
       "        vertical-align: top;\n",
       "    }\n",
       "\n",
       "    .dataframe thead th {\n",
       "        text-align: right;\n",
       "    }\n",
       "</style>\n",
       "<table border=\"1\" class=\"dataframe\">\n",
       "  <thead>\n",
       "    <tr style=\"text-align: right;\">\n",
       "      <th></th>\n",
       "      <th>tweet_id</th>\n",
       "      <th>jpg_url</th>\n",
       "      <th>img_num</th>\n",
       "      <th>p1</th>\n",
       "      <th>p1_conf</th>\n",
       "      <th>p1_dog</th>\n",
       "      <th>p2</th>\n",
       "      <th>p2_conf</th>\n",
       "      <th>p2_dog</th>\n",
       "      <th>p3</th>\n",
       "      <th>p3_conf</th>\n",
       "      <th>p3_dog</th>\n",
       "    </tr>\n",
       "  </thead>\n",
       "  <tbody>\n",
       "    <tr>\n",
       "      <th>371</th>\n",
       "      <td>672980819271634944</td>\n",
       "      <td>https://pbs.twimg.com/media/CVbodBOUsAAb7jZ.jpg</td>\n",
       "      <td>1</td>\n",
       "      <td>car_mirror</td>\n",
       "      <td>0.232754</td>\n",
       "      <td>False</td>\n",
       "      <td>basset</td>\n",
       "      <td>0.219461</td>\n",
       "      <td>True</td>\n",
       "      <td>beagle</td>\n",
       "      <td>0.112397</td>\n",
       "      <td>True</td>\n",
       "    </tr>\n",
       "    <tr>\n",
       "      <th>1666</th>\n",
       "      <td>812709060537683968</td>\n",
       "      <td>https://pbs.twimg.com/media/C0dSk98WEAALyya.jpg</td>\n",
       "      <td>1</td>\n",
       "      <td>Irish_setter</td>\n",
       "      <td>0.326873</td>\n",
       "      <td>True</td>\n",
       "      <td>golden_retriever</td>\n",
       "      <td>0.182610</td>\n",
       "      <td>True</td>\n",
       "      <td>Leonberg</td>\n",
       "      <td>0.156912</td>\n",
       "      <td>True</td>\n",
       "    </tr>\n",
       "    <tr>\n",
       "      <th>244</th>\n",
       "      <td>670465786746662913</td>\n",
       "      <td>https://pbs.twimg.com/media/CU35E7VWEAAKYBy.jpg</td>\n",
       "      <td>1</td>\n",
       "      <td>axolotl</td>\n",
       "      <td>0.611558</td>\n",
       "      <td>False</td>\n",
       "      <td>tailed_frog</td>\n",
       "      <td>0.186484</td>\n",
       "      <td>False</td>\n",
       "      <td>common_newt</td>\n",
       "      <td>0.078694</td>\n",
       "      <td>False</td>\n",
       "    </tr>\n",
       "    <tr>\n",
       "      <th>843</th>\n",
       "      <td>695064344191721472</td>\n",
       "      <td>https://pbs.twimg.com/ext_tw_video_thumb/69506...</td>\n",
       "      <td>1</td>\n",
       "      <td>seat_belt</td>\n",
       "      <td>0.522211</td>\n",
       "      <td>False</td>\n",
       "      <td>sunglasses</td>\n",
       "      <td>0.077552</td>\n",
       "      <td>False</td>\n",
       "      <td>ice_lolly</td>\n",
       "      <td>0.051774</td>\n",
       "      <td>False</td>\n",
       "    </tr>\n",
       "    <tr>\n",
       "      <th>825</th>\n",
       "      <td>693262851218264065</td>\n",
       "      <td>https://pbs.twimg.com/media/CZ724fDUYAAytS-.jpg</td>\n",
       "      <td>1</td>\n",
       "      <td>golden_retriever</td>\n",
       "      <td>0.989333</td>\n",
       "      <td>True</td>\n",
       "      <td>Labrador_retriever</td>\n",
       "      <td>0.007946</td>\n",
       "      <td>True</td>\n",
       "      <td>kuvasz</td>\n",
       "      <td>0.000749</td>\n",
       "      <td>True</td>\n",
       "    </tr>\n",
       "  </tbody>\n",
       "</table>\n",
       "</div>"
      ],
      "text/plain": [
       "                tweet_id                                            jpg_url  \\\n",
       "371   672980819271634944    https://pbs.twimg.com/media/CVbodBOUsAAb7jZ.jpg   \n",
       "1666  812709060537683968    https://pbs.twimg.com/media/C0dSk98WEAALyya.jpg   \n",
       "244   670465786746662913    https://pbs.twimg.com/media/CU35E7VWEAAKYBy.jpg   \n",
       "843   695064344191721472  https://pbs.twimg.com/ext_tw_video_thumb/69506...   \n",
       "825   693262851218264065    https://pbs.twimg.com/media/CZ724fDUYAAytS-.jpg   \n",
       "\n",
       "      img_num                p1   p1_conf  p1_dog                  p2  \\\n",
       "371         1        car_mirror  0.232754   False              basset   \n",
       "1666        1      Irish_setter  0.326873    True    golden_retriever   \n",
       "244         1           axolotl  0.611558   False         tailed_frog   \n",
       "843         1         seat_belt  0.522211   False          sunglasses   \n",
       "825         1  golden_retriever  0.989333    True  Labrador_retriever   \n",
       "\n",
       "       p2_conf  p2_dog           p3   p3_conf  p3_dog  \n",
       "371   0.219461    True       beagle  0.112397    True  \n",
       "1666  0.182610    True     Leonberg  0.156912    True  \n",
       "244   0.186484   False  common_newt  0.078694   False  \n",
       "843   0.077552   False    ice_lolly  0.051774   False  \n",
       "825   0.007946    True       kuvasz  0.000749    True  "
      ]
     },
     "execution_count": 256,
     "metadata": {},
     "output_type": "execute_result"
    }
   ],
   "source": [
    "# visual assessment image_predictions\n",
    "\n",
    "# look at df\n",
    "image_predictions_original_df.sample(5)\n"
   ]
  },
  {
   "cell_type": "markdown",
   "metadata": {},
   "source": [
    "Visual assessment of image predictions df shows that some photos are not of dogs and some of are multiple dogs.\n"
   ]
  },
  {
   "cell_type": "code",
   "execution_count": 257,
   "metadata": {},
   "outputs": [
    {
     "data": {
      "text/html": [
       "<div>\n",
       "<style scoped>\n",
       "    .dataframe tbody tr th:only-of-type {\n",
       "        vertical-align: middle;\n",
       "    }\n",
       "\n",
       "    .dataframe tbody tr th {\n",
       "        vertical-align: top;\n",
       "    }\n",
       "\n",
       "    .dataframe thead th {\n",
       "        text-align: right;\n",
       "    }\n",
       "</style>\n",
       "<table border=\"1\" class=\"dataframe\">\n",
       "  <thead>\n",
       "    <tr style=\"text-align: right;\">\n",
       "      <th></th>\n",
       "      <th>tweet_id</th>\n",
       "      <th>favorites</th>\n",
       "      <th>retweets</th>\n",
       "      <th>timestamp</th>\n",
       "    </tr>\n",
       "  </thead>\n",
       "  <tbody>\n",
       "    <tr>\n",
       "      <th>0</th>\n",
       "      <td>892420643555336193</td>\n",
       "      <td>39467</td>\n",
       "      <td>8853</td>\n",
       "      <td>Tue Aug 01 16:23:56 +0000 2017</td>\n",
       "    </tr>\n",
       "    <tr>\n",
       "      <th>1</th>\n",
       "      <td>892177421306343426</td>\n",
       "      <td>33819</td>\n",
       "      <td>6514</td>\n",
       "      <td>Tue Aug 01 00:17:27 +0000 2017</td>\n",
       "    </tr>\n",
       "    <tr>\n",
       "      <th>2</th>\n",
       "      <td>891815181378084864</td>\n",
       "      <td>25461</td>\n",
       "      <td>4328</td>\n",
       "      <td>Mon Jul 31 00:18:03 +0000 2017</td>\n",
       "    </tr>\n",
       "  </tbody>\n",
       "</table>\n",
       "</div>"
      ],
      "text/plain": [
       "             tweet_id  favorites  retweets                       timestamp\n",
       "0  892420643555336193      39467      8853  Tue Aug 01 16:23:56 +0000 2017\n",
       "1  892177421306343426      33819      6514  Tue Aug 01 00:17:27 +0000 2017\n",
       "2  891815181378084864      25461      4328  Mon Jul 31 00:18:03 +0000 2017"
      ]
     },
     "execution_count": 257,
     "metadata": {},
     "output_type": "execute_result"
    }
   ],
   "source": [
    "# visual assessment tweet_columns\n",
    "\n",
    "# look at df\n",
    "tweet_columns_original_df.head(3)\n"
   ]
  },
  {
   "cell_type": "markdown",
   "metadata": {},
   "source": [
    "Visual assessment of tweet columns df shows that the timestamp column needs to be changed or dropped. We already have timestamp data in the enhanced tweets df."
   ]
  },
  {
   "cell_type": "code",
   "execution_count": 258,
   "metadata": {},
   "outputs": [
    {
     "name": "stdout",
     "output_type": "stream",
     "text": [
      "<class 'pandas.core.frame.DataFrame'>\n",
      "RangeIndex: 2356 entries, 0 to 2355\n",
      "Data columns (total 18 columns):\n",
      "Unnamed: 0                    2356 non-null int64\n",
      "tweet_id                      2356 non-null int64\n",
      "in_reply_to_status_id         78 non-null float64\n",
      "in_reply_to_user_id           78 non-null float64\n",
      "timestamp                     2356 non-null object\n",
      "source                        2356 non-null object\n",
      "text                          2356 non-null object\n",
      "retweeted_status_id           181 non-null float64\n",
      "retweeted_status_user_id      181 non-null float64\n",
      "retweeted_status_timestamp    181 non-null object\n",
      "expanded_urls                 2297 non-null object\n",
      "rating_numerator              2356 non-null int64\n",
      "rating_denominator            2356 non-null int64\n",
      "name                          2356 non-null object\n",
      "doggo                         2356 non-null object\n",
      "floofer                       2356 non-null object\n",
      "pupper                        2356 non-null object\n",
      "puppo                         2356 non-null object\n",
      "dtypes: float64(4), int64(4), object(10)\n",
      "memory usage: 331.4+ KB\n"
     ]
    }
   ],
   "source": [
    "# programmatic assessment enhanced tweets\n",
    "\n",
    "# get info for enhanced_tweets_df\n",
    "enhanced_tweets_original_df.info()\n"
   ]
  },
  {
   "cell_type": "markdown",
   "metadata": {},
   "source": [
    "using info() on enhanced tweets original df\n",
    "\n",
    "- shows that tweet_id is int64, however these IDs are unique and do not require calculation.\n",
    "- how are we going to calculate ratings later? do we need a column of 10s? Are they all 10s?\n",
    "- ratings should be float, not int, to allow for decimals"
   ]
  },
  {
   "cell_type": "code",
   "execution_count": 259,
   "metadata": {},
   "outputs": [
    {
     "name": "stdout",
     "output_type": "stream",
     "text": [
      "666020888022790149 892420643555336193\n"
     ]
    }
   ],
   "source": [
    "# look at twitter id values to see if any look weird\n",
    "x = enhanced_tweets_original_df.tweet_id.min()\n",
    "y = enhanced_tweets_original_df.tweet_id.max()\n",
    "print(x,y)\n"
   ]
  },
  {
   "cell_type": "markdown",
   "metadata": {},
   "source": [
    "No weird tweet_ids, looks fine."
   ]
  },
  {
   "cell_type": "code",
   "execution_count": 260,
   "metadata": {},
   "outputs": [
    {
     "data": {
      "text/plain": [
       "Unnamed: 0                       0\n",
       "tweet_id                         0\n",
       "in_reply_to_status_id         2278\n",
       "in_reply_to_user_id           2278\n",
       "timestamp                        0\n",
       "source                           0\n",
       "text                             0\n",
       "retweeted_status_id           2175\n",
       "retweeted_status_user_id      2175\n",
       "retweeted_status_timestamp    2175\n",
       "expanded_urls                   59\n",
       "rating_numerator                 0\n",
       "rating_denominator               0\n",
       "name                             0\n",
       "doggo                            0\n",
       "floofer                          0\n",
       "pupper                           0\n",
       "puppo                            0\n",
       "dtype: int64"
      ]
     },
     "execution_count": 260,
     "metadata": {},
     "output_type": "execute_result"
    }
   ],
   "source": [
    "# programmatic assessment enhanced tweets\n",
    "# which columns have null values?\n",
    "enhanced_tweets_original_df.isnull().sum()\n"
   ]
  },
  {
   "cell_type": "markdown",
   "metadata": {},
   "source": [
    "Using isnull() on enhanced tweets original df. The only column with null values is the retweet column."
   ]
  },
  {
   "cell_type": "code",
   "execution_count": 261,
   "metadata": {},
   "outputs": [
    {
     "data": {
      "text/html": [
       "<div>\n",
       "<style scoped>\n",
       "    .dataframe tbody tr th:only-of-type {\n",
       "        vertical-align: middle;\n",
       "    }\n",
       "\n",
       "    .dataframe tbody tr th {\n",
       "        vertical-align: top;\n",
       "    }\n",
       "\n",
       "    .dataframe thead th {\n",
       "        text-align: right;\n",
       "    }\n",
       "</style>\n",
       "<table border=\"1\" class=\"dataframe\">\n",
       "  <thead>\n",
       "    <tr style=\"text-align: right;\">\n",
       "      <th></th>\n",
       "      <th>Unnamed: 0</th>\n",
       "      <th>tweet_id</th>\n",
       "      <th>in_reply_to_status_id</th>\n",
       "      <th>in_reply_to_user_id</th>\n",
       "      <th>retweeted_status_id</th>\n",
       "      <th>retweeted_status_user_id</th>\n",
       "      <th>rating_numerator</th>\n",
       "      <th>rating_denominator</th>\n",
       "    </tr>\n",
       "  </thead>\n",
       "  <tbody>\n",
       "    <tr>\n",
       "      <th>count</th>\n",
       "      <td>2356.000000</td>\n",
       "      <td>2.356000e+03</td>\n",
       "      <td>7.800000e+01</td>\n",
       "      <td>7.800000e+01</td>\n",
       "      <td>1.810000e+02</td>\n",
       "      <td>1.810000e+02</td>\n",
       "      <td>2356.000000</td>\n",
       "      <td>2356.000000</td>\n",
       "    </tr>\n",
       "    <tr>\n",
       "      <th>mean</th>\n",
       "      <td>1177.500000</td>\n",
       "      <td>7.427716e+17</td>\n",
       "      <td>7.455079e+17</td>\n",
       "      <td>2.014171e+16</td>\n",
       "      <td>7.720400e+17</td>\n",
       "      <td>1.241698e+16</td>\n",
       "      <td>13.126486</td>\n",
       "      <td>10.455433</td>\n",
       "    </tr>\n",
       "    <tr>\n",
       "      <th>std</th>\n",
       "      <td>680.262939</td>\n",
       "      <td>6.856705e+16</td>\n",
       "      <td>7.582492e+16</td>\n",
       "      <td>1.252797e+17</td>\n",
       "      <td>6.236928e+16</td>\n",
       "      <td>9.599254e+16</td>\n",
       "      <td>45.876648</td>\n",
       "      <td>6.745237</td>\n",
       "    </tr>\n",
       "    <tr>\n",
       "      <th>min</th>\n",
       "      <td>0.000000</td>\n",
       "      <td>6.660209e+17</td>\n",
       "      <td>6.658147e+17</td>\n",
       "      <td>1.185634e+07</td>\n",
       "      <td>6.661041e+17</td>\n",
       "      <td>7.832140e+05</td>\n",
       "      <td>0.000000</td>\n",
       "      <td>0.000000</td>\n",
       "    </tr>\n",
       "    <tr>\n",
       "      <th>25%</th>\n",
       "      <td>588.750000</td>\n",
       "      <td>6.783989e+17</td>\n",
       "      <td>6.757419e+17</td>\n",
       "      <td>3.086374e+08</td>\n",
       "      <td>7.186315e+17</td>\n",
       "      <td>4.196984e+09</td>\n",
       "      <td>10.000000</td>\n",
       "      <td>10.000000</td>\n",
       "    </tr>\n",
       "    <tr>\n",
       "      <th>50%</th>\n",
       "      <td>1177.500000</td>\n",
       "      <td>7.196279e+17</td>\n",
       "      <td>7.038708e+17</td>\n",
       "      <td>4.196984e+09</td>\n",
       "      <td>7.804657e+17</td>\n",
       "      <td>4.196984e+09</td>\n",
       "      <td>11.000000</td>\n",
       "      <td>10.000000</td>\n",
       "    </tr>\n",
       "    <tr>\n",
       "      <th>75%</th>\n",
       "      <td>1766.250000</td>\n",
       "      <td>7.993373e+17</td>\n",
       "      <td>8.257804e+17</td>\n",
       "      <td>4.196984e+09</td>\n",
       "      <td>8.203146e+17</td>\n",
       "      <td>4.196984e+09</td>\n",
       "      <td>12.000000</td>\n",
       "      <td>10.000000</td>\n",
       "    </tr>\n",
       "    <tr>\n",
       "      <th>max</th>\n",
       "      <td>2355.000000</td>\n",
       "      <td>8.924206e+17</td>\n",
       "      <td>8.862664e+17</td>\n",
       "      <td>8.405479e+17</td>\n",
       "      <td>8.874740e+17</td>\n",
       "      <td>7.874618e+17</td>\n",
       "      <td>1776.000000</td>\n",
       "      <td>170.000000</td>\n",
       "    </tr>\n",
       "  </tbody>\n",
       "</table>\n",
       "</div>"
      ],
      "text/plain": [
       "        Unnamed: 0      tweet_id  in_reply_to_status_id  in_reply_to_user_id  \\\n",
       "count  2356.000000  2.356000e+03           7.800000e+01         7.800000e+01   \n",
       "mean   1177.500000  7.427716e+17           7.455079e+17         2.014171e+16   \n",
       "std     680.262939  6.856705e+16           7.582492e+16         1.252797e+17   \n",
       "min       0.000000  6.660209e+17           6.658147e+17         1.185634e+07   \n",
       "25%     588.750000  6.783989e+17           6.757419e+17         3.086374e+08   \n",
       "50%    1177.500000  7.196279e+17           7.038708e+17         4.196984e+09   \n",
       "75%    1766.250000  7.993373e+17           8.257804e+17         4.196984e+09   \n",
       "max    2355.000000  8.924206e+17           8.862664e+17         8.405479e+17   \n",
       "\n",
       "       retweeted_status_id  retweeted_status_user_id  rating_numerator  \\\n",
       "count         1.810000e+02              1.810000e+02       2356.000000   \n",
       "mean          7.720400e+17              1.241698e+16         13.126486   \n",
       "std           6.236928e+16              9.599254e+16         45.876648   \n",
       "min           6.661041e+17              7.832140e+05          0.000000   \n",
       "25%           7.186315e+17              4.196984e+09         10.000000   \n",
       "50%           7.804657e+17              4.196984e+09         11.000000   \n",
       "75%           8.203146e+17              4.196984e+09         12.000000   \n",
       "max           8.874740e+17              7.874618e+17       1776.000000   \n",
       "\n",
       "       rating_denominator  \n",
       "count         2356.000000  \n",
       "mean            10.455433  \n",
       "std              6.745237  \n",
       "min              0.000000  \n",
       "25%             10.000000  \n",
       "50%             10.000000  \n",
       "75%             10.000000  \n",
       "max            170.000000  "
      ]
     },
     "execution_count": 261,
     "metadata": {},
     "output_type": "execute_result"
    }
   ],
   "source": [
    "# programmatic assessment enhanced tweets\n",
    "enhanced_tweets_original_df.describe()\n"
   ]
  },
  {
   "cell_type": "markdown",
   "metadata": {},
   "source": [
    "Using describe() on the enhanced_tweets df. \n",
    "\n",
    "Issues:\n",
    "- Some ratings are oddly high, like who is rated 1776 over 10? But as long as the numerators are greater than the denominators, then the rating is valid. Look for numerators less than denominators.\n",
    "- Why is there a denominator that is not 10 (is it 170)? Look for denominators less than 10."
   ]
  },
  {
   "cell_type": "code",
   "execution_count": 262,
   "metadata": {},
   "outputs": [
    {
     "name": "stdout",
     "output_type": "stream",
     "text": [
      "Number of floofers =  10\n"
     ]
    }
   ],
   "source": [
    "# closer look at floofer category\n",
    "is_floof_df = enhanced_tweets_original_df.loc[(enhanced_tweets_original_df['floofer'] == 'floofer')]\n",
    "x = is_floof_df.floofer.count()\n",
    "print('Number of floofers = ', x)\n",
    "\n",
    "# is_floof_df.head(10))\n"
   ]
  },
  {
   "cell_type": "markdown",
   "metadata": {},
   "source": [
    "Looking at the floofer column\n",
    "\n",
    "- There are only ten floofer dogs. \n",
    "- Only one of these ten dogs has another ranking label (doggo)"
   ]
  },
  {
   "cell_type": "code",
   "execution_count": 263,
   "metadata": {},
   "outputs": [
    {
     "name": "stdout",
     "output_type": "stream",
     "text": [
      "<class 'pandas.core.frame.DataFrame'>\n",
      "RangeIndex: 2075 entries, 0 to 2074\n",
      "Data columns (total 12 columns):\n",
      "tweet_id    2075 non-null int64\n",
      "jpg_url     2075 non-null object\n",
      "img_num     2075 non-null int64\n",
      "p1          2075 non-null object\n",
      "p1_conf     2075 non-null float64\n",
      "p1_dog      2075 non-null bool\n",
      "p2          2075 non-null object\n",
      "p2_conf     2075 non-null float64\n",
      "p2_dog      2075 non-null bool\n",
      "p3          2075 non-null object\n",
      "p3_conf     2075 non-null float64\n",
      "p3_dog      2075 non-null bool\n",
      "dtypes: bool(3), float64(3), int64(2), object(4)\n",
      "memory usage: 152.1+ KB\n"
     ]
    }
   ],
   "source": [
    "# programmatic assessment visual predictions df\n",
    "image_predictions_original_df.info()\n"
   ]
  },
  {
   "cell_type": "markdown",
   "metadata": {},
   "source": [
    "We don't need nine columns of predictions data. Keep p1, p1_dog, and drop the rest."
   ]
  },
  {
   "cell_type": "code",
   "execution_count": 264,
   "metadata": {},
   "outputs": [
    {
     "data": {
      "text/html": [
       "<div>\n",
       "<style scoped>\n",
       "    .dataframe tbody tr th:only-of-type {\n",
       "        vertical-align: middle;\n",
       "    }\n",
       "\n",
       "    .dataframe tbody tr th {\n",
       "        vertical-align: top;\n",
       "    }\n",
       "\n",
       "    .dataframe thead th {\n",
       "        text-align: right;\n",
       "    }\n",
       "</style>\n",
       "<table border=\"1\" class=\"dataframe\">\n",
       "  <thead>\n",
       "    <tr style=\"text-align: right;\">\n",
       "      <th></th>\n",
       "      <th>tweet_id</th>\n",
       "      <th>img_num</th>\n",
       "      <th>p1_conf</th>\n",
       "      <th>p2_conf</th>\n",
       "      <th>p3_conf</th>\n",
       "    </tr>\n",
       "  </thead>\n",
       "  <tbody>\n",
       "    <tr>\n",
       "      <th>count</th>\n",
       "      <td>2.075000e+03</td>\n",
       "      <td>2075.000000</td>\n",
       "      <td>2075.000000</td>\n",
       "      <td>2.075000e+03</td>\n",
       "      <td>2.075000e+03</td>\n",
       "    </tr>\n",
       "    <tr>\n",
       "      <th>mean</th>\n",
       "      <td>7.384514e+17</td>\n",
       "      <td>1.203855</td>\n",
       "      <td>0.594548</td>\n",
       "      <td>1.345886e-01</td>\n",
       "      <td>6.032417e-02</td>\n",
       "    </tr>\n",
       "    <tr>\n",
       "      <th>std</th>\n",
       "      <td>6.785203e+16</td>\n",
       "      <td>0.561875</td>\n",
       "      <td>0.271174</td>\n",
       "      <td>1.006657e-01</td>\n",
       "      <td>5.090593e-02</td>\n",
       "    </tr>\n",
       "    <tr>\n",
       "      <th>min</th>\n",
       "      <td>6.660209e+17</td>\n",
       "      <td>1.000000</td>\n",
       "      <td>0.044333</td>\n",
       "      <td>1.011300e-08</td>\n",
       "      <td>1.740170e-10</td>\n",
       "    </tr>\n",
       "    <tr>\n",
       "      <th>25%</th>\n",
       "      <td>6.764835e+17</td>\n",
       "      <td>1.000000</td>\n",
       "      <td>0.364412</td>\n",
       "      <td>5.388625e-02</td>\n",
       "      <td>1.622240e-02</td>\n",
       "    </tr>\n",
       "    <tr>\n",
       "      <th>50%</th>\n",
       "      <td>7.119988e+17</td>\n",
       "      <td>1.000000</td>\n",
       "      <td>0.588230</td>\n",
       "      <td>1.181810e-01</td>\n",
       "      <td>4.944380e-02</td>\n",
       "    </tr>\n",
       "    <tr>\n",
       "      <th>75%</th>\n",
       "      <td>7.932034e+17</td>\n",
       "      <td>1.000000</td>\n",
       "      <td>0.843855</td>\n",
       "      <td>1.955655e-01</td>\n",
       "      <td>9.180755e-02</td>\n",
       "    </tr>\n",
       "    <tr>\n",
       "      <th>max</th>\n",
       "      <td>8.924206e+17</td>\n",
       "      <td>4.000000</td>\n",
       "      <td>1.000000</td>\n",
       "      <td>4.880140e-01</td>\n",
       "      <td>2.734190e-01</td>\n",
       "    </tr>\n",
       "  </tbody>\n",
       "</table>\n",
       "</div>"
      ],
      "text/plain": [
       "           tweet_id      img_num      p1_conf       p2_conf       p3_conf\n",
       "count  2.075000e+03  2075.000000  2075.000000  2.075000e+03  2.075000e+03\n",
       "mean   7.384514e+17     1.203855     0.594548  1.345886e-01  6.032417e-02\n",
       "std    6.785203e+16     0.561875     0.271174  1.006657e-01  5.090593e-02\n",
       "min    6.660209e+17     1.000000     0.044333  1.011300e-08  1.740170e-10\n",
       "25%    6.764835e+17     1.000000     0.364412  5.388625e-02  1.622240e-02\n",
       "50%    7.119988e+17     1.000000     0.588230  1.181810e-01  4.944380e-02\n",
       "75%    7.932034e+17     1.000000     0.843855  1.955655e-01  9.180755e-02\n",
       "max    8.924206e+17     4.000000     1.000000  4.880140e-01  2.734190e-01"
      ]
     },
     "execution_count": 264,
     "metadata": {},
     "output_type": "execute_result"
    }
   ],
   "source": [
    "# programmatic assessment visual predictions df\n",
    "image_predictions_original_df.describe()\n"
   ]
  },
  {
   "cell_type": "markdown",
   "metadata": {},
   "source": [
    "I assume the confidence values to be between 0 and 1, so I'm not sure what's going on with the confidence values. Doesn't matter though, I'll delete most of these columns."
   ]
  },
  {
   "cell_type": "code",
   "execution_count": 265,
   "metadata": {
    "scrolled": true
   },
   "outputs": [
    {
     "data": {
      "text/html": [
       "<div>\n",
       "<style scoped>\n",
       "    .dataframe tbody tr th:only-of-type {\n",
       "        vertical-align: middle;\n",
       "    }\n",
       "\n",
       "    .dataframe tbody tr th {\n",
       "        vertical-align: top;\n",
       "    }\n",
       "\n",
       "    .dataframe thead th {\n",
       "        text-align: right;\n",
       "    }\n",
       "</style>\n",
       "<table border=\"1\" class=\"dataframe\">\n",
       "  <thead>\n",
       "    <tr style=\"text-align: right;\">\n",
       "      <th></th>\n",
       "      <th>tweet_id</th>\n",
       "      <th>favorites</th>\n",
       "      <th>retweets</th>\n",
       "    </tr>\n",
       "  </thead>\n",
       "  <tbody>\n",
       "    <tr>\n",
       "      <th>count</th>\n",
       "      <td>2.354000e+03</td>\n",
       "      <td>2354.000000</td>\n",
       "      <td>2354.000000</td>\n",
       "    </tr>\n",
       "    <tr>\n",
       "      <th>mean</th>\n",
       "      <td>7.426978e+17</td>\n",
       "      <td>8080.968564</td>\n",
       "      <td>3164.797366</td>\n",
       "    </tr>\n",
       "    <tr>\n",
       "      <th>std</th>\n",
       "      <td>6.852812e+16</td>\n",
       "      <td>11814.771334</td>\n",
       "      <td>5284.770364</td>\n",
       "    </tr>\n",
       "    <tr>\n",
       "      <th>min</th>\n",
       "      <td>6.660209e+17</td>\n",
       "      <td>0.000000</td>\n",
       "      <td>0.000000</td>\n",
       "    </tr>\n",
       "    <tr>\n",
       "      <th>25%</th>\n",
       "      <td>6.783975e+17</td>\n",
       "      <td>1415.000000</td>\n",
       "      <td>624.500000</td>\n",
       "    </tr>\n",
       "    <tr>\n",
       "      <th>50%</th>\n",
       "      <td>7.194596e+17</td>\n",
       "      <td>3603.500000</td>\n",
       "      <td>1473.500000</td>\n",
       "    </tr>\n",
       "    <tr>\n",
       "      <th>75%</th>\n",
       "      <td>7.993058e+17</td>\n",
       "      <td>10122.250000</td>\n",
       "      <td>3652.000000</td>\n",
       "    </tr>\n",
       "    <tr>\n",
       "      <th>max</th>\n",
       "      <td>8.924206e+17</td>\n",
       "      <td>132810.000000</td>\n",
       "      <td>79515.000000</td>\n",
       "    </tr>\n",
       "  </tbody>\n",
       "</table>\n",
       "</div>"
      ],
      "text/plain": [
       "           tweet_id      favorites      retweets\n",
       "count  2.354000e+03    2354.000000   2354.000000\n",
       "mean   7.426978e+17    8080.968564   3164.797366\n",
       "std    6.852812e+16   11814.771334   5284.770364\n",
       "min    6.660209e+17       0.000000      0.000000\n",
       "25%    6.783975e+17    1415.000000    624.500000\n",
       "50%    7.194596e+17    3603.500000   1473.500000\n",
       "75%    7.993058e+17   10122.250000   3652.000000\n",
       "max    8.924206e+17  132810.000000  79515.000000"
      ]
     },
     "execution_count": 265,
     "metadata": {},
     "output_type": "execute_result"
    }
   ],
   "source": [
    "# programmatic assessment tweet_columns\n",
    "# boolean = tweet_columns_original_df['tweet_id'].duplicated().any() # True\n",
    "# print(boolean)\n",
    "\n",
    "tweet_columns_original_df.describe()\n"
   ]
  },
  {
   "cell_type": "code",
   "execution_count": 266,
   "metadata": {},
   "outputs": [
    {
     "name": "stdout",
     "output_type": "stream",
     "text": [
      "<class 'pandas.core.frame.DataFrame'>\n",
      "RangeIndex: 2354 entries, 0 to 2353\n",
      "Data columns (total 4 columns):\n",
      "tweet_id     2354 non-null int64\n",
      "favorites    2354 non-null int64\n",
      "retweets     2354 non-null int64\n",
      "timestamp    2354 non-null object\n",
      "dtypes: int64(3), object(1)\n",
      "memory usage: 73.6+ KB\n"
     ]
    }
   ],
   "source": [
    "# info()\n",
    "tweet_columns_original_df.info()\n"
   ]
  },
  {
   "cell_type": "markdown",
   "metadata": {},
   "source": [
    "Favourites and retweets do not need to be float, no decimal values expected."
   ]
  },
  {
   "cell_type": "markdown",
   "metadata": {},
   "source": [
    "### Quality issues\n",
    "\n",
    "1. enhanced tweets: retweets in table unneeded for analysis (completeness). \n",
    "\n",
    "2. all tables: also unneeded for analysis are the retweeted tweets columns in the enhanced tweets table, the multiple prediction columns in the image predictions table, and the timestamp column in the tweet columns table.\n",
    "\n",
    "3. column names are opaque or ugly: timestamp_x', 'p1', and 'p1_dog'.\n",
    "\n",
    "4. enhanced tweets: some tweets lack dog ratings (completeness) \n",
    "\n",
    "5. enhanced tweets: look for numerators less than denominators in ratings (accuracy)\n",
    "\n",
    "6. enhanced tweets: look for denominators less than 10 (accuracy)\n",
    "\n",
    "7. enhanced tweets: some tweets lack dog name (completeness)\n",
    "\n",
    "8. enhanced tweets: some tweets have invalid dog name (validity)\n",
    "\n",
    "9. enhanced tweets: tweet id datatype is int64, however these are unique and do not require calculation (consistency)\n",
    "\n",
    "10. enhanced tweets: ratings columns should be float to allow decimals and later analysis. (consistency)\n",
    "\n",
    "11. enhanced tweets: timestamp datatype is not datetime (consistency)\n",
    "\n",
    "12. tweet columns: favorites and retweets datatypes are float, should be int (consistency)\n"
   ]
  },
  {
   "cell_type": "markdown",
   "metadata": {
    "extensions": {
     "jupyter_dashboards": {
      "version": 1,
      "views": {
       "grid_default": {
        "col": 0,
        "height": 7,
        "hidden": false,
        "row": 40,
        "width": 12
       },
       "report_default": {
        "hidden": false
       }
      }
     }
    }
   },
   "source": [
    "### Tidiness issues\n",
    "\n",
    "1. image predictions: three separate columns of dog rankings (variable does not form a single column)\n",
    "\n",
    "2. image predictions: a merged dog rank column shows some dogs have a double-ranking (single value per cell) \n"
   ]
  },
  {
   "cell_type": "markdown",
   "metadata": {
    "extensions": {
     "jupyter_dashboards": {
      "version": 1,
      "views": {
       "grid_default": {
        "col": 4,
        "height": 4,
        "hidden": false,
        "row": 32,
        "width": 4
       },
       "report_default": {
        "hidden": false
       }
      }
     }
    }
   },
   "source": [
    "## Cleaning Data\n",
    "In this section, clean **all** of the issues you documented while assessing. \n",
    "\n",
    "**Note:** Make a copy of the original data before cleaning. Cleaning includes merging individual pieces of data according to the rules of [tidy data](https://cran.r-project.org/web/packages/tidyr/vignettes/tidy-data.html). The result should be a high-quality and tidy master pandas DataFrame (or DataFrames, if appropriate)."
   ]
  },
  {
   "cell_type": "code",
   "execution_count": 267,
   "metadata": {},
   "outputs": [
    {
     "name": "stdout",
     "output_type": "stream",
     "text": [
      "Enhanced tweets df row count:  2356 \n",
      "\n",
      "Image prediction df row count:  2354 \n",
      "\n",
      "Tweet columns row count:  2075 \n",
      "\n",
      "Merged master df row count:  2073\n"
     ]
    }
   ],
   "source": [
    "# make a copy of the original data before cleaning\n",
    "enhanced_tweets_df = enhanced_tweets_original_df.copy()\n",
    "image_predictions_df = image_predictions_original_df.copy()\n",
    "tweet_columns_df = tweet_columns_original_df.copy()\n",
    "\n",
    "# merge dataframes keeping all rows in all frames\n",
    "master_original_df = enhanced_tweets_df.merge(tweet_columns_df, on = ['tweet_id'],how = 'inner').merge(image_predictions_df,  on = ['tweet_id'], how = 'inner')\n",
    "\n",
    "a = enhanced_tweets_df.tweet_id.count()\n",
    "b = tweet_columns_df.tweet_id.count()\n",
    "c = image_predictions_df.tweet_id.count()\n",
    "\n",
    "# just to be triple-sure to keep original data\n",
    "master_df = master_original_df.copy()\n",
    "z = master_df.tweet_id.nunique()\n",
    "\n",
    "print('Enhanced tweets df row count: ', a,\n",
    "      '\\n\\nImage prediction df row count: ', b, \n",
    "      '\\n\\nTweet columns row count: ', c,\n",
    "      '\\n\\nMerged master df row count: ', z)\n"
   ]
  },
  {
   "cell_type": "markdown",
   "metadata": {},
   "source": [
    "### Issue #1: Tweets that are retweets are not needed for this analysis."
   ]
  },
  {
   "cell_type": "markdown",
   "metadata": {},
   "source": [
    "#### Define: Tweets that are retweets are not needed for this analysis, so any rows that hold tweets that are retweets should be dropped. The columns with info about tweets that are retweets should be then dropped. "
   ]
  },
  {
   "cell_type": "markdown",
   "metadata": {},
   "source": [
    "#### Code"
   ]
  },
  {
   "cell_type": "code",
   "execution_count": 268,
   "metadata": {},
   "outputs": [],
   "source": [
    "# drop any rows with a value in the 'retweeted' column\n",
    "master_df_1 = master_df.drop(master_df.dropna(subset = ['retweeted_status_id']).index).copy()\n"
   ]
  },
  {
   "cell_type": "markdown",
   "metadata": {},
   "source": [
    "#### Test: count tweets that were retweets."
   ]
  },
  {
   "cell_type": "code",
   "execution_count": 269,
   "metadata": {
    "scrolled": true
   },
   "outputs": [
    {
     "name": "stdout",
     "output_type": "stream",
     "text": [
      "0 1994\n"
     ]
    }
   ],
   "source": [
    "#enhanced_tweets_df_1.retweeted_status_id.isnull().sum()\n",
    "x = master_df_1.retweeted_status_id.count()\n",
    "y = master_df_1.tweet_id.count()\n",
    "print(x, y)\n"
   ]
  },
  {
   "cell_type": "code",
   "execution_count": 270,
   "metadata": {},
   "outputs": [],
   "source": [
    "# make a frame to run from so you don't have to regenerate from the original master\n",
    "master_df_2 = master_df_1.copy()\n"
   ]
  },
  {
   "cell_type": "markdown",
   "metadata": {},
   "source": [
    "### Issue #2: Columns not needed for analysis"
   ]
  },
  {
   "cell_type": "markdown",
   "metadata": {},
   "source": [
    "#### Define: drop the columns with info about retweeted tweets, drop 'in_reply_to_status_id', 'in_reply_to_user_id', 'timestamp_y', 'source', 'retweeted_status_user_id', 'retweeted_status_timestamp', 'p1_conf', 'p2', 'p2_conf', 'p2_dog', 'p3', 'p3_conf', and 'p3_dog'."
   ]
  },
  {
   "cell_type": "markdown",
   "metadata": {},
   "source": [
    "#### Code"
   ]
  },
  {
   "cell_type": "code",
   "execution_count": 271,
   "metadata": {},
   "outputs": [
    {
     "name": "stdout",
     "output_type": "stream",
     "text": [
      "<class 'pandas.core.frame.DataFrame'>\n",
      "Int64Index: 1994 entries, 0 to 2072\n",
      "Data columns (total 31 columns):\n",
      "Unnamed: 0                    1994 non-null int64\n",
      "tweet_id                      1994 non-null int64\n",
      "in_reply_to_status_id         23 non-null float64\n",
      "in_reply_to_user_id           23 non-null float64\n",
      "timestamp_x                   1994 non-null object\n",
      "source                        1994 non-null object\n",
      "text                          1994 non-null object\n",
      "retweeted_status_user_id      0 non-null float64\n",
      "retweeted_status_timestamp    0 non-null object\n",
      "expanded_urls                 1994 non-null object\n",
      "rating_numerator              1994 non-null int64\n",
      "rating_denominator            1994 non-null int64\n",
      "name                          1994 non-null object\n",
      "doggo                         1994 non-null object\n",
      "floofer                       1994 non-null object\n",
      "pupper                        1994 non-null object\n",
      "puppo                         1994 non-null object\n",
      "favorites                     1994 non-null int64\n",
      "retweets                      1994 non-null int64\n",
      "timestamp_y                   1994 non-null object\n",
      "jpg_url                       1994 non-null object\n",
      "img_num                       1994 non-null int64\n",
      "p1                            1994 non-null object\n",
      "p1_conf                       1994 non-null float64\n",
      "p1_dog                        1994 non-null bool\n",
      "p2                            1994 non-null object\n",
      "p2_conf                       1994 non-null float64\n",
      "p2_dog                        1994 non-null bool\n",
      "p3                            1994 non-null object\n",
      "p3_conf                       1994 non-null float64\n",
      "p3_dog                        1994 non-null bool\n",
      "dtypes: bool(3), float64(6), int64(7), object(15)\n",
      "memory usage: 457.6+ KB\n"
     ]
    }
   ],
   "source": [
    "# drop retweeted_status_id column now you don't need it\n",
    "master_df_2 = master_df_2.drop(['retweeted_status_id'], axis = 1)\n",
    "# take a quick look to see it's gone\n",
    "master_df_2.info()\n"
   ]
  },
  {
   "cell_type": "code",
   "execution_count": 272,
   "metadata": {},
   "outputs": [],
   "source": [
    "# drop extra columns while you're at it\n",
    "# drop columns\n",
    "master_df_2 = master_df_2.drop(['in_reply_to_status_id', 'in_reply_to_user_id', 'timestamp_y', 'source', 'retweeted_status_user_id', 'retweeted_status_timestamp', 'p1_conf', 'p2', 'p2_conf', 'p2_dog', 'p3', 'p3_conf', 'p3_dog'], axis = 1)\n",
    "master_df_2 = master_df_2.drop(master_df_2.columns[0], axis=1)\n"
   ]
  },
  {
   "cell_type": "markdown",
   "metadata": {},
   "source": [
    "#### Test: info() will show columns in dataframe."
   ]
  },
  {
   "cell_type": "code",
   "execution_count": 273,
   "metadata": {},
   "outputs": [
    {
     "name": "stdout",
     "output_type": "stream",
     "text": [
      "<class 'pandas.core.frame.DataFrame'>\n",
      "Int64Index: 1994 entries, 0 to 2072\n",
      "Data columns (total 17 columns):\n",
      "tweet_id              1994 non-null int64\n",
      "timestamp_x           1994 non-null object\n",
      "text                  1994 non-null object\n",
      "expanded_urls         1994 non-null object\n",
      "rating_numerator      1994 non-null int64\n",
      "rating_denominator    1994 non-null int64\n",
      "name                  1994 non-null object\n",
      "doggo                 1994 non-null object\n",
      "floofer               1994 non-null object\n",
      "pupper                1994 non-null object\n",
      "puppo                 1994 non-null object\n",
      "favorites             1994 non-null int64\n",
      "retweets              1994 non-null int64\n",
      "jpg_url               1994 non-null object\n",
      "img_num               1994 non-null int64\n",
      "p1                    1994 non-null object\n",
      "p1_dog                1994 non-null bool\n",
      "dtypes: bool(1), int64(6), object(10)\n",
      "memory usage: 266.8+ KB\n"
     ]
    }
   ],
   "source": [
    "master_df_2.info()\n"
   ]
  },
  {
   "cell_type": "code",
   "execution_count": 274,
   "metadata": {},
   "outputs": [],
   "source": [
    "# make a frame to run from so you don't have to regenerate from the original master\n",
    "master_df_3 = master_df_2.copy()\n"
   ]
  },
  {
   "cell_type": "markdown",
   "metadata": {},
   "source": [
    "### Issue #3: Rename column names for easier analysis. "
   ]
  },
  {
   "cell_type": "markdown",
   "metadata": {},
   "source": [
    "#### Define: change the following column names 'timestamp_x' to 'timestamp', 'p1' to 'predicted_breed', and 'p1_dog' to 'dog'."
   ]
  },
  {
   "cell_type": "markdown",
   "metadata": {},
   "source": [
    "#### Code"
   ]
  },
  {
   "cell_type": "code",
   "execution_count": 275,
   "metadata": {},
   "outputs": [],
   "source": [
    "master_df_3.rename(columns = {'timestamp_x':'timestamp', 'p1':'predicted_breed', 'p1_dog': 'dog'}, inplace = True)\n"
   ]
  },
  {
   "cell_type": "markdown",
   "metadata": {},
   "source": [
    "#### Test: info() will show column names."
   ]
  },
  {
   "cell_type": "code",
   "execution_count": 276,
   "metadata": {},
   "outputs": [
    {
     "name": "stdout",
     "output_type": "stream",
     "text": [
      "<class 'pandas.core.frame.DataFrame'>\n",
      "Int64Index: 1994 entries, 0 to 2072\n",
      "Data columns (total 17 columns):\n",
      "tweet_id              1994 non-null int64\n",
      "timestamp             1994 non-null object\n",
      "text                  1994 non-null object\n",
      "expanded_urls         1994 non-null object\n",
      "rating_numerator      1994 non-null int64\n",
      "rating_denominator    1994 non-null int64\n",
      "name                  1994 non-null object\n",
      "doggo                 1994 non-null object\n",
      "floofer               1994 non-null object\n",
      "pupper                1994 non-null object\n",
      "puppo                 1994 non-null object\n",
      "favorites             1994 non-null int64\n",
      "retweets              1994 non-null int64\n",
      "jpg_url               1994 non-null object\n",
      "img_num               1994 non-null int64\n",
      "predicted_breed       1994 non-null object\n",
      "dog                   1994 non-null bool\n",
      "dtypes: bool(1), int64(6), object(10)\n",
      "memory usage: 266.8+ KB\n"
     ]
    }
   ],
   "source": [
    "master_df_3.info()\n"
   ]
  },
  {
   "cell_type": "code",
   "execution_count": 277,
   "metadata": {},
   "outputs": [],
   "source": [
    "# make a frame to run from so you don't have to regenerate from the original master\n",
    "master_df_4 = master_df_3.copy()\n"
   ]
  },
  {
   "cell_type": "markdown",
   "metadata": {},
   "source": [
    "### Issue #4: Some tweets lack dog ratings (completeness)\n"
   ]
  },
  {
   "cell_type": "markdown",
   "metadata": {
    "collapsed": true,
    "extensions": {
     "jupyter_dashboards": {
      "version": 1,
      "views": {
       "grid_default": {
        "hidden": true
       },
       "report_default": {
        "hidden": true
       }
      }
     }
    }
   },
   "source": [
    "#### Define: some tweets don't include ratings for dogs. Remove them."
   ]
  },
  {
   "cell_type": "markdown",
   "metadata": {},
   "source": [
    "#### Code "
   ]
  },
  {
   "cell_type": "code",
   "execution_count": 278,
   "metadata": {},
   "outputs": [
    {
     "data": {
      "text/plain": [
       "10     1976\n",
       "50        3\n",
       "80        2\n",
       "11        2\n",
       "170       1\n",
       "150       1\n",
       "130       1\n",
       "120       1\n",
       "110       1\n",
       "90        1\n",
       "70        1\n",
       "40        1\n",
       "20        1\n",
       "7         1\n",
       "2         1\n",
       "Name: rating_denominator, dtype: int64"
      ]
     },
     "execution_count": 278,
     "metadata": {},
     "output_type": "execute_result"
    }
   ],
   "source": [
    "# what are the rating denominators?\n",
    "master_df_4['rating_denominator'].value_counts()\n"
   ]
  },
  {
   "cell_type": "code",
   "execution_count": 279,
   "metadata": {},
   "outputs": [
    {
     "data": {
      "text/plain": [
       "12      450\n",
       "10      419\n",
       "11      396\n",
       "13      261\n",
       "9       151\n",
       "8        95\n",
       "7        52\n",
       "14       35\n",
       "5        33\n",
       "6        32\n",
       "3        19\n",
       "4        16\n",
       "2         9\n",
       "1         5\n",
       "0         2\n",
       "420       1\n",
       "24        1\n",
       "1776      1\n",
       "27        1\n",
       "44        1\n",
       "45        1\n",
       "50        1\n",
       "60        1\n",
       "75        1\n",
       "80        1\n",
       "84        1\n",
       "88        1\n",
       "99        1\n",
       "121       1\n",
       "143       1\n",
       "144       1\n",
       "165       1\n",
       "204       1\n",
       "26        1\n",
       "Name: rating_numerator, dtype: int64"
      ]
     },
     "execution_count": 279,
     "metadata": {},
     "output_type": "execute_result"
    }
   ],
   "source": [
    "# what are the rating numerators?\n",
    "master_df_4['rating_numerator'].value_counts()\n"
   ]
  },
  {
   "cell_type": "markdown",
   "metadata": {},
   "source": [
    "No denominators are zero, but a couple of numerators are zero. Investigation necessary."
   ]
  },
  {
   "cell_type": "code",
   "execution_count": 280,
   "metadata": {},
   "outputs": [
    {
     "name": "stdout",
     "output_type": "stream",
     "text": [
      "835152434251116546 When you're so blinded by your systematic plagiarism that you forget what day it is. 0/10 https://t.co/YbEJPkg4Ag 0 10\n",
      "746906459439529985 PUPDATE: can't see any. Even if I could, I couldn't reach them to pet. 0/10 much disappointment https://t.co/c7WXaB2nqX 0 10\n"
     ]
    }
   ],
   "source": [
    "# which don't have ratings?\n",
    "master_df_no_num = master_df_4[(master_df_4['rating_numerator'] == 0)]\n",
    "\n",
    "x = master_df_no_num\n",
    "\n",
    "# loop through these and show text, rating, and tweet id:    \n",
    "for tweet_id, text, rating_numerator, rating_denominator in zip(x['tweet_id'], \\\n",
    "                                                                x['text'], \\\n",
    "                                                                x['rating_numerator'], \\\n",
    "                                                                x['rating_denominator']):\n",
    "    print(tweet_id, text, rating_numerator, rating_denominator)"
   ]
  },
  {
   "cell_type": "markdown",
   "metadata": {},
   "source": [
    "These two rows do have ratings, but they do not contain dogs, so they will not be included in the analysis. I will remove the ratings for validity because they are not ratings of dogs (although they are ratings)."
   ]
  },
  {
   "cell_type": "code",
   "execution_count": 281,
   "metadata": {},
   "outputs": [],
   "source": [
    "# remove rating\n",
    "master_df_4.loc[master_df_4.tweet_id == 835152434251116546, 'rating_denominator'] = 0\n",
    "master_df_4.loc[master_df_4.tweet_id == 746906459439529985, 'rating_denominator'] = 0\n",
    "master_df_4.loc[master_df_4.tweet_id == 835152434251116546, 'rating_numerator'] = 0\n",
    "master_df_4.loc[master_df_4.tweet_id == 746906459439529985, 'rating_numerator'] = 0"
   ]
  },
  {
   "cell_type": "markdown",
   "metadata": {},
   "source": [
    "#### Test: Check that only two ratings are now NaN."
   ]
  },
  {
   "cell_type": "code",
   "execution_count": 282,
   "metadata": {},
   "outputs": [
    {
     "name": "stdout",
     "output_type": "stream",
     "text": [
      "1992 1994\n"
     ]
    }
   ],
   "source": [
    "# look for ratings with a numerator of 0\n",
    "master_df_4['dog_rating'] = master_df_4['rating_numerator'] / master_df_4['rating_denominator']\n",
    "\n",
    "x = master_df_4[\"dog_rating\"].count()\n",
    "y = master_df_4[\"tweet_id\"].count()\n",
    "print(x, y)"
   ]
  },
  {
   "cell_type": "code",
   "execution_count": 283,
   "metadata": {},
   "outputs": [],
   "source": [
    "# get a frame to work from\n",
    "master_df_5 = master_df_4.copy()"
   ]
  },
  {
   "cell_type": "markdown",
   "metadata": {},
   "source": [
    "### Issue #5:  Numerators less than denominators"
   ]
  },
  {
   "cell_type": "markdown",
   "metadata": {
    "collapsed": true,
    "extensions": {
     "jupyter_dashboards": {
      "version": 1,
      "views": {
       "grid_default": {
        "hidden": true
       },
       "report_default": {
        "hidden": true
       }
      }
     }
    }
   },
   "source": [
    "#### Define: Some ratings have a denominator of at least 10 and a numerators should be greater than 10. I thought that the conceit of the dataset is that ratings are 10/10 or above, investigate."
   ]
  },
  {
   "cell_type": "markdown",
   "metadata": {},
   "source": [
    "#### Code"
   ]
  },
  {
   "cell_type": "code",
   "execution_count": 284,
   "metadata": {},
   "outputs": [
    {
     "name": "stdout",
     "output_type": "stream",
     "text": [
      "883482846933004288 This is Bella. She hopes her smile made you smile. If not, she is also offering you her favorite monkey. 13.5/10 https://t.co/qjrljjt948 5 10 True\n",
      "848212111729840128 This is Jerry. He's doing a distinguished tongue slip. Slightly patronizing tbh. You think you're better than us, Jerry? 6/10 hold me back https://t.co/DkOBbwulw1 6 10 True\n",
      "781661882474196992 Who keeps sending in pictures without dogs in them? This needs to stop. 5/10 for the mediocre road https://t.co/ELqelxWMrC 5 10 True\n",
      "777885040357281792 This is Wesley. He's clearly trespassing. Seems rather h*ckin violent too. Weaponized forehead. 3/10 wouldn't let in https://t.co/pL7wbMRW7M 3 10 True\n",
      "771014301343748096 Another pic without a dog in it? What am I supposed to do? Rate the carpet? Fine I will. 7/10 looks adequately comfy https://t.co/OJZQ6I4gGd 7 10 False\n",
      "768193404517830656 Meet Gerald. He's a fairly exotic doggo. Floofy af. Inadequate knees tho. Self conscious about large forehead. 8/10 https://t.co/WmczvjCWJq 8 10 False\n",
      "766423258543644672 This is Shadoe. Her tongue flies out of her mouth at random. Can't have a serious conversation with her. 9/10 https://t.co/Tytt15VquG 9 10 True\n",
      "763183847194451968 This is Clark. He collects teddy bears. It's absolutely h*ckin horrifying. 8/10 please stop this Clark https://t.co/EDMcwt86fU 8 10 True\n",
      "760252756032651264 This is Fido. He can tell the weather. Not good at fetch tho. Never comes when called. 4/10 would probably still pet https://t.co/4gOv2Q3iKP 4 10 False\n",
      "759099523532779520 Meet Toby. He has a drinking problem. Inflatable marijuana plant in the back is also not a good look. 7/10 cmon Toby https://t.co/Cim4DSj6Oi 7 10 True\n",
      "758041019896193024 Teagan reads entire books in store so they're free. Loved 50 Shades of Grey (how dare I make that joke so late) 9/10 https://t.co/l46jwv5WYv 9 10 False\n",
      "757596066325864448 Here's another picture without a dog in it. Idk why you guys keep sending these. 4/10 just because that's a neat rug https://t.co/mOmnL19Wsl 4 10 False\n",
      "757354760399941633 This is DevÃÂ³n (pronounced \"Eric\"). He forgot how to eat the apple halfway through. Wtf DevÃÂ³n get it together. 8/10 https://t.co/7waRPODGyO 8 10 True\n",
      "753375668877008896 This is Hank. He's mischievous af. Doesn't even know what he was trying to do here. 8/10 quit the shit Hank damn https://t.co/3r7wjfsXHc 8 10 True\n",
      "752334515931054080 Here's a doggo trying to catch some fish. 8/10 futile af (vid by @KellyBauerx) https://t.co/jwd0j6oWLE 8 10 True\n",
      "751583847268179968 Please stop sending it pictures that don't even have a doggo or pupper in them. Churlish af. 5/10 neat couch tho https://t.co/u2c9c7qSg8 5 10 True\n",
      "750506206503038976 This is Malcolm. He's absolutely terrified of heights. 8/10 hang in there pupper https://t.co/SVU00Sc9U2 8 10 False\n",
      "750383411068534784 This is Zoe. She was trying to stealthily take a picture of you but you just noticed. 9/10 not so sneaky pupper https://t.co/FfH3o88Vta 9 10 True\n",
      "749036806121881602 This is Dietrich. He hops at random. Other doggos don't understand him. It upsets him greatly. 8/10 would comfort https://t.co/U8cSRz8wzC 8 10 False\n",
      "748575535303884801 This is one of the most reckless puppers I've ever seen. How she got a license in the first place is beyond me. 6/10 https://t.co/z5bAdtn9kd 6 10 False\n",
      "748307329658011649 This sherk must've leapt out of the water and into the canoe, trapping the human. Won't even help paddle smh. 7/10 https://t.co/KubWEqOIgO 7 10 False\n",
      "747885874273214464 This is a mighty rare blue-tailed hammer sherk. Human almost lost a limb trying to take these. Be careful guys. 8/10 https://t.co/TGenMeXreW 8 10 True\n",
      "747816857231626240 Viewer discretion is advised. This is a terrible attack in progress. Not even in water (tragic af). 4/10 bad sherk https://t.co/L3U0j14N5R 4 10 True\n",
      "746369468511756288 This is an Iraqi Speed Kangaroo. It is not a dog. Please only send in dogs. I'm very angry with all of you ...9/10 https://t.co/5qpBTTpgUt 9 10 True\n",
      "745712589599014916 This is Percy. He fell asleep at the wheel. Irresponsible af. 7/10 absolute menace on the roadway https://t.co/QHbvtvaw8E 7 10 False\n",
      "745422732645535745 We only rate dogs. Pls stop sending in non-canines like this Jamaican Flop Seal. This is very very frustrating. 9/10 https://t.co/nc53zEN0hZ 9 10 True\n",
      "744995568523612160 This is Abby. She got her face stuck in a glass. Churlish af. 9/10 rookie move puppo https://t.co/2FPb45NXrK 9 10 True\n",
      "743595368194129920 This is Harold. He looks slippery af. Probably difficult to hug. Would still try tho. 7/10 great with kids I bet https://t.co/EVuqdEO66N 7 10 False\n",
      "742150209887731712 This is Edmund. He sends stellar selfies. Cute af. 8/10 would totally snapchat with this pupper https://t.co/PprXoqZuKY 8 10 False\n",
      "741438259667034112 This is Tucker. He's still figuring out couches. 9/10 keep your head up pup https://t.co/pXU77HPbJ5 9 10 True\n",
      "740711788199743490 Here we are witnessing the touchdown of a pupnado. It's not funny it's actually very deadly. 9/10 might still pet https://t.co/CmLoKMbOHv 9 10 True\n",
      "740699697422163968 This is Chip. He only mowed half the yard. 8/10 quit the shit Chip we have other things to do https://t.co/LjzZKQ7vmK 8 10 False\n",
      "740373189193256964 After so many requests, this is Bretagne. She was the last surviving 9/11 search dog, and our second ever 14/10. RIP https://t.co/XAVDNDaVgQ 9 11 True\n",
      "740359016048689152 This is Chase. He's in a predicament. 9/10 help is on the way buddy https://t.co/0HmBk5sSbW 9 10 True\n",
      "739606147276148736 Meet Benji. He just turned 1. Has already given up on a traditional pupper physique. Just inhaled that thing. 9/10 https://t.co/sLUC4th3Zj 9 10 True\n",
      "739485634323156992 This is Kyle. He's a heavy drinker and an avid pot user. Just wants to be pupular. 6/10 I can't support this Kyle https://t.co/rRULp7XFnO 6 10 True\n",
      "738184450748633089 For the last time, we only rate dogs. Pls stop sending other animals like this Duck-Billed Platypus. Thank you. 9/10 https://t.co/twxYcPOafl 9 10 True\n",
      "737322739594330112 Say hello to Lily. She's not injured or anything. Just wants everyone to hear her. 9/10 clever af https://t.co/3xqGVH0Dhw 9 10 False\n",
      "735256018284875776 This is Kellogg. He accidentally opened the front facing camera. 8/10 get it together doggo https://t.co/MRYv7nDPyS 8 10 True\n",
      "735137028879360001 Meet Buckley. His family &amp; some neighbors came over to watch him perform but he's nervous af. 9/10 u got this pupper https://t.co/5bdCpPlno9 9 10 True\n",
      "730924654643314689 We only rate dogs. Pls stop sending non-canines like this Bulgarian Eyeless Porch Bear. This is unacceptable... 9/10 https://t.co/2yctWAUZ3Z 9 10 False\n",
      "730196704625098752 This is Charles. He's camera shy. Tail longer than average. Doesn't look overwhelmingly fluffy. 6/10 would still pet https://t.co/rXvcElhoog 6 10 False\n",
      "728653952833728512 This is Coleman. Somebody needs to tell him that he's sitting in chairs wrong. 8/10 https://t.co/O10zjJ2Ixs 8 10 False\n",
      "727286334147182592 I swear to god if we get sent another Blue Madagascan Peacock we'll deactivate. We Ã°ÂÂÂ Only Ã°ÂÂÂ Rate Ã°ÂÂÂ Dogs... 9/10 https://t.co/bbta2Q4URK 9 10 False\n",
      "726224900189511680 I'm getting super heckin frustrated with you all sending in non canines like this ostrich. We only rate dogs... 9/10 https://t.co/Rgbni2Ns8z 9 10 True\n",
      "723179728551723008 This is Jangle. She's addicted to broccoli. It's the only thing she cares about. Tragic af. 8/10 get help pup https://t.co/8dNWp1cSEa 8 10 False\n",
      "722974582966214656 Happy 4/20 from the squad! 13/10 for all https://t.co/eV1diwds8a 4 20 True\n",
      "720059472081784833 This is Charleson. He lost his plunger. Looked everywhere. Can't find it. So sad. 9/10 would comfort https://t.co/pRHX8yn9Yu 9 10 True\n",
      "718460005985447936 Meet Bowie. He's listening for underground squirrels. Smart af. Left eye is considerably magical. 9/10 would so pet https://t.co/JyNmyjy3fe 9 10 False\n",
      "718246886998687744 This is Alexanderson. He's got a weird ass birth mark. Dreadful at fetch. Won't eat kibble. 3/10 wtf @Target https://t.co/FmxOpf2Sgl 3 10 True\n",
      "717421804990701568 This is Ebby. She's a Zimbabwean Feta. Embarrassed by ridiculously squishy face. 9/10 would squeeze softly https://t.co/LBJqxMGaHi 9 10 True\n",
      "714982300363173890 This is Calbert. He forgot to clear his Google search history. 9/10 rookie mistake Calbert https://t.co/jRm5J3YCmj 9 10 True\n",
      "714631576617938945 This is Benedict. He's a feisty pup. Needs a brushing. Portable af. Looks very angry actually. 4/10 might not pet https://t.co/3oeFfHjv0Z 4 10 False\n",
      "714251586676113411 This is Thumas. He hates potted plants. 8/10 wtf Thumas https://t.co/rDVueNIcEi 8 10 True\n",
      "712092745624633345 This is Steven. He's inverted af. Also very helpful. Scans anything you want for free. Takes him a while tho. 7/10 https://t.co/tA0ZiQ7JcG 7 10 False\n",
      "712065007010385924 This is Chester. He's clearly in charge of the other dogs. Weird ass paws. Not fit for fetch. 6/10 would still pet https://t.co/o2GvskrhHt 6 10 False\n",
      "711652651650457602 This is Gary. He just wanted to say hi. 9/10 very personable pup https://t.co/Sk3CbhmKSW 9 10 False\n",
      "711306686208872448 What hooligan sent in pictures w/out a dog in them? Churlish af. 3/10 just bc that's a neat fluffy bean bag chair https://t.co/wcwoGOkZvz 3 10 False\n",
      "710140971284037632 This is Tater. His underbite is fierce af. Doesn't give a damn about your engagement photo. 8/10 https://t.co/nLuPY3pY12 8 10 True\n",
      "709519240576036864 This is Vince. He's a Gregorian Flapjeck. White spot on legs almost looks like another dog (whoa). 9/10 rad as hell https://t.co/aczGAV2dK4 9 10 True\n",
      "709409458133323776 This is Billy. He sensed a squirrel. 8/10 damn it Billy https://t.co/Yu0K98VZ9A 8 10 True\n",
      "709198395643068416 From left to right:\n",
      "Cletus, Jerome, Alejandro, Burp, &amp; Titson\n",
      "None know where camera is. 45/50 would hug all at once https://t.co/sedre1ivTK 45 50 True\n",
      "709042156699303936 This is Klevin. He's addicted to sandwiches (yes a hotdog is a sandwich fight me) It's tearing his family apart 9/10 https://t.co/7BkkVNu5pd 9 10 False\n",
      "708845821941387268 Here's a pupper with magic eyes. Not wearing a seat belt tho (irresponsible af). Very distracting to driver. 9/10 https://t.co/5DLJB4ssvI 9 10 True\n",
      "708119489313951744 This is Cooper. He basks in the glory of rebellion. 9/10 probably a preteen https://t.co/kDamUfeIpm 9 10 True\n",
      "707693576495472641 This is Jiminus. He's in a tub for some reason. What a jokester. Smh 7/10 churlish af https://t.co/84L4ED9Tpi 7 10 False\n",
      "707420581654872064 This is Keurig. He's a rare dog. Laughs like an idiot tho. Head is basically a weapon. Poorly maintained goatee 4/10 https://t.co/xOrUyj7K30 4 10 False\n",
      "707377100785885184 This dog just brutally murdered a snowman. Currently toying with its nutritious remains 9/10 would totally still pet https://t.co/iKThgKnW1j 9 10 True\n",
      "706901761596989440 This is Elliot. He's blocking the roadway. Downright rude as hell. Doesn't care that you're already late. 3/10 https://t.co/FMUxir5pYu 3 10 False\n",
      "706644897839910912 Meet Shadow. She's tired of the responsibilities associated with being a dog. No longer strives to attain ball. 9/10 https://t.co/cdOkfEpjFw 9 10 False\n",
      "706166467411222528 This is Dexter. He's a shy pup. Doesn't bark much. Dreadful fetcher. Has rare sun allergy. 7/10 still petable https://t.co/sA7P3JSqiv 7 10 True\n",
      "705223444686888960 This is Bode. He's a heavy sleeper. 9/10 https://t.co/YMkxhGWUqv 9 10 False\n",
      "704819833553219584 This is Chesterson. He's a Bolivian Scoop Dog. Incredibly portable. Can't bark for shit tho. 7/10 would still pet https://t.co/EatAd8JhyW 7 10 False\n",
      "704113298707505153 Meet Stanley. He's an inverted Uzbekistani water pup. Hella exotic. Floats around all day. 8/10 I want to be Stanley https://t.co/XpYMBQ1FD8 8 10 False\n",
      "703425003149250560 Really guys? Again? I know this is a rare Albanian Bingo Seal, but we only rate dogs. Only send in dogs... 9/10 https://t.co/6JYLpUmBrC 9 10 True\n",
      "703356393781329922 This is Socks. That water pup w the super legs just splashed him. Socks did not appreciate that. 9/10 and 2/10 https://t.co/8rc5I22bBf 9 10 True\n",
      "702932127499816960 This is Chip. He's an Upper West Nile Pantaloon. Extremely deadly. Will rip your throat out. 6/10 might still pet https://t.co/LUFnwzznaV 6 10 False\n",
      "702217446468493312 I know it's tempting, but please stop sending in pics of Donald Trump. Thank you ...9/10 https://t.co/y35Y1TJERY 9 10 True\n",
      "701570477911896070 This is Yoda. He's a Zimbabwean Rutabaga. Freaks out if u stop scratching his belly. Incredibly self-centered. 9/10 https://t.co/yVdMsVYHIx 9 10 True\n",
      "700796979434098688 This is Daniel. He's a neat pup. Exotic af. Custom paws. Leaps unannounced. Would totally pet. 7/10 daaamn Daniel https://t.co/5XaR0kj8cr 7 10 False\n",
      "700462010979500032 This is Murphy. He's a mini golden retriever. Missing two legs (tragic). Mouth sharp. Looks rather perturbed. 6/10 https://t.co/ALO02IAKCn 6 10 False\n",
      "700062718104104960 This is Eazy-E. He's colorful af. Must be rare. Submerged in Sprite (rad). Doesn't perform well when not wet. 6/10 https://t.co/UtFI7eUCjE 6 10 False\n",
      "700002074055016451 This is Thumas. He covered himself in nanners for maximum camouflage. It didn't work. I can still see u Thumas. 9/10 https://t.co/x0ZDlNqfb1 9 10 True\n",
      "699691744225525762 This is Dave. He's a tropical pup. Short lil legs (dachshund mix?) Excels underwater, but refuses to eat kibble 5/10 https://t.co/ZJnCxlIf62 5 10 False\n",
      "699088579889332224 This is Charl. He's a bully. Chucks that dumbbell around like its nothing. Sharp neck. Exceptionally unfluffy. 3/10 https://t.co/VfLoDZecJ7 3 10 False\n",
      "699079609774645248 Meet Reagan. He's a Persnicketus Derpson. Great with kids. Permanently caught off guard. 8/10 https://t.co/A2j2StfNgL 8 10 True\n",
      "698703483621523456 This is Rusty. He has no respect for POULTRY products. Unbelievable af. 7/10 would still pet https://t.co/hEH19t1eFp 7 10 True\n",
      "698549713696649216 This is Claude. He's trying to be seductive but he forgot to turn on the fireplace. 9/10 damn it Claude https://t.co/EPdQquc1dG 9 10 True\n",
      "698195409219559425 Meet Beau &amp; Wilbur. Wilbur stole Beau's bed from him. Wilbur now has so much room for activities. 9/10 for both pups https://t.co/GPaoH5qWEk 9 10 True\n",
      "697575480820686848 This is Ole. He's not sure how to gravity. 8/10 https://t.co/PsqqotpBBQ 8 10 False\n",
      "697259378236399616 Please stop sending in saber-toothed tigers. This is getting ridiculous. We only rate dogs.\n",
      "...8/10 https://t.co/iAeQNueou8 8 10 True\n",
      "696894894812565505 These two pirates crashed their ship and don't know what to do now. Very irresponsible of them. Both 9/10 https://t.co/RJvUjgGH5z 9 10 True\n",
      "696877980375769088 This is Misty. She's in a predicament. Not sure what next move should be. 9/10 stay calm pupper I'm comin https://t.co/XhR7PAgcwF 9 10 False\n",
      "696713835009417216 This is Trevith. He's a Swiss Mountain Roadwoof. Breeze too powerful. 9/10 stay strong pupper https://t.co/6J8Ibwy1X6 9 10 False\n",
      "696405997980676096 This is Berb. He just found out that they have made 31 Kidz Bop CD's. Downright terrifying. 7/10 hang in there Berb https://t.co/CIFLjiTFwZ 7 10 True\n",
      "695629776980148225 Meet Calvin. He's proof that degrees mean absolutely nothing. 8/10 straighten up pup https://t.co/NIvxgSQ9BS 8 10 True\n",
      "695064344191721472 This may be the greatest video I've ever been sent. 4/10 for Charles the puppy, 13/10 overall. (Vid by @stevenxx_) https://t.co/uaJmNgXR2P 4 10 False\n",
      "695051054296211456 Meet Brian (pronounced \"Kirk\"). He's not amused by ur churlish tomfoolery. Once u put him down you're done for. 6/10 https://t.co/vityMwPKKi 6 10 True\n",
      "694329668942569472 Meet Grady. He's very hungry. Too bad no one can find his food bowl. 9/10 poor pupper https://t.co/oToIkYnEGn 9 10 True\n",
      "694183373896572928 This is Lola. She realized mid hug that she's not ready for a committed relationship with a teddy bear. 9/10 https://t.co/pVebzwRioD 9 10 False\n",
      "693647888581312512 What kind of person sends in a pic without a dog in it? So churlish. Neat rug tho 7/10 https://t.co/LSTAwTdTaw 7 10 False\n",
      "693642232151285760 Meet Freddery. He's a Westminster Toblerone. Seems to enjoy car rides. 9/10 would pat on the head approvingly https://t.co/6BS9XEip9a 9 10 True\n",
      "693590843962331137 Meet Phil. He's big af. Currently destroying this nice family home. Completely uncalled for. 3/10 not a good pupper https://t.co/fShNNhBWYx 3 10 False\n",
      "693231807727280129 This is Bodie. He's not proud of what he did, but it needed to be done. 9/10 eight days was a pretty good streak tbh https://t.co/bpZsGMqVVP 9 10 True\n",
      "692919143163629568 Please only send in dogs. Don't submit other things like this pic of Kenny Chesney in a bathtub. Thank you. 9/10 https://t.co/TMpDHHGspy 9 10 True\n",
      "692417313023332352 Meet Herschel. He's slightly bigger than ur average pupper. Looks lonely. Could probably ride 7/10 would totally pet https://t.co/VGaIMktX10 7 10 False\n",
      "692017291282812928 This is Kingsley Wellensworth III. He owns 7 range rovers. Has a cardigan collection. Would rather be sailing. 9/10 https://t.co/BE4ahQ0IO2 9 10 True\n",
      "691820333922455552 This is Brockly. He's an uber driver. Falls asleep at the wheel often. Irresponsible af 8/10 would totally still pet https://t.co/fn1oUlS69Z 8 10 False\n",
      "691483041324204033 When bae says they can't go out but you see them with someone else that same night. 5/10 &amp; 10/10 for heartbroken pup https://t.co/aenk0KpoWM 5 10 True\n",
      "690728923253055490 This is Vinscent. He was just questioned about his recent credit card spending. 8/10 https://t.co/qOD4G19A2u 8 10 True\n",
      "690360449368465409 Stop sending in lobsters. This is the final warning. We only rate dogs. Thank you... 9/10 https://t.co/B9ZXXKJYNx 9 10 True\n",
      "689877686181715968 This is Durg. He's trying to conquer his fear of trampolines. 9/10 it's not working https://t.co/5iH08ltkoe 9 10 True\n",
      "689659372465688576 This is Ricky. He's being escorted out of the dog park for talking shit about the other dogs. 8/10 not cool Ricky https://t.co/XtDkrsdEfF 8 10 False\n",
      "689283819090870273 Say hello to Chipson. He's aerodynamic af. No eyes (devastating). 9/10 would make sure he didn't bump into stuff https://t.co/V62rIva61J 9 10 True\n",
      "689154315265683456 We normally don't rate birds but I feel bad cos this one forgot to fly south for the winter. 9/10 just wants a bath https://t.co/o47yitCn9N 9 10 True\n",
      "688908934925697024 Meet Clarence. He does parkour. 8/10 very talented dog https://t.co/WpSFZm7RPH 8 10 False\n",
      "688894073864884227 This is Hamrick. He's covered in corn flakes. Silly pupper. Looks congested. 7/10 considerably petable https://t.co/ROPZcAMQKI 7 10 False\n",
      "688828561667567616 Say hello to Brad. His car probably has a spoiler. Tan year round. Likes your insta pic but doesn't text back. 9/10 https://t.co/dfCCK3tWfr 9 10 True\n",
      "688789766343622656 Meet Pubert. He's a Kerplunk Rumplestilt. Cannot comprehend flower. Flawless tongue. 8/10 would pat head approvingly https://t.co/2TWxg0rgyG 8 10 True\n",
      "688547210804498433 This is FrÃÂ¶nq. He got caught stealing a waffle. Damn it FrÃÂ¶nq. 9/10 https://t.co/7ycWCUrjmZ 9 10 True\n",
      "687704180304273409 Say hello to Blakely. He thinks that's a hat. Silly pupper. That's a nanner. 9/10 https://t.co/UwOV1jqKRt 9 10 True\n",
      "687494652870668288 This is Marq. He stole this car. 7/10 wtf Marq? https://t.co/MHScqo5l8c 7 10 True\n",
      "687312378585812992 \"You got any games on your phone\" 7/10 for invasive brown Dalmatian pupper https://t.co/yzGR9xjE9Q 7 10 False\n",
      "687127927494963200 Meet Gordon. He's an asshole. 9/10 would still pet https://t.co/a34N7QwKbb 9 10 True\n",
      "687102708889812993 Army of water dogs here. None of them know where they're going. Have no real purpose. Aggressive barks. 5/10 for all https://t.co/A88x73TwMN 5 10 False\n",
      "686749460672679938 Strange pup here. Easily manipulated. Rather inbred. Sharp for a dog. Appears uncomfortable. 8/10 would still pet https://t.co/nSQrhwbk1V 8 10 False\n",
      "686003207160610816 This is Hammond. He's a peculiar pup. Loves long walks. Bark barely audible. Too many legs. 3/10 must be rare https://t.co/NOIiRWr5Jf 3 10 False\n",
      "685943807276412928 This is the newly formed pupper a capella group. They're just starting out but I see tons of potential. 8/10 for all https://t.co/wbAcvFoNtn 8 10 True\n",
      "685906723014619143 This is Olive. He's stuck in a sleeve. 9/10 damn it Olive https://t.co/NnLjg6BgyF 9 10 True\n",
      "685667379192414208 This is Marty. He has no idea what happened here. Never seen this stuff in his life. 9/10 very suspicious pupper https://t.co/u427woxFpJ 9 10 False\n",
      "685641971164143616 This is Otis. He just passed a cop while going 61 in a 45. Very nervous pupper. 7/10 https://t.co/jJS8qQeuNO 7 10 True\n",
      "685532292383666176 For the last time, WE. DO. NOT. RATE. BULBASAUR. We only rate dogs. Please only send dogs. Thank you ...9/10 https://t.co/GboDG8WhJG 9 10 False\n",
      "684959798585110529 This is Jerry. He's a neat dog. No legs (tragic). Has more horns than a dog usually does. Bark is unique af. 5/10 https://t.co/85q7xlplsJ 5 10 False\n",
      "684880619965411328 Here we have a basking dino pupper. Looks powerful. Occasionally shits eggs. Doesn't want the holidays to end. 5/10 https://t.co/DnNweb5eTO 5 10 False\n",
      "684567543613382656 This is Bobby. He doesn't give a damn about personal space. Convinced he called shotgun first. 4/10 not the best dog https://t.co/b8XW69gSaU 4 10 False\n",
      "684200372118904832 Gang of fearless hoofed puppers here. Straight savages. Elevated for extra terror. Front one has killed before 6/10s https://t.co/jkCb25OWfh 6 10 False\n",
      "684195085588783105 This is Tino. He really likes corndogs. 9/10 https://t.co/cUxGtnBfc2 9 10 True\n",
      "683849932751646720 This is Jiminy. He's not the brightest dog. Needs to lay off the kibble. 5/10 still petable https://t.co/omln4LOy1x 5 10 False\n",
      "683834909291606017 Here we see a faulty pupper. Might need to replace batteries. Try turning off &amp; back on again. 9/10 would still pet https://t.co/O1E4AtHVxO 9 10 True\n",
      "683773439333797890 This is Buddy. He's gaining strength. Currently an F4 tornado with wind speeds up to 260mph. Very devastating. 9/10 https://t.co/qipZbshNsR 9 10 True\n",
      "683462770029932544 \"Hello forest pupper I am house pupper welcome to my abode\" (8/10 for both) https://t.co/qFD8217fUT 8 10 True\n",
      "683142553609318400 Meet Brandy. She's a member of the Bloods. Menacing criminal pupper. Soft spot for flowers tho. 9/10 pet w caution https://t.co/hhIA3coiAJ 9 10 True\n",
      "683078886620553216 Here we see a nifty leaping pupper. Feet look deadly. Sad that the holidays are over. 9/10 undeniably huggable https://t.co/ny8mnXhGOW 9 10 False\n",
      "682962037429899265 This is Darrel. He just robbed a 7/11 and is in a high speed police chase. Was just spotted by the helicopter 10/10 https://t.co/7EsP8LmSp5 7 11 False\n",
      "682750546109968385 Meet Taco. He's a speckled Garnier Fructis. Loves to shadow box. Ears out of control. Friend clearly impressed 9/10 https://t.co/85X1GHohFr 9 10 True\n",
      "682429480204398592 I know we joke around on here, but this is getting really frustrating. We rate dogs. Not T-Rex. Thank you... 8/10 https://t.co/5aFw7SWyxU 8 10 True\n",
      "682406705142087680 This is Patrick. He's a bigass pupper. 7/10 https://t.co/J9DXBFoAQe 7 10 False\n",
      "682389078323662849 Meet Brody. He's a Downton Abbey Falsetto. Addicted to grating cheese. He says he can stop but we know he can't\n",
      "9/10 https://t.co/vBeiQq6SaZ 9 10 True\n",
      "682303737705140231 This is Todo. He's screaming because he doesn't want to wear his sweater or a seat belt. 9/10 gotta buckle up pup https://t.co/Nm8Spw4HbD 9 10 False\n",
      "682259524040966145 Meet Jax. He's an Iglesias Hufflepoof. Quite the jokester. Takes it too far sometimes. Can be very hurtful. 9/10 https://t.co/i5TeG0KYcW 9 10 True\n",
      "682003177596559360 Unique dog here. Wrinkly as hell. Weird segmented neck. Finger on fire. Doesn't seem to notice. 5/10 might still pet https://t.co/Hy9La4xNX3 5 10 False\n",
      "681679526984871937 Can you spot Toby the guilty pupper? 7/10 would be higher but he made quite the mess shredding his stuffed pals https://t.co/3uCcDEJLXs 7 10 False\n",
      "681579835668455424 This is Apollo. He thought you weren't coming back so he had a mental breakdown. 8/10 we've all been there https://t.co/ojUBrDCHLT 8 10 True\n",
      "681339448655802368 This is Asher. He's not wearing a seatbelt or keeping both paws on the wheel. Absolute menace on the roadways. 9/10 https://t.co/V3SWuHACkh 9 10 False\n",
      "681302363064414209 This is Chuck. He's a neat dog. Very flexible. Trapped in a glass case of emotion. Devastatingly unfluffy 3/10 https://t.co/YqbU9xHV3p 3 10 False\n",
      "681261549936340994 Say hello to Panda. He's a Quackadilly Shooster. Not amused by your fake ball throwing motion. 9/10 would hug lots https://t.co/wL1iDvbcVk 9 10 True\n",
      "680970795137544192 I thought I made this very clear. We only rate dogs. Stop sending other things like this shark. Thank you... 9/10 https://t.co/CXSJZ4Stk3 9 10 True\n",
      "680959110691590145 This is Ozzie. He was doing fine until he lost traction in those festive socks. Now he's tired. 9/10 still killin it https://t.co/u4FYdIRKnY 9 10 False\n",
      "680940246314430465 This is Alice. She's an idiot. 4/10 https://t.co/VQXdwJfkyS 4 10 True\n",
      "680889648562991104 This is Cheesy. It's her birthday. She's patiently waiting to eat her party muffin. 9/10 happy birthday pup https://t.co/cH2H7mch2H 9 10 True\n",
      "680798457301471234 Say hello to Moofasa. He must be a powerful dog. Fenced in for your protection. Just got his ear pierced. 6/10 https://t.co/w6fRfQ3RXD 6 10 False\n",
      "680609293079592961 This is Brody. That is his chair. He loves his chair. Never leaves it. 9/10 might be stuck actually https://t.co/WvJRg0XJit 9 10 True\n",
      "680583894916304897 This is Penny. Her tennis ball slowly rolled down her cone and into the pool. 8/10 bad things happen to good puppers https://t.co/YNWU7LeFgg 8 10 False\n",
      "680115823365742593 This is Ozzy. He woke up 2 minutes before he had to be ready for the Christmas party. 9/10 classic Ozzy https://t.co/Kt9vmw0Fap 9 10 True\n",
      "680070545539371008 Say hello to Emmie. She's trapped in an ornament. Tragic af. Looks pretty content tho. Maybe it's meant to be. 9/10 https://t.co/Fh7geodBCU 9 10 False\n",
      "679877062409191424 Meet Penelope. She's a bacon frise. Total babe (lol get it like the movie). Doesn't bark tho. 5/10 very average dog https://t.co/SDcQYg0HSZ 5 10 False\n",
      "679854723806179328 This is Bruce. He's a rare pup. Covered in Frosted Flakes. Nifty gold teeth. Overall good dog. 7/10 would pet firmly https://t.co/RtxxACzZ8A 7 10 False\n",
      "679736210798047232 This pup's name is Sabertooth (parents must be cool). Ears for days. Jumps unannounced. 9/10 would pet diligently https://t.co/iazoiNUviP 9 10 True\n",
      "679729593985699840 This is Hunter. He was playing with his ball minding his own business. Has no idea what happened to the carpet. 8/10 https://t.co/DbUTDI3u1R 8 10 False\n",
      "679722016581222400 This is Mike. He is a Jordanian Frito Pilates. Frowning because he can't see directly in front of him. 8/10 https://t.co/NL5QJwdEpF 8 10 True\n",
      "679530280114372609 Guys this really needs to stop. We've been over this way too many times. This is a giraffe. We only rate dogs.. 7/10 https://t.co/yavgkHYPOC 7 10 True\n",
      "679511351870550016 Say hello to William. He makes fun of others because he's terrified of his own deep-seated insecurities. 7/10 https://t.co/bwuV6FlRxr 7 10 True\n",
      "679503373272485890 This is Dwight. He's a pointy pupper. Very docile. Attracts marshmallows. Hurts to pet but definitely worth it 8/10 https://t.co/jjW7zTxY9Z 8 10 False\n",
      "679475951516934144 This is Evy. She doesn't want to be a Koala. 9/10 https://t.co/VITeF0Kl9L 9 10 True\n",
      "679148763231985668 I know everyone's excited for Christmas but that doesn't mean you can send in reindeer. We only rate dogs... 8/10 https://t.co/eWjWgbOCYL 8 10 True\n",
      "679047485189439488 This dog doesn't know how to stairs. Quite tragic really. 9/10 get it together pup https://t.co/kTpr9PTMg1 9 10 False\n",
      "678798276842360832 This is Linda. She fucking hates trees. 7/10 https://t.co/blaY85FIxR 7 10 True\n",
      "678767140346941444 This is Mia. She makes awful decisions. 8/10 https://t.co/G6TQVgTcZz 8 10 False\n",
      "678740035362037760 Meet Tango. He's a large dog. Doesn't care much for personal space. Owner isn't very accepting. Tongue slip. 6/10 https://t.co/p2T5kGebxe 6 10 False\n",
      "678675843183484930 Exotic pup here. Tail long af. Throat looks swollen. Might breathe fire. Exceptionally unfluffy 2/10 would still pet https://t.co/a8SqCaSo2r 2 10 False\n",
      "678424312106393600 This is Crystal. She's a shitty fireman. No sense of urgency. People could be dying Crystal. 2/10 just irresponsible https://t.co/rtMtjSl9pz 2 10 True\n",
      "678255464182861824 This is Jessifer. She is a Bismoth Teriyaki. Flowers being attacked by hurricanes on bandana (rad). 9/10 stellar pup https://t.co/nZhmRwZzWv 9 10 True\n",
      "677895101218201600 Guys this was terrifying. Really spooked me up. We don't rate ghosts. We rate dogs. Please only send dogs... 9/10 https://t.co/EJImi1udYb 9 10 True\n",
      "677698403548192770 This is Sadie. She got her holidays confused. 9/10 damn it Sadie https://t.co/fm7HxOsuPK 9 10 True\n",
      "677673981332312066 Endangered triangular pup here. Could be a wizard. Caught mid-laugh. No legs. Just fluff. Probably a wizard. 9/10 https://t.co/GFVIHIod0Z 9 10 True\n",
      "677565715327688705 Contortionist pup here. Inside pentagram. Clearly worships Satan. Known to slowly push fragile stuff off tables 6/10 https://t.co/EX9oR55VMe 6 10 True\n",
      "677530072887205888 Say hello to Axel. He's a Black Chevy Pinot on wheels. 0 to 60 in 5.7 seconds (if downhill). 9/10 I call shotgun https://t.co/DKe9DBnnHE 9 10 True\n",
      "677334615166730240 This dog gave up mid jump. 9/10 https://t.co/KmMv3Y2zI8 9 10 True\n",
      "677331501395156992 Meet Humphrey. He's a Northern Polyp Viagra. One ear works. Face stuck like that. Always surprised. 9/10 petable af https://t.co/FS7eJQM2F4 9 10 True\n",
      "677301033169788928 This is Juckson. He's totally on his way to a nascar race. 5/10 for Juckson https://t.co/IoLRvF0Kak 5 10 True\n",
      "677187300187611136 Here we see a Byzantine Rigatoni. Very aerodynamic. No eyes. Actually not windy here they just look like that. 9/10 https://t.co/gzI0m6wXRo 9 10 True\n",
      "676949632774234114 This is Tyrus. He's a Speckled Centennial Ticonderoga. Terrified of floating red ball. Nifty bandana. 8/10 v petable https://t.co/HqM3YhCaaa 8 10 True\n",
      "676948236477857792 This is Karl. Karl thinks he's slick. 6/10 sneaky pup https://t.co/Lo4ALwjVh4 6 10 False\n",
      "676942428000112642 Who leaves the last cupcake just sitting there? 9/10 https://t.co/PWMqAoEx2a 9 10 False\n",
      "676936541936185344 Here we see a rare pouched pupper. Ample storage space. Looks alert. Jumps at random. Kicked open that door. 8/10 https://t.co/mqvaxleHRz 8 10 True\n",
      "676897532954456065 Exotic handheld dog here. Appears unathletic. Feet look deadly. Can be thrown a great distance. 5/10 might pet idk https://t.co/Avq4awulqk 5 10 False\n",
      "676811746707918848 Say hello to Penny &amp; Gizmo. They are practicing their caroling. The ambition in the room is tangible. 9/10 for both https://t.co/aqBHjjh5VD 9 10 True\n",
      "676603393314578432 This is Godzilla pupper. He had a ruff childhood &amp; now deflects that pain outward by terrorizing cities. Tragic 9/10 https://t.co/g1tLGkyaxr 9 10 True\n",
      "676588346097852417 This is Bubbles. He kinda resembles a fish. Always makes eye contact with u no matter what. Sneaky tongue slip. 5/10 https://t.co/Nrhvc5tLFT 5 10 True\n",
      "676582956622721024 Meet Vinnie. He's having fun while being safe. Well not a lot of fun, but definitely safe, and that's important 8/10 https://t.co/vZYtynZZlH 8 10 False\n",
      "676575501977128964 This pupper is very passionate about Christmas. Wanted to give the tree a hug. So cute. 8/10 https://t.co/NsGyECJuq7 8 10 False\n",
      "676496375194980353 Say hello to Griffin. He's upset because his costume for Halloween didn't arrive until today. 9/10 cheer up pup https://t.co/eoBCjSFajX 9 10 True\n",
      "676237365392908289 Say hello to Winston. He has no respect for the system. Much rebellion. I think that's a palm tree... nice. 8/10 https://t.co/dOLQddhXLZ 8 10 True\n",
      "676215927814406144 This is Herm. He just wants to be like the other dogs. Sneaky tongue slip. Super fuzzy. 9/10 would cuddle firmly https://t.co/tg8h9lzCHv 9 10 False\n",
      "676098748976615425 Extremely rare pup here. Very religious. Always praying. Too many legs. Not overwhelmingly fluffy. Won't bark. 3/10 https://t.co/REyE5YKVBb 3 10 False\n",
      "676089483918516224 \"Yes hello I'ma just snag this here toasted bagel real quick. carry on.\" 9/10 https://t.co/Cuz0Osnekp 9 10 True\n",
      "675891555769696257 This is Donny. He's summoning the demon monster Babadook. 6/10 Donny please no that won't be a good time for anyone https://t.co/kiW6Knb7Gp 6 10 True\n",
      "675483430902214656 Rare shielded battle dog here. Very happy about abundance of lettuce. Painfully slow fetcher. Still petable. 5/10 https://t.co/C3tlKVq7eO 5 10 False\n",
      "675153376133427200 What kind of person sends in a picture without a dog in it? 1/10 just because that's a nice table https://t.co/RDXCfk8hK0 1 10 False\n",
      "675146535592706048 This is Coops. He's yelling at the carpet. Not very productive Coops. 7/10 https://t.co/Uz52oYnHzF 7 10 False\n",
      "675145476954566656 What an honor. 3 dogs here. Blond one is clearly a gymnast. Other two just confused. Very nifty pups. 9/10 for all https://t.co/YDgstgIDGs 9 10 True\n",
      "675135153782571009 This is Steven. He got locked outside. Damn it Steven. 5/10 nice grill tho https://t.co/zf7Sxxjfp3 5 10 False\n",
      "675111688094527488 Say hello to Oliver. He thought what was inside the pillow should be outside the pillow. Blurry since birth. 8/10 https://t.co/lFU9W31Fg9 8 10 True\n",
      "675109292475830276 C'mon guys. We've been over this. We only rate dogs. This is a cow. Please only submit dogs. Thank you...... 9/10 https://t.co/WjcELNEqN2 9 10 True\n",
      "674788554665512960 Say hello to Maggie. She's a Western Septic Downy. Pretends to be Mexican. Great hardwood flooring. 9/10 https://t.co/P3ElQ2wsjb 9 10 True\n",
      "674781762103414784 Bedazzled pup here. Fashionable af. Super yellow. Looks hella fluffy. Webbed paws for efficient fetching. 8/10 https://t.co/ot8yMUGodj 8 10 False\n",
      "674690135443775488 Meet Patrick. He's an exotic pup. Jumps great distances for a dog. Always gets injured when I toss him a ball. 3/10 https://t.co/Unz1uNrOzo 3 10 False\n",
      "674670581682434048 Meet Jeb &amp; Bush. Jeb is somehow stuck in that fence and Bush won't stop whispering sweet nothings in his ear. 9/10s https://t.co/NRNExUy9Hm 9 10 True\n",
      "674646392044941312 Two gorgeous dogs here. Little waddling dog is a rebel. Refuses to look at camera. Must be a preteen. 5/10 &amp; 8/10 https://t.co/YPfw7oahbD 5 10 True\n",
      "674632714662858753 Rare submerged pup here. Holds breath for a long time. Frowning because that spoon ignores him. 5/10 would still pet https://t.co/EJzzNHE8bE 5 10 False\n",
      "674436901579923456 Meet Bailey. She plays with her food. Very childish. Doesn't even need a battle helmet smh. Still cute though. 9/10 https://t.co/CLEOjxhTEx 9 10 False\n",
      "674394782723014656 This is Gary. He's a hide and seek champion. Second only to Kony. 8/10 Gary has a gift https://t.co/cAlB4XCcsi 8 10 False\n",
      "674318007229923329 This is Lennon. He's in quite the predicament. 8/10 hang in there pupper https://t.co/7mf8XXPAZv 8 10 False\n",
      "674269164442398721 This is Bob. He's a Juniper Fitzsimmons. His body is 2, but his face is 85. Always looks miserable. Nice stool. 8/10 https://t.co/vYe9RlVz2N 8 10 True\n",
      "674265582246694913 This is Henry. He's a shit dog. Short pointy ears. Leaves trail of pee. Not fluffy. Doesn't come when called. 2/10 https://t.co/Pu9RhfHDEQ 2 10 False\n",
      "674262580978937856 This is Gus. He's super stoked about being an elephant. Couldn't be happier. 9/10 for elephant pupper https://t.co/gJS1qU0jP7 9 10 True\n",
      "674063288070742018 This is Earl. Earl is lost. Someone help Earl. He has no tags. Just trying to get home. 5/10 hang in there Earl https://t.co/1ZbfqAVDg6 5 10 False\n",
      "674045139690631169 Herd of wild dogs here. Not sure what they're trying to do. No real goals in life. 3/10 find your purpose puppers https://t.co/t5ih0VrK02 3 10 False\n",
      "674036086168010753 Meet Daisy. She has no eyes &amp; her face has been blurry since birth. Quite the trooper tho. Still havin a blast. 9/10 https://t.co/jcNdw43BIP 9 10 True\n",
      "673906403526995968 Guys I'm getting real tired of this. We only rate dogs. Please don't send in other things like this Bulbasaur. 3/10 https://t.co/t5rQHl6W8M 3 10 False\n",
      "673715861853720576 This is a heavily opinionated dog. Loves walls. Nobody knows how the hair works. Always ready for a kiss. 4/10 https://t.co/dFiaKZ9cDl 4 10 False\n",
      "673705679337693185 This is Dot. He found out you only pretended to throw the ball that one time. You don't fuck with Dot. 8/10 https://t.co/Ymg4fwKlZd 8 10 True\n",
      "673700254269775872 Large blue dog here. Cool shades. Flipping us off w both hands. Obviously a preteen. 3/10 for rude blue preteen pup https://t.co/mcPd5AFfhA 3 10 False\n",
      "673697980713705472 This is Pickles. She's a tiny pointy pupper. Average walker. Very skeptical of wet leaf. 8/10 https://t.co/lepRCaGcgw 8 10 False\n",
      "673688752737402881 Meet Larry. He doesn't know how to shoe. 9/10 damn it Larry https://t.co/jMki5GOV3y 9 10 True\n",
      "673612854080196609 This is Jeffri. He's a speckled ice pupper. Very lazy. Enjoys the occasional swim. Rather majestic really. 7/10 https://t.co/0iyItbtkr8 7 10 True\n",
      "673580926094458881 When you ask your professor about extra credit on the last day of class. 8/10 https://t.co/H6rqZyE4NP 8 10 True\n",
      "673576835670777856 Sun burnt dog here. Quite large. Wants to promote peace. Looks unemployed. Ears for days. 7/10 would pet profusely https://t.co/WlKiN3ll0w 7 10 False\n",
      "673359818736984064 This is Steve. He was just relaxing in hot tub when he was intruded upon. 8/10 poor little pup https://t.co/EPq0MRAraJ 8 10 True\n",
      "673350198937153538 This is Bella. She's a Genghis Flopped Canuck. Stuck in trash can. 9/10 not to happy about it https://t.co/RMv9EAv57u 9 10 True\n",
      "673345638550134785 This is Gerald. He's a fluffy lil yellow pup. Always looks like his favorite team just lost on a hail mary. 7/10 https://t.co/GpSkpN8kXS 7 10 False\n",
      "673295268553605120 Meet Eve. She's a raging alcoholic 8/10 (would b 11/10 but pupper alcoholism is a tragic issue that I can't condone) https://t.co/U36HYQIijg 8 10 True\n",
      "673240798075449344 Magical floating dog here. Very calm. Always hangs by the pond. Rather moist. Good listener. 6/10 personally I'd pet https://t.co/1euKoOvy49 6 10 True\n",
      "673148804208660480 This is Fletcher. He's had a ruff night. No more Fireball for Fletcher. 8/10 it'll be over soon pupper https://t.co/tA4WpkI2cw 8 10 False\n",
      "672995267319328768 This is Pumpkin. He can look in two different directions at once. Great with a screwdriver. 8/10 https://t.co/odpuqtz2Fq 8 10 True\n",
      "672984142909456390 Very happy pup here. Always smiling. Loves his little leaf. Carries it everywhere with him. 9/10 https://t.co/81BCQAyvcs 9 10 False\n",
      "672980819271634944 Extraordinary dog here. Looks large. Just a head. No body. Rather intrusive. 5/10 would still pet https://t.co/ufHWUFA9Pu 5 10 False\n",
      "672970152493887488 This is Chet. He's having a hard time. Really struggling. 7/10 hang in there pupper https://t.co/eb4ta0xtnd 7 10 False\n",
      "672902681409806336 This is Jimison. He's stuck in a pot. Damn it Jimison. 9/10 https://t.co/KpLyca3o3E 9 10 False\n",
      "672884426393653248 Marvelous dog here. Rad ears. Not very soft. Large tumor on nose. Has a pet rock. Good w kids. 6/10 overall neat pup https://t.co/g5YkRqP0dg 6 10 False\n",
      "672877615439593473 This is Oscar. He's getting bombarded with the snacks. Not sure he's happy about it. 8/10 for Oscar https://t.co/dJHI7uC2y3 8 10 True\n",
      "672828477930868736 This is Jerry. He's a Timbuk Slytherin. Eats his pizza from the side first. Crushed that cup with his bare paws 9/10 https://t.co/fvxHL6cRRs 9 10 False\n",
      "672640509974827008 This is Leonidas. He just got rekt by a snowball. 9/10 doggy down https://t.co/uNrmYDUa9M 9 10 True\n",
      "672614745925664768 This is Norman. Doesn't bark much. Very docile pup. Up to date on current events. Overall nifty pupper. 6/10 https://t.co/ntxsR98f3U 6 10 False\n",
      "672609152938721280 This is Caryl. Likes to get in the microwave. 9/10 damn it Caryl https://t.co/YAVwvNaois 9 10 False\n",
      "672594978741354496 Meet Scott. Just trying to catch his train to work. Doesn't need everybody staring. 9/10 ignore the haters pupper https://t.co/jyXbZ35MYz 9 10 True\n",
      "672591271085670400 Lots of pups here. All are Judea Hazelnuts. Exceptionally portable. 8/10 for all https://t.co/Pa8EmpDCuI 8 10 False\n",
      "672538107540070400 Meet Darby. He's a Fiscal Tutankhamen Waxbeard. Really likes steak. 7/10 https://t.co/rSndxTL0Ap 7 10 False\n",
      "672475084225949696 This is Buddy. He's photogenic af. Loves to sexily exit pond. Very striped. Comes with shield. 8/10 would pet well https://t.co/mYhQvAdV4f 8 10 False\n",
      "672256522047614977 Mighty rare dogs here. Long smooth necks. Great knees. Travel in squads. 1 out of every 14 is massive. 8/10 for all https://t.co/PoMKKnKpRd 8 10 False\n",
      "672239279297454080 This is Ridley. He doesn't know how to couch. 7/10 https://t.co/UHJE0UgMf7 7 10 True\n",
      "672231046314901505 Exotic underwater dog here. Very shy. Wont return tennis balls I toss him. Never been petted. 5/10 I bet he's soft https://t.co/WH7Nzc5IBA 5 10 False\n",
      "672222792075620352 This is Cal. He's a Swedish Geriatric Cheddar. Upset because the pope is laughing at his eyebrows. 9/10 https://t.co/EW4MsOrF5O 9 10 True\n",
      "672205392827572224 This is Opal. He's a Royal John Coctostan. Ready for transport. Basically indestructible. 9/10 good pupper https://t.co/yRBQF9OS7D 9 10 False\n",
      "672160042234327040 This is Bubba. He's a Titted Peebles Aorta. Evolutionary masterpiece. Comfortable with his body. 8/10 great pupper https://t.co/aNkkl5nH3W 8 10 True\n",
      "672095186491711488 This is Tuco. That's the toast that killed his father. 9/10 https://t.co/ujnWy26RMe 9 10 True\n",
      "672068090318987265 Say hello to Gizmo. He's upset because he's not sure if he's really big or the shopping cart is really small. 7/10 https://t.co/XkMtCGhr4a 7 10 True\n",
      "671879137494245376 This is Brad. He's a chubby lil pup. Doesn't really need the food he's trying to reach. 5/10 you've had enough Brad https://t.co/vPXKSaNsbE 5 10 False\n",
      "671855973984772097 Remarkable dog here. Walks on back legs really well. Looks extra soft. 8/10 would cuddle with https://t.co/gpWLdbposg 8 10 False\n",
      "671763349865160704 Say hello to Mark. He's a good dog. Always ready to go for a walk. Excellent posture. 9/10 keep it up Mark https://t.co/m9NleZ1i80 9 10 False\n",
      "671744970634719232 Very fit horned dog here. Looks powerful. Not phased by wind. Great beard. Big enough to ride? 6/10 would cuddle https://t.co/wwwYO9C9kl 6 10 False\n",
      "671544874165002241 Interesting dog here. Very large. Purple. Manifests rainbows. Perfect teeth. No ears. Surprisingly knowledgable 6/10 https://t.co/QVaEMsB9tS 6 10 False\n",
      "671538301157904385 This is Baxter. He's very calm. Hasn't eaten in weeks tho. Not good at fetch. Never blinks. 8/10 would still pet https://t.co/fUuiyu2QTD 8 10 False\n",
      "671536543010570240 This is Reginald. He's pondering what life would be like without so much damn skin. 9/10 it'll be ok buddy https://t.co/1U5Ro5FA4c 9 10 True\n",
      "671533943490011136 Super rare dog here. Spiffy mohawk. Sharp mouth. Shits eggs. Cool chariot wheel in background. 6/10 v confident pup https://t.co/pcx8jm1J1K 6 10 False\n",
      "671518598289059840 This is Scruffers. He's being violated on multiple levels and is not happy about it. 9/10 hang in there Scruffers https://t.co/nLQoltwEZ7 9 10 True\n",
      "671511350426865664 Say hello to Hammond. He's just a wee lil pup. Jumps around a shit ton. 8/10 overall very good dog https://t.co/OgDF2ES3Q9 8 10 False\n",
      "671488513339211776 This is Julius. He's a cool dog. Carries seashell everywhere. Rad segmented legs. Currently attacking castle. 8/10 https://t.co/CwUK5AIgeD 8 10 False\n",
      "671390180817915904 Striped dog here. Having fun playing on back. Sturdy paws. Looks like an organized Dalmatian. 7/10 would still pet https://t.co/U1mSS3Ykez 7 10 False\n",
      "671357843010908160 Tfw she says hello from the other side. 9/10 https://t.co/lS1TIDagIb 9 10 True\n",
      "671347597085433856 This is Lola. She was not fully prepared for the water slide. 9/10 https://t.co/svlkUlg3NH 9 10 False\n",
      "671163268581498880 Pack of horned dogs here. Very team-oriented bunch. All have weird laughs. Bond between them strong. 8/10 for all https://t.co/U7DQQdZ0mX 8 10 False\n",
      "671159727754231808 This is Anthony. He just finished up his masters at Harvard. Unprofessional tattoos. Always looks perturbed. 5/10 https://t.co/iHLo9rGay1 5 10 False\n",
      "671147085991960577 This is a Helvetica Listerine named Rufus. This time Rufus will be ready for the UPS guy. He'll never expect it 9/10 https://t.co/34OhVhMkVr 9 10 True\n",
      "671141549288370177 Neat pup here. Enjoys lettuce. Long af ears. Short lil legs. Hops surprisingly high for dog. 9/10 still very petable https://t.co/HYR611wiA4 9 10 False\n",
      "671134062904504320 Say hello to Clarence. He's a western Alkaline Pita. Very proud of himself for dismembering his stuffed dog pal 8/10 https://t.co/BHxr9O7wJY 8 10 True\n",
      "671122204919246848 Two miniature golden retrievers here. Webbed paws. Don't walk very efficiently. Can't catch a tennis ball. 4/10s https://t.co/WzVLdSHJU7 4 10 False\n",
      "671115716440031232 Meet Phred. He isn't steering, looking at the road, or wearing a seatbelt. Phred is a rolling tornado of danger 6/10 https://t.co/mZD7Bo7HfV 6 10 True\n",
      "671109016219725825 This is Toby. He asked for chocolate cake for his birthday but was given vanilla instead. 8/10 it'll be ok Toby https://t.co/sYi2G0he4H 8 10 True\n",
      "670838202509447168 Pink dogs here. Unreasonably long necks. Left guy has only 1 leg. Quite nimble. Don't bark tho 4/10s would still pet https://t.co/QY5uvMmmQk 4 10 False\n",
      "670833812859932673 This is Jett. He is unimpressed by flower. 7/10 https://t.co/459qWNnV3F 7 10 True\n",
      "670826280409919488 Scary dog here. Too many legs. Extra tail. Not soft, let alone fluffy. Won't bark. Moves sideways. Has weapon. 2/10 https://t.co/XOPXCSXiUT 2 10 False\n",
      "670792680469889025 This is Antony. He's a Sheraton Tetrahedron. Skips awkwardly. Doesn't look when he crosses the road (reckless). 7/10 https://t.co/gTy4WMXu8l 7 10 False\n",
      "670789397210615808 Two obedient dogs here. Left one has extra leg sticking out of its back. They each get 9/10. Would pet both at once https://t.co/RGcNPsmAfY 9 10 True\n",
      "670786190031921152 This is Creg. You offered him a ride to work but you're late and you just missed his exit. 8/10 https://t.co/3r7wznfuoa 8 10 False\n",
      "670783437142401025 Flamboyant pup here. Probably poisonous. Won't eat kibble. Doesn't bark. Slow af. Petting doesn't look fun. 1/10 https://t.co/jxukeh2BeO 1 10 False\n",
      "670782429121134593 This dude slaps your girl's ass what do you do?\n",
      "5/10 https://t.co/6dioUL6gcP 5 10 True\n",
      "670780561024270336 This is Traviss. He has no ears. Two rare dogs in background. I bet they all get along nicely. 7/10s I'd pet all https://t.co/Viu56hVhhP 7 10 True\n",
      "670755717859713024 Say hello to Gin &amp; Tonic. They're having a staring contest. Very very intense. 9/10 for both https://t.co/F6bI9dF16E 9 10 True\n",
      "670733412878163972 This is Jerry. He's a great listener. Low maintenance. Hard to get leash on tho. 8/10 still good dog https://t.co/NsDIt8Z80Z 8 10 False\n",
      "670704688707301377 Meet Danny. He's too good to look at the road when he's driving. Absolute menace. 6/10 completely irresponsible https://t.co/I1lMUy1FqH 6 10 True\n",
      "670691627984359425 This is Ester. He has a cocaine problem. This is an intervention Ester. We all care about you. 8/10 https://t.co/eCVj2xT59V 8 10 True\n",
      "670679630144274432 This is Pluto. He's holding little waddling dog hostage. Little waddling dog very desperate at this point sos. 8/10 https://t.co/HMcD9SLOAN 8 10 True\n",
      "670676092097810432 This is Bloo. He's a Westminster CÃÂ®roc. Doesn't think Bart deserves legs. Nice flowers. 8/10 https://t.co/IAc1QCczMc 8 10 True\n",
      "670465786746662913 Silly dog here. Wearing bunny ears. Nice long tail. Unique paws. Not crazy soft but will do. Extremely agile. 7/10 https://t.co/2BnCLtJMxD 7 10 False\n",
      "670449342516494336 Vibrant dog here. Fabulous tail. Only 2 legs tho. Has wings but can barely fly (lame). Rather elusive. 5/10 okay pup https://t.co/cixC0M3P1e 5 10 False\n",
      "670427002554466305 This is a Deciduous Trimester mix named Spork. Only 1 ear works. No seat belt. Incredibly reckless. 9/10 still cute https://t.co/CtuJoLHiDo 9 10 False\n",
      "670417414769758208 Sharp dog here. Introverted. Loves purple. Not fun to pet. Hurts to cuddle with. 6/10 still good dog tho https://t.co/Dfv2YaHPMn 6 10 False\n",
      "670385711116361728 Meet Larry. He's a Panoramic Benzoate. Can shoot lasers out of his eyes. Very neat. Stuck in that position tho. 8/10 https://t.co/MAZx8MPF0S 8 10 True\n",
      "670361874861563904 This is a Rich Mahogany Seltzer named Cherokee. Just got destroyed by a snowball. Isn't very happy about it. 9/10 https://t.co/98ZBi6o4dj 9 10 False\n",
      "670303360680108032 This is a Speckled Cauliflower Yosemite named Hemry. He's terrified of intruder dog. Not one bit comfortable. 9/10 https://t.co/yV3Qgjh8iN 9 10 True\n",
      "670093938074779648 This is Wally. He's a Flaccid Mitochondria. Going on vacation. Bag definitely full of treats. Great hat. 9/10 https://t.co/vYs9IVzHY9 9 10 True\n",
      "670069087419133954 This is Randall. He's from Chernobyl. Built playground himself. Has been stuck up there quite a while. 5/10 good dog https://t.co/pzrvc7wKGd 5 10 False\n",
      "670055038660800512 This is Tommy. He's a cool dog. Hard not to step on. Won't let go of seashell. Not fast by any means. 3/10 https://t.co/0gY6XTOpn3 3 10 False\n",
      "670037189829525505 Awesome dog here. Not sure where it is tho. Spectacular camouflage. Enjoys leaves. Not very soft. 5/10 still petable https://t.co/rOTOteKx4q 5 10 False\n",
      "669993076832759809 This is Zoey. Her dreams of becoming a hippo ballerina don't look promising. 9/10 it'll be ok puppers https://t.co/kR1fqy4NKK 9 10 False\n",
      "669749430875258880 Say hello to Clarence. Clarence thought he saw a squirrel. He was just trying to help. 8/10 poor Clarence https://t.co/tbFaTUHLJB 8 10 False\n",
      "669682095984410625 Meet Louie. He just pounded that bottle of wine. 9/10 goodnight Louie https://t.co/RAwZvMKRZB 9 10 False\n",
      "669680153564442624 This is Shawwn. He's a Turkish Gangrene Robitussin. Spectacular tongue. Cranks out push-ups. 8/10 #NoDaysOff #swole https://t.co/IQFZKNUlXx 8 10 True\n",
      "669661792646373376 This is a brave dog. Excellent free climber. Trying to get closer to God. Not very loyal though. Doesn't bark. 5/10 https://t.co/ODnILTr4QM 5 10 False\n",
      "669583744538451968 Special dog here. Pretty big. Neck kinda long for dog. Cool spots. Must be a Dalmatian variant. 6/10 would still pet https://t.co/f8GXeDbFzu 6 10 False\n",
      "669571471778410496 This is Keith. He's had 13 DUIs. 7/10 that's too many Keith https://t.co/fa7olwrF9Y 7 10 False\n",
      "669567591774625800 Meet Kollin. He's a Parakeetian Badminton from Denmark. Great artist. Taking break from research. Loves wicker 9/10 https://t.co/XPLB3eoXiX 9 10 True\n",
      "669375718304980992 This is Billl. He's trying to be a ghost but he's not very good at it. 6/10 c'mon Billl https://t.co/ero0XfdGtY 6 10 True\n",
      "669354382627049472 Meet Dug. Dug fucken loves peaches. 8/10 https://t.co/JtA1TG21Xx 8 10 True\n",
      "669216679721873412 This is Clarq. He's a golden Quetzalcoatl. Clarq enjoys eating his own foot. Damn it Clarq. 8/10 would pet firmly https://t.co/d8ybynaRwZ 8 10 True\n",
      "669203728096960512 This is Samsom. He is sexually confused. Really wants to be a triceratops. 9/10 just a great guy https://t.co/HPoce45SI3 9 10 True\n",
      "668994913074286592 Two gorgeous pups here. Both have cute fake horns(adorable). Barn in the back looks on fire. 5/10 would pet rly well https://t.co/w5oYFXi0uh 5 10 False\n",
      "668992363537309700 This is Harrison. He braves the snow like a champ. Perched at all times. Hasn't blinked in months. 8/10 v nifty dog https://t.co/tiVuq6MNwl 8 10 False\n",
      "668989615043424256 This is Bernie. He's taking his Halloween costume very seriously. Wants to be baked. 3/10 not a good idea Bernie smh https://t.co/1zBp1moFlX 3 10 True\n",
      "668988183816871936 Honor to rate this dog. Lots of fur on him. Two massive tumors on back. Should get checked out. Very neat tho. 7/10 https://t.co/bMhs18elNF 7 10 False\n",
      "668986018524233728 This is Ruby. She's a Bimmington Fettuccini. One ear works a lil better than other. Looks startled. Cool carpet 9/10 https://t.co/j0Wpa42KCH 9 10 False\n",
      "668981893510119424 Unique dog here. Oddly shaped tail. Long pink front legs. I don't think dogs breath underwater sos. 4/10 bad owner https://t.co/0EJXxE9UxW 4 10 False\n",
      "668932921458302977 This is Herald. He likes to swing. Subtle tongue slip. Owner good at b-ball. Creepy person on bench back there. 9/10 https://t.co/rcrKkL7eB6 9 10 True\n",
      "668815180734689280 This is a wild Toblerone from Papua New Guinea. Mouth always open. Addicted to hay. Acts blind. 7/10 handsome dog https://t.co/IGmVbz07tZ 7 10 True\n",
      "668643542311546881 Fascinating dog here. Loves beach. Oddly long nose for dog. Massive ass paws. Hard to cuddle w. 3/10 would still pet https://t.co/IiSdmhkC5N 3 10 False\n",
      "668631377374486528 Meet Zeek. He is a grey Cumulonimbus. Zeek is hungry. Someone should feed Zeek asap. 5/10 absolutely terrifying https://t.co/fvVNScw8VH 5 10 True\n",
      "668627278264475648 This is Timofy. He's a pilot for Southwest. It's Christmas morning &amp; everyone has gotten kickass gifts but him. 9/10 https://t.co/3FuNbzyPwo 9 10 True\n",
      "668614819948453888 Here is a horned dog. Much grace. Can jump over moons (dam!). Paws not soft. Bad at barking. 7/10 can still pet tho https://t.co/2Su7gmsnZm 7 10 False\n",
      "668537837512433665 This is Spark. He's nervous. Other dog hasn't moved in a while. Won't come when called. Doesn't fetch well 8/10&amp;1/10 https://t.co/stEodX9Aba 8 10 True\n",
      "668496999348633600 This is Jo. Jo is a Swedish Queso. Tongue bigger than face. Tiny lil legs. Still no seatbelt. Simply careless. 8/10 https://t.co/Edy7B5vOp2 8 10 True\n",
      "668484198282485761 Good teamwork between these dogs. One is on lookout while other eats. Long necks. Nice big house. 9/10s good pups https://t.co/uXgmECGYEB 9 10 True\n",
      "668466899341221888 Here is a mother dog caring for her pups. Snazzy red mohawk. Doesn't wag tail. Pups look confused. Overall 4/10 https://t.co/YOHe6lf09m 4 10 False\n",
      "668297328638447616 2 rare dogs. They waddle (v inefficient). Sometimes slide on bellies. Right one wants to be aircraft Marshall. 9/10s https://t.co/P8bivfp5sU 9 10 False\n",
      "668248472370458624 Say hello to Bisquick. He is a Brown Douglass Fir terrier. Very inbred. Looks terrified. 8/10 still cute tho https://t.co/1XYRh8N00K 8 10 True\n",
      "668204964695683073 This is Ron. Ron's currently experiencing a brain freeze. Damn it Ron. 8/10 https://t.co/4ilfcR5SlK 8 10 True\n",
      "668171859951755264 This is a Trans Siberian Kellogg named Alfonso. Huge ass eyeballs. Actually Dobby from Harry Potter. 7/10 https://t.co/XpseHBlAAb 7 10 True\n",
      "668154635664932864 Fun dogs here. Top one clearly an athlete. Bottom one very stable. Not very soft tho. 9/10s would still cuddle both https://t.co/79sHR36NsI 9 10 False\n",
      "668142349051129856 This lil pup is Oliver. Hops around. Has wings but doesn't fly (lame). Annoying chirp. Won't catch tennis balls 2/10 https://t.co/DnhUw0aBM2 2 10 False\n",
      "668113020489474048 This is Alfie. He's that one hypocritical gym teacher who made you run laps. Great posture. Cool bench. 6/10 https://t.co/GCJzm3YsfX 6 10 True\n",
      "667937095915278337 This dog resembles a baked potato. Bed looks uncomfortable. No tail. Comes with butter tho. 3/10 petting still fun https://t.co/x89NSCEZCq 3 10 False\n",
      "667924896115245057 This is Jiminy. He has always wanted to be a cheerleader. Can jump high enough to get on other dog. Go Jiminy. 9/10 https://t.co/fW6kIPFGD2 9 10 True\n",
      "667911425562669056 Wow. Armored dog here. Ready for battle. Face looks dangerous. Not very loyal. Lil dog on back havin a blast. 5/10 https://t.co/SyMoWrp368 5 10 False\n",
      "667902449697558528 This is Cleopatricia. She is a northern Paperback Maple. Set up hammock somehow. 9/10 would chill in hammock with https://t.co/sJeHdGUt0W 9 10 True\n",
      "667878741721415682 This is Tedrick. He lives on the edge. Needs someone to hit the gas tho. Other than that he's a baller. 10&amp;2/10 https://t.co/LvP1TTYSCN 2 10 False\n",
      "667861340749471744 This is a Shotokon Macadamia mix named Cheryl. Sophisticated af. Looks like a disappointed librarian. Shh (lol) 9/10 https://t.co/J4GnJ5Swba 9 10 True\n",
      "667793409583771648 Dogs only please. Small cows and other non canines will not be tolerated. Sick tattoos tho 8/10 https://t.co/s1z7mX4c9O 8 10 True\n",
      "667782464991965184 Super rare dog. Endangered (?). Thinks it's funny. Mocks everything I say. Colorful af. Has wings (dope). 9/10 https://t.co/BY8nQAMz0x 9 10 False\n",
      "667773195014021121 This is a rare Hungarian Pinot named Jessiga. She is either mid-stroke or got stuck in the washing machine. 8/10 https://t.co/ZU0i0KJyqD 8 10 True\n",
      "667766675769573376 This is Calvin. He is a Luxembourgian Mayo. Having issues with truck. Has it under control tho. 9/10 responsible af https://t.co/3Bbba7y8Xe 9 10 False\n",
      "667724302356258817 What a dog to start the day with. Very calm. Likes to chill by pond. Corkscrews sticking out of head. Obedient. 7/10 https://t.co/0nIxPTDWAZ 7 10 False\n",
      "667549055577362432 Never seen dog like this. Breathes heavy. Tilts head in a pattern. No bark. Shitty at fetch. Not even cordless. 1/10 https://t.co/i9iSGNn3fx 1 10 False\n",
      "667546741521195010 Here is George. George took a selfie of his new man bun and that is downright epic. (Also looks like Rand Paul) 9/10 https://t.co/afRtVsoIIb 9 10 True\n",
      "667538891197542400 This is a southwest Coriander named Klint. Hat looks expensive. Still on house arrest :(\n",
      "9/10 https://t.co/IQTOMqDUIe 9 10 True\n",
      "667534815156183040 This is Frank (pronounced \"Fronq\"). Too many boxing gloves, not enough passion. Frank is a lover not a fighter. 8/10 https://t.co/CpPxD28IpV 8 10 True\n",
      "667517642048163840 This is Dook &amp; Milo. Dook is struggling to find who he really is and Milo is terrified of what that might be. 8/10s https://t.co/fh5KflzBR0 8 10 True\n",
      "667495797102141441 This is Philippe from Soviet Russia. Commanding leader. Misplaced other boot. Hung flag himself. 9/10 charismatic af https://t.co/5NhPV8E45i 9 10 True\n",
      "667491009379606528 Two dogs in this one. Both are rare Jujitsu Pythagoreans. One slightly whiter than other. Long legs. 7/10 and 8/10 https://t.co/ITxxcc4v9y 7 10 True\n",
      "667455448082227200 This is Reese and Twips. Reese protects Twips. Both think they're too good for seat belts. Simply reckless. 7/10s https://t.co/uLzRi1drVK 7 10 True\n",
      "667443425659232256 Exotic dog here. Long neck. Weird paws. Obsessed with bread. Waddles. Flies sometimes (wow!). Very happy dog. 6/10 https://t.co/rqO4I3nf2N 6 10 False\n",
      "667405339315146752 This is Biden. Biden just tripped... 7/10 https://t.co/3Fm9PwLju1 7 10 True\n",
      "667393430834667520 This is Fwed. He is a Canadian Asian Taylormade. Was having a blast until pink spiky football attacked. 8/10 https://t.co/A37eGLz5WS 8 10 True\n",
      "667211855547486208 This is Genevieve. She is a golden retriever cocktail mix. Comfortable close to wall. Shows no emotions. 9/10 https://t.co/azEoGqVonH 9 10 True\n",
      "667177989038297088 This is a Dasani Kingfisher from Maine. His name is Daryl. Daryl doesn't like being swallowed by a panda. 8/10 https://t.co/jpaeu6LNmW 8 10 True\n",
      "667176164155375616 These are strange dogs. All have toupees. Long neck for dogs. In a shed of sorts? Work in groups? 4/10 still petable https://t.co/PZxSarAfSN 4 10 True\n",
      "667174963120574464 This is Clarence. His face says he doesn't want to be a donkey, but his tail is super pumped about it. 9/10 https://t.co/fGDWgukcBs 9 10 True\n",
      "667090893657276420 This is Clybe. He is an Anemone Valdez. One ear works. Can look in 2 different directions at once. Tongue slip. 7/10 https://t.co/Ks0jZtdIrr 7 10 True\n",
      "667065535570550784 Here we have a Hufflepuff. Loves vest. Eyes wide af. Flaccid tail. Matches carpet. Always a little blurry. 8/10 https://t.co/7JdgVqDnvR 8 10 False\n",
      "667012601033924608 This is Klevin. He laughs a lot. Very cool dog. 9/10 https://t.co/bATAbPNv0m 9 10 False\n",
      "666837028449972224 My goodness. Very rare dog here. Large. Tail dangerous. Kinda fat. Only eats leaves. Doesn't come when called 3/10 https://t.co/xYGdBrMS9h 3 10 False\n",
      "666817836334096384 This is Jeph. He is a German Boston Shuttlecock. Enjoys couch. Lost body during French Revolution. True hero 9/10 https://t.co/8whlkYw3mO 9 10 True\n",
      "666804364988780544 This is Jockson. He is a Pinnacle Sagittarius. Fancy bandana. Enjoys lightly sucking on hot dog in nature. 8/10 https://t.co/RdKbAOEpDK 8 10 True\n",
      "666786068205871104 Unfamiliar with this breed. Ears pointy af. Won't let go of seashell. Won't eat kibble. Not very fast. Bad dog 2/10 https://t.co/EIn5kElY1S 2 10 False\n",
      "666776908487630848 This is Josep. He is a Rye Manganese mix. Can drive w eyes closed. Very irresponsible. Menace on the roadways. 5/10 https://t.co/XNGeDwrtYH 5 10 False\n",
      "666701168228331520 This is a golden Buckminsterfullerene named Johm. Drives trucks. Lumberjack (?). Enjoys wall. 8/10 would hug softly https://t.co/uQbZJM2DQB 8 10 True\n",
      "666691418707132416 This is Christoper. He is a spotted Penne. Can easily navigate stairs. 8/10 https://t.co/bg4TqvvkuF 8 10 True\n",
      "666649482315059201 Cool dog. Enjoys couch. Low monotone bark. Very nice kicks. Pisses milk (must be rare). Can't go down stairs. 4/10 https://t.co/vXMKrJC81s 4 10 True\n",
      "666644823164719104 This is Jimothy. He is a Botwanian Gouda. Can write (impressive). Very erect tail. Still looking for hoco date. 9/10 https://t.co/LEkZjZxESQ 9 10 True\n",
      "666447344410484738 This is Scout. She is a black Downton Abbey. Isn't afraid to get dirty. 9/10 nothing bad to say https://t.co/kH60oka1HW 9 10 True\n",
      "666437273139982337 Here we see a lone northeastern Cumberbatch. Half ladybug. Only builds with bricks. Very confident with body. 7/10 https://t.co/7LtjBS0GPK 7 10 True\n",
      "666430724426358785 Oh boy what a pup! Sunglasses take this one to the next level. Weirdly folds front legs. Pretty big. 6/10 https://t.co/yECbFrSArM 6 10 False\n",
      "666428276349472768 Here we have an Austrian Pulitzer. Collectors edition. Levitates (?). 7/10 would garden with https://t.co/NMQq6HIglK 7 10 True\n",
      "666411507551481857 This is quite the dog. Gets really excited when not in water. Not very soft tho. Bad at fetch. Can't do tricks. 2/10 https://t.co/aMCTNWO94t 2 10 False\n",
      "666407126856765440 This is a southern Vesuvius bumblegruff. Can drive a truck (wow). Made friends with 5 other nifty dogs (neat). 7/10 https://t.co/LopTBkKa8h 7 10 True\n",
      "666396247373291520 Oh goodness. A super rare northeast Qdoba kangaroo mix. Massive feet. No pouch (disappointing). Seems alert. 9/10 https://t.co/Dc7b0E8qFE 9 10 True\n",
      "666362758909284353 Unique dog here. Very small. Lives in container of Frosted Flakes (?). Short legs. Must be rare 6/10 would still pet https://t.co/XMD9CwjEnM 6 10 False\n",
      "666353288456101888 Here we have a mixed Asiago from the GalÃÂ¡pagos Islands. Only one ear working. Big fan of marijuana carpet. 8/10 https://t.co/tltQ5w9aUO 8 10 True\n",
      "666337882303524864 This is an extremely rare horned Parthenon. Not amused. Wears shoes. Overall very nice. 9/10 would pet aggressively https://t.co/QpRjllzWAL 9 10 False\n",
      "666293911632134144 This is a funny dog. Weird toes. Won't come down. Loves branch. Refuses to eat his food. Hard to cuddle with. 3/10 https://t.co/IIXis0zta0 3 10 False\n",
      "666287406224695296 This is an Albanian 3 1/2 legged  Episcopalian. Loves well-polished hardwood flooring. Penis on the collar. 9/10 https://t.co/d9NcXFKwLv 1 2 True\n",
      "666104133288665088 Not familiar with this breed. No tail (weird). Only 2 legs. Doesn't bark. Surprisingly quick. Shits eggs. 1/10 https://t.co/Asgdc6kuLX 1 10 False\n",
      "666099513787052032 Can stand on stump for what seems like a while. Built that birdhouse? Impressive. Made friends with a squirrel. 8/10 https://t.co/Ri4nMTLq5C 8 10 True\n",
      "666094000022159362 This appears to be a Mongolian Presbyterian mix. Very tired. Tongue slip confirmed. 9/10 would lie down with https://t.co/mnioXo3IfP 9 10 True\n",
      "666082916733198337 Here we have a well-established sunblockerspaniel. Lost his other flip-flop. 6/10 not very waterproof https://t.co/3RU6x0vHB7 6 10 True\n",
      "666071193221509120 Here we have a northern speckled Rhododendron. Much sass. Gives 0 fucks. Good tongue. 9/10 would caress sensually https://t.co/ZoL8kq2XFx 9 10 True\n",
      "666058600524156928 Here is the Rand Paul of retrievers folks! He's probably good at poker. Can drink beer (lol rad). 8/10 good dog https://t.co/pYAJkAe76p 8 10 True\n",
      "666057090499244032 My oh my. This is a rare blond Canadian terrier on wheels. Only $8.98. Rather docile. 9/10 very rare https://t.co/yWBqbrzy8O 9 10 False\n",
      "666051853826850816 This is an odd dog. Hard on the outside but loving on the inside. Petting still fun. Doesn't play catch well. 2/10 https://t.co/v5A4vzSDdc 2 10 False\n",
      "666049248165822465 Here we have a 1949 1st generation vulpix. Enjoys sweat tea and Fox News. Cannot be phased. 5/10 https://t.co/4B7cOc1EDq 5 10 True\n",
      "666044226329800704 This is a purebred Piers Morgan. Loves to Netflix and chill. Always looks like he forgot to unplug the iron. 6/10 https://t.co/DWnyCjf2mx 6 10 True\n",
      "666033412701032449 Here is a very happy pup. Big fan of well-maintained decks. Just look at that tongue. 9/10 would cuddle af https://t.co/y671yMhoiR 9 10 True\n",
      "666029285002620928 This is a western brown Mitsubishi terrier. Upset about leaf. Actually 2 dogs here. 7/10 would walk the shit out of https://t.co/r7mOb2m0UI 7 10 True\n",
      "666020888022790149 Here we have a Japanese Irish Setter. Lost eye in Vietnam (?). Big fan of relaxing on stair. 8/10 would pet https://t.co/BLDqew2Ijj 8 10 True\n"
     ]
    }
   ],
   "source": [
    "#rating_numerator check\n",
    "lower_numerators = master_df_5[master_df_5.rating_numerator < master_df_5.rating_denominator]\n",
    "\n",
    "x = lower_numerators\n",
    "\n",
    "# loop through these and show text, rating, and tweet id:    \n",
    "for tweet_id, text, rating_numerator, rating_denominator, dog in zip(x['tweet_id'], \\\n",
    "                                                                x['text'], \\\n",
    "                                                                x['rating_numerator'], \\\n",
    "                                                                x['rating_denominator'], \\\n",
    "                                                                x['dog']):\n",
    "    print(tweet_id, text, rating_numerator, rating_denominator, dog)"
   ]
  },
  {
   "cell_type": "markdown",
   "metadata": {},
   "source": [
    "Some of these are not dogs. Remove dog rating if 'dog' is 'false'."
   ]
  },
  {
   "cell_type": "code",
   "execution_count": 285,
   "metadata": {},
   "outputs": [],
   "source": [
    "#Remove dog rating if 'dog' is 'false'.\n",
    "master_df_5.loc[master_df_5.dog == False, 'dog_rating'] = 0"
   ]
  },
  {
   "cell_type": "markdown",
   "metadata": {},
   "source": [
    "#### Test: look at dogs ratings again, checking for ratings less than 10/10."
   ]
  },
  {
   "cell_type": "code",
   "execution_count": 286,
   "metadata": {},
   "outputs": [
    {
     "name": "stdout",
     "output_type": "stream",
     "text": [
      "883482846933004288 This is Bella. She hopes her smile made you smile. If not, she is also offering you her favorite monkey. 13.5/10 https://t.co/qjrljjt948 5 10 0.5\n",
      "848212111729840128 This is Jerry. He's doing a distinguished tongue slip. Slightly patronizing tbh. You think you're better than us, Jerry? 6/10 hold me back https://t.co/DkOBbwulw1 6 10 0.6\n",
      "781661882474196992 Who keeps sending in pictures without dogs in them? This needs to stop. 5/10 for the mediocre road https://t.co/ELqelxWMrC 5 10 0.5\n",
      "777885040357281792 This is Wesley. He's clearly trespassing. Seems rather h*ckin violent too. Weaponized forehead. 3/10 wouldn't let in https://t.co/pL7wbMRW7M 3 10 0.3\n",
      "771014301343748096 Another pic without a dog in it? What am I supposed to do? Rate the carpet? Fine I will. 7/10 looks adequately comfy https://t.co/OJZQ6I4gGd 7 10 0.0\n",
      "768193404517830656 Meet Gerald. He's a fairly exotic doggo. Floofy af. Inadequate knees tho. Self conscious about large forehead. 8/10 https://t.co/WmczvjCWJq 8 10 0.0\n",
      "766423258543644672 This is Shadoe. Her tongue flies out of her mouth at random. Can't have a serious conversation with her. 9/10 https://t.co/Tytt15VquG 9 10 0.9\n",
      "763183847194451968 This is Clark. He collects teddy bears. It's absolutely h*ckin horrifying. 8/10 please stop this Clark https://t.co/EDMcwt86fU 8 10 0.8\n",
      "760252756032651264 This is Fido. He can tell the weather. Not good at fetch tho. Never comes when called. 4/10 would probably still pet https://t.co/4gOv2Q3iKP 4 10 0.0\n",
      "759099523532779520 Meet Toby. He has a drinking problem. Inflatable marijuana plant in the back is also not a good look. 7/10 cmon Toby https://t.co/Cim4DSj6Oi 7 10 0.7\n",
      "758041019896193024 Teagan reads entire books in store so they're free. Loved 50 Shades of Grey (how dare I make that joke so late) 9/10 https://t.co/l46jwv5WYv 9 10 0.0\n",
      "757596066325864448 Here's another picture without a dog in it. Idk why you guys keep sending these. 4/10 just because that's a neat rug https://t.co/mOmnL19Wsl 4 10 0.0\n",
      "757354760399941633 This is DevÃÂ³n (pronounced \"Eric\"). He forgot how to eat the apple halfway through. Wtf DevÃÂ³n get it together. 8/10 https://t.co/7waRPODGyO 8 10 0.8\n",
      "753375668877008896 This is Hank. He's mischievous af. Doesn't even know what he was trying to do here. 8/10 quit the shit Hank damn https://t.co/3r7wjfsXHc 8 10 0.8\n",
      "752334515931054080 Here's a doggo trying to catch some fish. 8/10 futile af (vid by @KellyBauerx) https://t.co/jwd0j6oWLE 8 10 0.8\n",
      "751583847268179968 Please stop sending it pictures that don't even have a doggo or pupper in them. Churlish af. 5/10 neat couch tho https://t.co/u2c9c7qSg8 5 10 0.5\n",
      "750506206503038976 This is Malcolm. He's absolutely terrified of heights. 8/10 hang in there pupper https://t.co/SVU00Sc9U2 8 10 0.0\n",
      "750383411068534784 This is Zoe. She was trying to stealthily take a picture of you but you just noticed. 9/10 not so sneaky pupper https://t.co/FfH3o88Vta 9 10 0.9\n",
      "749036806121881602 This is Dietrich. He hops at random. Other doggos don't understand him. It upsets him greatly. 8/10 would comfort https://t.co/U8cSRz8wzC 8 10 0.0\n",
      "748575535303884801 This is one of the most reckless puppers I've ever seen. How she got a license in the first place is beyond me. 6/10 https://t.co/z5bAdtn9kd 6 10 0.0\n",
      "748307329658011649 This sherk must've leapt out of the water and into the canoe, trapping the human. Won't even help paddle smh. 7/10 https://t.co/KubWEqOIgO 7 10 0.0\n",
      "747885874273214464 This is a mighty rare blue-tailed hammer sherk. Human almost lost a limb trying to take these. Be careful guys. 8/10 https://t.co/TGenMeXreW 8 10 0.8\n",
      "747816857231626240 Viewer discretion is advised. This is a terrible attack in progress. Not even in water (tragic af). 4/10 bad sherk https://t.co/L3U0j14N5R 4 10 0.4\n",
      "746369468511756288 This is an Iraqi Speed Kangaroo. It is not a dog. Please only send in dogs. I'm very angry with all of you ...9/10 https://t.co/5qpBTTpgUt 9 10 0.9\n",
      "745712589599014916 This is Percy. He fell asleep at the wheel. Irresponsible af. 7/10 absolute menace on the roadway https://t.co/QHbvtvaw8E 7 10 0.0\n",
      "745422732645535745 We only rate dogs. Pls stop sending in non-canines like this Jamaican Flop Seal. This is very very frustrating. 9/10 https://t.co/nc53zEN0hZ 9 10 0.9\n",
      "744995568523612160 This is Abby. She got her face stuck in a glass. Churlish af. 9/10 rookie move puppo https://t.co/2FPb45NXrK 9 10 0.9\n",
      "743595368194129920 This is Harold. He looks slippery af. Probably difficult to hug. Would still try tho. 7/10 great with kids I bet https://t.co/EVuqdEO66N 7 10 0.0\n",
      "742150209887731712 This is Edmund. He sends stellar selfies. Cute af. 8/10 would totally snapchat with this pupper https://t.co/PprXoqZuKY 8 10 0.0\n",
      "741438259667034112 This is Tucker. He's still figuring out couches. 9/10 keep your head up pup https://t.co/pXU77HPbJ5 9 10 0.9\n",
      "740711788199743490 Here we are witnessing the touchdown of a pupnado. It's not funny it's actually very deadly. 9/10 might still pet https://t.co/CmLoKMbOHv 9 10 0.9\n",
      "740699697422163968 This is Chip. He only mowed half the yard. 8/10 quit the shit Chip we have other things to do https://t.co/LjzZKQ7vmK 8 10 0.0\n",
      "740373189193256964 After so many requests, this is Bretagne. She was the last surviving 9/11 search dog, and our second ever 14/10. RIP https://t.co/XAVDNDaVgQ 9 11 0.8181818181818182\n",
      "740359016048689152 This is Chase. He's in a predicament. 9/10 help is on the way buddy https://t.co/0HmBk5sSbW 9 10 0.9\n",
      "739606147276148736 Meet Benji. He just turned 1. Has already given up on a traditional pupper physique. Just inhaled that thing. 9/10 https://t.co/sLUC4th3Zj 9 10 0.9\n",
      "739485634323156992 This is Kyle. He's a heavy drinker and an avid pot user. Just wants to be pupular. 6/10 I can't support this Kyle https://t.co/rRULp7XFnO 6 10 0.6\n",
      "738184450748633089 For the last time, we only rate dogs. Pls stop sending other animals like this Duck-Billed Platypus. Thank you. 9/10 https://t.co/twxYcPOafl 9 10 0.9\n",
      "737322739594330112 Say hello to Lily. She's not injured or anything. Just wants everyone to hear her. 9/10 clever af https://t.co/3xqGVH0Dhw 9 10 0.0\n",
      "735256018284875776 This is Kellogg. He accidentally opened the front facing camera. 8/10 get it together doggo https://t.co/MRYv7nDPyS 8 10 0.8\n",
      "735137028879360001 Meet Buckley. His family &amp; some neighbors came over to watch him perform but he's nervous af. 9/10 u got this pupper https://t.co/5bdCpPlno9 9 10 0.9\n",
      "730924654643314689 We only rate dogs. Pls stop sending non-canines like this Bulgarian Eyeless Porch Bear. This is unacceptable... 9/10 https://t.co/2yctWAUZ3Z 9 10 0.0\n",
      "730196704625098752 This is Charles. He's camera shy. Tail longer than average. Doesn't look overwhelmingly fluffy. 6/10 would still pet https://t.co/rXvcElhoog 6 10 0.0\n",
      "728653952833728512 This is Coleman. Somebody needs to tell him that he's sitting in chairs wrong. 8/10 https://t.co/O10zjJ2Ixs 8 10 0.0\n",
      "727286334147182592 I swear to god if we get sent another Blue Madagascan Peacock we'll deactivate. We Ã°ÂÂÂ Only Ã°ÂÂÂ Rate Ã°ÂÂÂ Dogs... 9/10 https://t.co/bbta2Q4URK 9 10 0.0\n",
      "726224900189511680 I'm getting super heckin frustrated with you all sending in non canines like this ostrich. We only rate dogs... 9/10 https://t.co/Rgbni2Ns8z 9 10 0.9\n",
      "723179728551723008 This is Jangle. She's addicted to broccoli. It's the only thing she cares about. Tragic af. 8/10 get help pup https://t.co/8dNWp1cSEa 8 10 0.0\n",
      "722974582966214656 Happy 4/20 from the squad! 13/10 for all https://t.co/eV1diwds8a 4 20 0.2\n",
      "720059472081784833 This is Charleson. He lost his plunger. Looked everywhere. Can't find it. So sad. 9/10 would comfort https://t.co/pRHX8yn9Yu 9 10 0.9\n",
      "718460005985447936 Meet Bowie. He's listening for underground squirrels. Smart af. Left eye is considerably magical. 9/10 would so pet https://t.co/JyNmyjy3fe 9 10 0.0\n",
      "718246886998687744 This is Alexanderson. He's got a weird ass birth mark. Dreadful at fetch. Won't eat kibble. 3/10 wtf @Target https://t.co/FmxOpf2Sgl 3 10 0.3\n",
      "717421804990701568 This is Ebby. She's a Zimbabwean Feta. Embarrassed by ridiculously squishy face. 9/10 would squeeze softly https://t.co/LBJqxMGaHi 9 10 0.9\n",
      "714982300363173890 This is Calbert. He forgot to clear his Google search history. 9/10 rookie mistake Calbert https://t.co/jRm5J3YCmj 9 10 0.9\n",
      "714631576617938945 This is Benedict. He's a feisty pup. Needs a brushing. Portable af. Looks very angry actually. 4/10 might not pet https://t.co/3oeFfHjv0Z 4 10 0.0\n",
      "714251586676113411 This is Thumas. He hates potted plants. 8/10 wtf Thumas https://t.co/rDVueNIcEi 8 10 0.8\n",
      "712092745624633345 This is Steven. He's inverted af. Also very helpful. Scans anything you want for free. Takes him a while tho. 7/10 https://t.co/tA0ZiQ7JcG 7 10 0.0\n",
      "712065007010385924 This is Chester. He's clearly in charge of the other dogs. Weird ass paws. Not fit for fetch. 6/10 would still pet https://t.co/o2GvskrhHt 6 10 0.0\n",
      "711652651650457602 This is Gary. He just wanted to say hi. 9/10 very personable pup https://t.co/Sk3CbhmKSW 9 10 0.0\n",
      "711306686208872448 What hooligan sent in pictures w/out a dog in them? Churlish af. 3/10 just bc that's a neat fluffy bean bag chair https://t.co/wcwoGOkZvz 3 10 0.0\n",
      "710140971284037632 This is Tater. His underbite is fierce af. Doesn't give a damn about your engagement photo. 8/10 https://t.co/nLuPY3pY12 8 10 0.8\n",
      "709519240576036864 This is Vince. He's a Gregorian Flapjeck. White spot on legs almost looks like another dog (whoa). 9/10 rad as hell https://t.co/aczGAV2dK4 9 10 0.9\n",
      "709409458133323776 This is Billy. He sensed a squirrel. 8/10 damn it Billy https://t.co/Yu0K98VZ9A 8 10 0.8\n",
      "709198395643068416 From left to right:\n",
      "Cletus, Jerome, Alejandro, Burp, &amp; Titson\n",
      "None know where camera is. 45/50 would hug all at once https://t.co/sedre1ivTK 45 50 0.9\n",
      "709042156699303936 This is Klevin. He's addicted to sandwiches (yes a hotdog is a sandwich fight me) It's tearing his family apart 9/10 https://t.co/7BkkVNu5pd 9 10 0.0\n",
      "708845821941387268 Here's a pupper with magic eyes. Not wearing a seat belt tho (irresponsible af). Very distracting to driver. 9/10 https://t.co/5DLJB4ssvI 9 10 0.9\n",
      "708119489313951744 This is Cooper. He basks in the glory of rebellion. 9/10 probably a preteen https://t.co/kDamUfeIpm 9 10 0.9\n",
      "707693576495472641 This is Jiminus. He's in a tub for some reason. What a jokester. Smh 7/10 churlish af https://t.co/84L4ED9Tpi 7 10 0.0\n",
      "707420581654872064 This is Keurig. He's a rare dog. Laughs like an idiot tho. Head is basically a weapon. Poorly maintained goatee 4/10 https://t.co/xOrUyj7K30 4 10 0.0\n",
      "707377100785885184 This dog just brutally murdered a snowman. Currently toying with its nutritious remains 9/10 would totally still pet https://t.co/iKThgKnW1j 9 10 0.9\n",
      "706901761596989440 This is Elliot. He's blocking the roadway. Downright rude as hell. Doesn't care that you're already late. 3/10 https://t.co/FMUxir5pYu 3 10 0.0\n",
      "706644897839910912 Meet Shadow. She's tired of the responsibilities associated with being a dog. No longer strives to attain ball. 9/10 https://t.co/cdOkfEpjFw 9 10 0.0\n",
      "706166467411222528 This is Dexter. He's a shy pup. Doesn't bark much. Dreadful fetcher. Has rare sun allergy. 7/10 still petable https://t.co/sA7P3JSqiv 7 10 0.7\n",
      "705223444686888960 This is Bode. He's a heavy sleeper. 9/10 https://t.co/YMkxhGWUqv 9 10 0.0\n",
      "704819833553219584 This is Chesterson. He's a Bolivian Scoop Dog. Incredibly portable. Can't bark for shit tho. 7/10 would still pet https://t.co/EatAd8JhyW 7 10 0.0\n",
      "704113298707505153 Meet Stanley. He's an inverted Uzbekistani water pup. Hella exotic. Floats around all day. 8/10 I want to be Stanley https://t.co/XpYMBQ1FD8 8 10 0.0\n",
      "703425003149250560 Really guys? Again? I know this is a rare Albanian Bingo Seal, but we only rate dogs. Only send in dogs... 9/10 https://t.co/6JYLpUmBrC 9 10 0.9\n",
      "703356393781329922 This is Socks. That water pup w the super legs just splashed him. Socks did not appreciate that. 9/10 and 2/10 https://t.co/8rc5I22bBf 9 10 0.9\n",
      "702932127499816960 This is Chip. He's an Upper West Nile Pantaloon. Extremely deadly. Will rip your throat out. 6/10 might still pet https://t.co/LUFnwzznaV 6 10 0.0\n",
      "702217446468493312 I know it's tempting, but please stop sending in pics of Donald Trump. Thank you ...9/10 https://t.co/y35Y1TJERY 9 10 0.9\n",
      "701570477911896070 This is Yoda. He's a Zimbabwean Rutabaga. Freaks out if u stop scratching his belly. Incredibly self-centered. 9/10 https://t.co/yVdMsVYHIx 9 10 0.9\n",
      "700796979434098688 This is Daniel. He's a neat pup. Exotic af. Custom paws. Leaps unannounced. Would totally pet. 7/10 daaamn Daniel https://t.co/5XaR0kj8cr 7 10 0.0\n",
      "700462010979500032 This is Murphy. He's a mini golden retriever. Missing two legs (tragic). Mouth sharp. Looks rather perturbed. 6/10 https://t.co/ALO02IAKCn 6 10 0.0\n",
      "700062718104104960 This is Eazy-E. He's colorful af. Must be rare. Submerged in Sprite (rad). Doesn't perform well when not wet. 6/10 https://t.co/UtFI7eUCjE 6 10 0.0\n",
      "700002074055016451 This is Thumas. He covered himself in nanners for maximum camouflage. It didn't work. I can still see u Thumas. 9/10 https://t.co/x0ZDlNqfb1 9 10 0.9\n",
      "699691744225525762 This is Dave. He's a tropical pup. Short lil legs (dachshund mix?) Excels underwater, but refuses to eat kibble 5/10 https://t.co/ZJnCxlIf62 5 10 0.0\n",
      "699088579889332224 This is Charl. He's a bully. Chucks that dumbbell around like its nothing. Sharp neck. Exceptionally unfluffy. 3/10 https://t.co/VfLoDZecJ7 3 10 0.0\n",
      "699079609774645248 Meet Reagan. He's a Persnicketus Derpson. Great with kids. Permanently caught off guard. 8/10 https://t.co/A2j2StfNgL 8 10 0.8\n",
      "698703483621523456 This is Rusty. He has no respect for POULTRY products. Unbelievable af. 7/10 would still pet https://t.co/hEH19t1eFp 7 10 0.7\n",
      "698549713696649216 This is Claude. He's trying to be seductive but he forgot to turn on the fireplace. 9/10 damn it Claude https://t.co/EPdQquc1dG 9 10 0.9\n",
      "698195409219559425 Meet Beau &amp; Wilbur. Wilbur stole Beau's bed from him. Wilbur now has so much room for activities. 9/10 for both pups https://t.co/GPaoH5qWEk 9 10 0.9\n",
      "697575480820686848 This is Ole. He's not sure how to gravity. 8/10 https://t.co/PsqqotpBBQ 8 10 0.0\n",
      "697259378236399616 Please stop sending in saber-toothed tigers. This is getting ridiculous. We only rate dogs.\n",
      "...8/10 https://t.co/iAeQNueou8 8 10 0.8\n",
      "696894894812565505 These two pirates crashed their ship and don't know what to do now. Very irresponsible of them. Both 9/10 https://t.co/RJvUjgGH5z 9 10 0.9\n",
      "696877980375769088 This is Misty. She's in a predicament. Not sure what next move should be. 9/10 stay calm pupper I'm comin https://t.co/XhR7PAgcwF 9 10 0.0\n",
      "696713835009417216 This is Trevith. He's a Swiss Mountain Roadwoof. Breeze too powerful. 9/10 stay strong pupper https://t.co/6J8Ibwy1X6 9 10 0.0\n",
      "696405997980676096 This is Berb. He just found out that they have made 31 Kidz Bop CD's. Downright terrifying. 7/10 hang in there Berb https://t.co/CIFLjiTFwZ 7 10 0.7\n",
      "695629776980148225 Meet Calvin. He's proof that degrees mean absolutely nothing. 8/10 straighten up pup https://t.co/NIvxgSQ9BS 8 10 0.8\n",
      "695064344191721472 This may be the greatest video I've ever been sent. 4/10 for Charles the puppy, 13/10 overall. (Vid by @stevenxx_) https://t.co/uaJmNgXR2P 4 10 0.0\n",
      "695051054296211456 Meet Brian (pronounced \"Kirk\"). He's not amused by ur churlish tomfoolery. Once u put him down you're done for. 6/10 https://t.co/vityMwPKKi 6 10 0.6\n",
      "694329668942569472 Meet Grady. He's very hungry. Too bad no one can find his food bowl. 9/10 poor pupper https://t.co/oToIkYnEGn 9 10 0.9\n",
      "694183373896572928 This is Lola. She realized mid hug that she's not ready for a committed relationship with a teddy bear. 9/10 https://t.co/pVebzwRioD 9 10 0.0\n",
      "693647888581312512 What kind of person sends in a pic without a dog in it? So churlish. Neat rug tho 7/10 https://t.co/LSTAwTdTaw 7 10 0.0\n",
      "693642232151285760 Meet Freddery. He's a Westminster Toblerone. Seems to enjoy car rides. 9/10 would pat on the head approvingly https://t.co/6BS9XEip9a 9 10 0.9\n",
      "693590843962331137 Meet Phil. He's big af. Currently destroying this nice family home. Completely uncalled for. 3/10 not a good pupper https://t.co/fShNNhBWYx 3 10 0.0\n",
      "693231807727280129 This is Bodie. He's not proud of what he did, but it needed to be done. 9/10 eight days was a pretty good streak tbh https://t.co/bpZsGMqVVP 9 10 0.9\n",
      "692919143163629568 Please only send in dogs. Don't submit other things like this pic of Kenny Chesney in a bathtub. Thank you. 9/10 https://t.co/TMpDHHGspy 9 10 0.9\n",
      "692417313023332352 Meet Herschel. He's slightly bigger than ur average pupper. Looks lonely. Could probably ride 7/10 would totally pet https://t.co/VGaIMktX10 7 10 0.0\n",
      "692017291282812928 This is Kingsley Wellensworth III. He owns 7 range rovers. Has a cardigan collection. Would rather be sailing. 9/10 https://t.co/BE4ahQ0IO2 9 10 0.9\n",
      "691820333922455552 This is Brockly. He's an uber driver. Falls asleep at the wheel often. Irresponsible af 8/10 would totally still pet https://t.co/fn1oUlS69Z 8 10 0.0\n",
      "691483041324204033 When bae says they can't go out but you see them with someone else that same night. 5/10 &amp; 10/10 for heartbroken pup https://t.co/aenk0KpoWM 5 10 0.5\n",
      "690728923253055490 This is Vinscent. He was just questioned about his recent credit card spending. 8/10 https://t.co/qOD4G19A2u 8 10 0.8\n",
      "690360449368465409 Stop sending in lobsters. This is the final warning. We only rate dogs. Thank you... 9/10 https://t.co/B9ZXXKJYNx 9 10 0.9\n",
      "689877686181715968 This is Durg. He's trying to conquer his fear of trampolines. 9/10 it's not working https://t.co/5iH08ltkoe 9 10 0.9\n",
      "689659372465688576 This is Ricky. He's being escorted out of the dog park for talking shit about the other dogs. 8/10 not cool Ricky https://t.co/XtDkrsdEfF 8 10 0.0\n",
      "689283819090870273 Say hello to Chipson. He's aerodynamic af. No eyes (devastating). 9/10 would make sure he didn't bump into stuff https://t.co/V62rIva61J 9 10 0.9\n",
      "689154315265683456 We normally don't rate birds but I feel bad cos this one forgot to fly south for the winter. 9/10 just wants a bath https://t.co/o47yitCn9N 9 10 0.9\n",
      "688908934925697024 Meet Clarence. He does parkour. 8/10 very talented dog https://t.co/WpSFZm7RPH 8 10 0.0\n",
      "688894073864884227 This is Hamrick. He's covered in corn flakes. Silly pupper. Looks congested. 7/10 considerably petable https://t.co/ROPZcAMQKI 7 10 0.0\n",
      "688828561667567616 Say hello to Brad. His car probably has a spoiler. Tan year round. Likes your insta pic but doesn't text back. 9/10 https://t.co/dfCCK3tWfr 9 10 0.9\n",
      "688789766343622656 Meet Pubert. He's a Kerplunk Rumplestilt. Cannot comprehend flower. Flawless tongue. 8/10 would pat head approvingly https://t.co/2TWxg0rgyG 8 10 0.8\n",
      "688547210804498433 This is FrÃÂ¶nq. He got caught stealing a waffle. Damn it FrÃÂ¶nq. 9/10 https://t.co/7ycWCUrjmZ 9 10 0.9\n",
      "687704180304273409 Say hello to Blakely. He thinks that's a hat. Silly pupper. That's a nanner. 9/10 https://t.co/UwOV1jqKRt 9 10 0.9\n",
      "687494652870668288 This is Marq. He stole this car. 7/10 wtf Marq? https://t.co/MHScqo5l8c 7 10 0.7\n",
      "687312378585812992 \"You got any games on your phone\" 7/10 for invasive brown Dalmatian pupper https://t.co/yzGR9xjE9Q 7 10 0.0\n",
      "687127927494963200 Meet Gordon. He's an asshole. 9/10 would still pet https://t.co/a34N7QwKbb 9 10 0.9\n",
      "687102708889812993 Army of water dogs here. None of them know where they're going. Have no real purpose. Aggressive barks. 5/10 for all https://t.co/A88x73TwMN 5 10 0.0\n",
      "686749460672679938 Strange pup here. Easily manipulated. Rather inbred. Sharp for a dog. Appears uncomfortable. 8/10 would still pet https://t.co/nSQrhwbk1V 8 10 0.0\n",
      "686003207160610816 This is Hammond. He's a peculiar pup. Loves long walks. Bark barely audible. Too many legs. 3/10 must be rare https://t.co/NOIiRWr5Jf 3 10 0.0\n",
      "685943807276412928 This is the newly formed pupper a capella group. They're just starting out but I see tons of potential. 8/10 for all https://t.co/wbAcvFoNtn 8 10 0.8\n",
      "685906723014619143 This is Olive. He's stuck in a sleeve. 9/10 damn it Olive https://t.co/NnLjg6BgyF 9 10 0.9\n",
      "685667379192414208 This is Marty. He has no idea what happened here. Never seen this stuff in his life. 9/10 very suspicious pupper https://t.co/u427woxFpJ 9 10 0.0\n",
      "685641971164143616 This is Otis. He just passed a cop while going 61 in a 45. Very nervous pupper. 7/10 https://t.co/jJS8qQeuNO 7 10 0.7\n",
      "685532292383666176 For the last time, WE. DO. NOT. RATE. BULBASAUR. We only rate dogs. Please only send dogs. Thank you ...9/10 https://t.co/GboDG8WhJG 9 10 0.0\n",
      "684959798585110529 This is Jerry. He's a neat dog. No legs (tragic). Has more horns than a dog usually does. Bark is unique af. 5/10 https://t.co/85q7xlplsJ 5 10 0.0\n",
      "684880619965411328 Here we have a basking dino pupper. Looks powerful. Occasionally shits eggs. Doesn't want the holidays to end. 5/10 https://t.co/DnNweb5eTO 5 10 0.0\n",
      "684567543613382656 This is Bobby. He doesn't give a damn about personal space. Convinced he called shotgun first. 4/10 not the best dog https://t.co/b8XW69gSaU 4 10 0.0\n",
      "684200372118904832 Gang of fearless hoofed puppers here. Straight savages. Elevated for extra terror. Front one has killed before 6/10s https://t.co/jkCb25OWfh 6 10 0.0\n",
      "684195085588783105 This is Tino. He really likes corndogs. 9/10 https://t.co/cUxGtnBfc2 9 10 0.9\n",
      "683849932751646720 This is Jiminy. He's not the brightest dog. Needs to lay off the kibble. 5/10 still petable https://t.co/omln4LOy1x 5 10 0.0\n",
      "683834909291606017 Here we see a faulty pupper. Might need to replace batteries. Try turning off &amp; back on again. 9/10 would still pet https://t.co/O1E4AtHVxO 9 10 0.9\n",
      "683773439333797890 This is Buddy. He's gaining strength. Currently an F4 tornado with wind speeds up to 260mph. Very devastating. 9/10 https://t.co/qipZbshNsR 9 10 0.9\n",
      "683462770029932544 \"Hello forest pupper I am house pupper welcome to my abode\" (8/10 for both) https://t.co/qFD8217fUT 8 10 0.8\n",
      "683142553609318400 Meet Brandy. She's a member of the Bloods. Menacing criminal pupper. Soft spot for flowers tho. 9/10 pet w caution https://t.co/hhIA3coiAJ 9 10 0.9\n",
      "683078886620553216 Here we see a nifty leaping pupper. Feet look deadly. Sad that the holidays are over. 9/10 undeniably huggable https://t.co/ny8mnXhGOW 9 10 0.0\n",
      "682962037429899265 This is Darrel. He just robbed a 7/11 and is in a high speed police chase. Was just spotted by the helicopter 10/10 https://t.co/7EsP8LmSp5 7 11 0.0\n",
      "682750546109968385 Meet Taco. He's a speckled Garnier Fructis. Loves to shadow box. Ears out of control. Friend clearly impressed 9/10 https://t.co/85X1GHohFr 9 10 0.9\n",
      "682429480204398592 I know we joke around on here, but this is getting really frustrating. We rate dogs. Not T-Rex. Thank you... 8/10 https://t.co/5aFw7SWyxU 8 10 0.8\n",
      "682406705142087680 This is Patrick. He's a bigass pupper. 7/10 https://t.co/J9DXBFoAQe 7 10 0.0\n",
      "682389078323662849 Meet Brody. He's a Downton Abbey Falsetto. Addicted to grating cheese. He says he can stop but we know he can't\n",
      "9/10 https://t.co/vBeiQq6SaZ 9 10 0.9\n",
      "682303737705140231 This is Todo. He's screaming because he doesn't want to wear his sweater or a seat belt. 9/10 gotta buckle up pup https://t.co/Nm8Spw4HbD 9 10 0.0\n",
      "682259524040966145 Meet Jax. He's an Iglesias Hufflepoof. Quite the jokester. Takes it too far sometimes. Can be very hurtful. 9/10 https://t.co/i5TeG0KYcW 9 10 0.9\n",
      "682003177596559360 Unique dog here. Wrinkly as hell. Weird segmented neck. Finger on fire. Doesn't seem to notice. 5/10 might still pet https://t.co/Hy9La4xNX3 5 10 0.0\n",
      "681679526984871937 Can you spot Toby the guilty pupper? 7/10 would be higher but he made quite the mess shredding his stuffed pals https://t.co/3uCcDEJLXs 7 10 0.0\n",
      "681579835668455424 This is Apollo. He thought you weren't coming back so he had a mental breakdown. 8/10 we've all been there https://t.co/ojUBrDCHLT 8 10 0.8\n",
      "681339448655802368 This is Asher. He's not wearing a seatbelt or keeping both paws on the wheel. Absolute menace on the roadways. 9/10 https://t.co/V3SWuHACkh 9 10 0.0\n",
      "681302363064414209 This is Chuck. He's a neat dog. Very flexible. Trapped in a glass case of emotion. Devastatingly unfluffy 3/10 https://t.co/YqbU9xHV3p 3 10 0.0\n",
      "681261549936340994 Say hello to Panda. He's a Quackadilly Shooster. Not amused by your fake ball throwing motion. 9/10 would hug lots https://t.co/wL1iDvbcVk 9 10 0.9\n",
      "680970795137544192 I thought I made this very clear. We only rate dogs. Stop sending other things like this shark. Thank you... 9/10 https://t.co/CXSJZ4Stk3 9 10 0.9\n",
      "680959110691590145 This is Ozzie. He was doing fine until he lost traction in those festive socks. Now he's tired. 9/10 still killin it https://t.co/u4FYdIRKnY 9 10 0.0\n",
      "680940246314430465 This is Alice. She's an idiot. 4/10 https://t.co/VQXdwJfkyS 4 10 0.4\n",
      "680889648562991104 This is Cheesy. It's her birthday. She's patiently waiting to eat her party muffin. 9/10 happy birthday pup https://t.co/cH2H7mch2H 9 10 0.9\n",
      "680798457301471234 Say hello to Moofasa. He must be a powerful dog. Fenced in for your protection. Just got his ear pierced. 6/10 https://t.co/w6fRfQ3RXD 6 10 0.0\n",
      "680609293079592961 This is Brody. That is his chair. He loves his chair. Never leaves it. 9/10 might be stuck actually https://t.co/WvJRg0XJit 9 10 0.9\n",
      "680583894916304897 This is Penny. Her tennis ball slowly rolled down her cone and into the pool. 8/10 bad things happen to good puppers https://t.co/YNWU7LeFgg 8 10 0.0\n",
      "680115823365742593 This is Ozzy. He woke up 2 minutes before he had to be ready for the Christmas party. 9/10 classic Ozzy https://t.co/Kt9vmw0Fap 9 10 0.9\n",
      "680070545539371008 Say hello to Emmie. She's trapped in an ornament. Tragic af. Looks pretty content tho. Maybe it's meant to be. 9/10 https://t.co/Fh7geodBCU 9 10 0.0\n",
      "679877062409191424 Meet Penelope. She's a bacon frise. Total babe (lol get it like the movie). Doesn't bark tho. 5/10 very average dog https://t.co/SDcQYg0HSZ 5 10 0.0\n",
      "679854723806179328 This is Bruce. He's a rare pup. Covered in Frosted Flakes. Nifty gold teeth. Overall good dog. 7/10 would pet firmly https://t.co/RtxxACzZ8A 7 10 0.0\n",
      "679736210798047232 This pup's name is Sabertooth (parents must be cool). Ears for days. Jumps unannounced. 9/10 would pet diligently https://t.co/iazoiNUviP 9 10 0.9\n",
      "679729593985699840 This is Hunter. He was playing with his ball minding his own business. Has no idea what happened to the carpet. 8/10 https://t.co/DbUTDI3u1R 8 10 0.0\n",
      "679722016581222400 This is Mike. He is a Jordanian Frito Pilates. Frowning because he can't see directly in front of him. 8/10 https://t.co/NL5QJwdEpF 8 10 0.8\n",
      "679530280114372609 Guys this really needs to stop. We've been over this way too many times. This is a giraffe. We only rate dogs.. 7/10 https://t.co/yavgkHYPOC 7 10 0.7\n",
      "679511351870550016 Say hello to William. He makes fun of others because he's terrified of his own deep-seated insecurities. 7/10 https://t.co/bwuV6FlRxr 7 10 0.7\n",
      "679503373272485890 This is Dwight. He's a pointy pupper. Very docile. Attracts marshmallows. Hurts to pet but definitely worth it 8/10 https://t.co/jjW7zTxY9Z 8 10 0.0\n",
      "679475951516934144 This is Evy. She doesn't want to be a Koala. 9/10 https://t.co/VITeF0Kl9L 9 10 0.9\n",
      "679148763231985668 I know everyone's excited for Christmas but that doesn't mean you can send in reindeer. We only rate dogs... 8/10 https://t.co/eWjWgbOCYL 8 10 0.8\n",
      "679047485189439488 This dog doesn't know how to stairs. Quite tragic really. 9/10 get it together pup https://t.co/kTpr9PTMg1 9 10 0.0\n",
      "678798276842360832 This is Linda. She fucking hates trees. 7/10 https://t.co/blaY85FIxR 7 10 0.7\n",
      "678767140346941444 This is Mia. She makes awful decisions. 8/10 https://t.co/G6TQVgTcZz 8 10 0.0\n",
      "678740035362037760 Meet Tango. He's a large dog. Doesn't care much for personal space. Owner isn't very accepting. Tongue slip. 6/10 https://t.co/p2T5kGebxe 6 10 0.0\n",
      "678675843183484930 Exotic pup here. Tail long af. Throat looks swollen. Might breathe fire. Exceptionally unfluffy 2/10 would still pet https://t.co/a8SqCaSo2r 2 10 0.0\n",
      "678424312106393600 This is Crystal. She's a shitty fireman. No sense of urgency. People could be dying Crystal. 2/10 just irresponsible https://t.co/rtMtjSl9pz 2 10 0.2\n",
      "678255464182861824 This is Jessifer. She is a Bismoth Teriyaki. Flowers being attacked by hurricanes on bandana (rad). 9/10 stellar pup https://t.co/nZhmRwZzWv 9 10 0.9\n",
      "677895101218201600 Guys this was terrifying. Really spooked me up. We don't rate ghosts. We rate dogs. Please only send dogs... 9/10 https://t.co/EJImi1udYb 9 10 0.9\n",
      "677698403548192770 This is Sadie. She got her holidays confused. 9/10 damn it Sadie https://t.co/fm7HxOsuPK 9 10 0.9\n",
      "677673981332312066 Endangered triangular pup here. Could be a wizard. Caught mid-laugh. No legs. Just fluff. Probably a wizard. 9/10 https://t.co/GFVIHIod0Z 9 10 0.9\n",
      "677565715327688705 Contortionist pup here. Inside pentagram. Clearly worships Satan. Known to slowly push fragile stuff off tables 6/10 https://t.co/EX9oR55VMe 6 10 0.6\n",
      "677530072887205888 Say hello to Axel. He's a Black Chevy Pinot on wheels. 0 to 60 in 5.7 seconds (if downhill). 9/10 I call shotgun https://t.co/DKe9DBnnHE 9 10 0.9\n",
      "677334615166730240 This dog gave up mid jump. 9/10 https://t.co/KmMv3Y2zI8 9 10 0.9\n",
      "677331501395156992 Meet Humphrey. He's a Northern Polyp Viagra. One ear works. Face stuck like that. Always surprised. 9/10 petable af https://t.co/FS7eJQM2F4 9 10 0.9\n",
      "677301033169788928 This is Juckson. He's totally on his way to a nascar race. 5/10 for Juckson https://t.co/IoLRvF0Kak 5 10 0.5\n",
      "677187300187611136 Here we see a Byzantine Rigatoni. Very aerodynamic. No eyes. Actually not windy here they just look like that. 9/10 https://t.co/gzI0m6wXRo 9 10 0.9\n",
      "676949632774234114 This is Tyrus. He's a Speckled Centennial Ticonderoga. Terrified of floating red ball. Nifty bandana. 8/10 v petable https://t.co/HqM3YhCaaa 8 10 0.8\n",
      "676948236477857792 This is Karl. Karl thinks he's slick. 6/10 sneaky pup https://t.co/Lo4ALwjVh4 6 10 0.0\n",
      "676942428000112642 Who leaves the last cupcake just sitting there? 9/10 https://t.co/PWMqAoEx2a 9 10 0.0\n",
      "676936541936185344 Here we see a rare pouched pupper. Ample storage space. Looks alert. Jumps at random. Kicked open that door. 8/10 https://t.co/mqvaxleHRz 8 10 0.8\n",
      "676897532954456065 Exotic handheld dog here. Appears unathletic. Feet look deadly. Can be thrown a great distance. 5/10 might pet idk https://t.co/Avq4awulqk 5 10 0.0\n",
      "676811746707918848 Say hello to Penny &amp; Gizmo. They are practicing their caroling. The ambition in the room is tangible. 9/10 for both https://t.co/aqBHjjh5VD 9 10 0.9\n",
      "676603393314578432 This is Godzilla pupper. He had a ruff childhood &amp; now deflects that pain outward by terrorizing cities. Tragic 9/10 https://t.co/g1tLGkyaxr 9 10 0.9\n",
      "676588346097852417 This is Bubbles. He kinda resembles a fish. Always makes eye contact with u no matter what. Sneaky tongue slip. 5/10 https://t.co/Nrhvc5tLFT 5 10 0.5\n",
      "676582956622721024 Meet Vinnie. He's having fun while being safe. Well not a lot of fun, but definitely safe, and that's important 8/10 https://t.co/vZYtynZZlH 8 10 0.0\n",
      "676575501977128964 This pupper is very passionate about Christmas. Wanted to give the tree a hug. So cute. 8/10 https://t.co/NsGyECJuq7 8 10 0.0\n",
      "676496375194980353 Say hello to Griffin. He's upset because his costume for Halloween didn't arrive until today. 9/10 cheer up pup https://t.co/eoBCjSFajX 9 10 0.9\n",
      "676237365392908289 Say hello to Winston. He has no respect for the system. Much rebellion. I think that's a palm tree... nice. 8/10 https://t.co/dOLQddhXLZ 8 10 0.8\n",
      "676215927814406144 This is Herm. He just wants to be like the other dogs. Sneaky tongue slip. Super fuzzy. 9/10 would cuddle firmly https://t.co/tg8h9lzCHv 9 10 0.0\n",
      "676098748976615425 Extremely rare pup here. Very religious. Always praying. Too many legs. Not overwhelmingly fluffy. Won't bark. 3/10 https://t.co/REyE5YKVBb 3 10 0.0\n",
      "676089483918516224 \"Yes hello I'ma just snag this here toasted bagel real quick. carry on.\" 9/10 https://t.co/Cuz0Osnekp 9 10 0.9\n",
      "675891555769696257 This is Donny. He's summoning the demon monster Babadook. 6/10 Donny please no that won't be a good time for anyone https://t.co/kiW6Knb7Gp 6 10 0.6\n",
      "675483430902214656 Rare shielded battle dog here. Very happy about abundance of lettuce. Painfully slow fetcher. Still petable. 5/10 https://t.co/C3tlKVq7eO 5 10 0.0\n",
      "675153376133427200 What kind of person sends in a picture without a dog in it? 1/10 just because that's a nice table https://t.co/RDXCfk8hK0 1 10 0.0\n",
      "675146535592706048 This is Coops. He's yelling at the carpet. Not very productive Coops. 7/10 https://t.co/Uz52oYnHzF 7 10 0.0\n",
      "675145476954566656 What an honor. 3 dogs here. Blond one is clearly a gymnast. Other two just confused. Very nifty pups. 9/10 for all https://t.co/YDgstgIDGs 9 10 0.9\n",
      "675135153782571009 This is Steven. He got locked outside. Damn it Steven. 5/10 nice grill tho https://t.co/zf7Sxxjfp3 5 10 0.0\n",
      "675111688094527488 Say hello to Oliver. He thought what was inside the pillow should be outside the pillow. Blurry since birth. 8/10 https://t.co/lFU9W31Fg9 8 10 0.8\n",
      "675109292475830276 C'mon guys. We've been over this. We only rate dogs. This is a cow. Please only submit dogs. Thank you...... 9/10 https://t.co/WjcELNEqN2 9 10 0.9\n",
      "674788554665512960 Say hello to Maggie. She's a Western Septic Downy. Pretends to be Mexican. Great hardwood flooring. 9/10 https://t.co/P3ElQ2wsjb 9 10 0.9\n",
      "674781762103414784 Bedazzled pup here. Fashionable af. Super yellow. Looks hella fluffy. Webbed paws for efficient fetching. 8/10 https://t.co/ot8yMUGodj 8 10 0.0\n",
      "674690135443775488 Meet Patrick. He's an exotic pup. Jumps great distances for a dog. Always gets injured when I toss him a ball. 3/10 https://t.co/Unz1uNrOzo 3 10 0.0\n",
      "674670581682434048 Meet Jeb &amp; Bush. Jeb is somehow stuck in that fence and Bush won't stop whispering sweet nothings in his ear. 9/10s https://t.co/NRNExUy9Hm 9 10 0.9\n",
      "674646392044941312 Two gorgeous dogs here. Little waddling dog is a rebel. Refuses to look at camera. Must be a preteen. 5/10 &amp; 8/10 https://t.co/YPfw7oahbD 5 10 0.5\n",
      "674632714662858753 Rare submerged pup here. Holds breath for a long time. Frowning because that spoon ignores him. 5/10 would still pet https://t.co/EJzzNHE8bE 5 10 0.0\n",
      "674436901579923456 Meet Bailey. She plays with her food. Very childish. Doesn't even need a battle helmet smh. Still cute though. 9/10 https://t.co/CLEOjxhTEx 9 10 0.0\n",
      "674394782723014656 This is Gary. He's a hide and seek champion. Second only to Kony. 8/10 Gary has a gift https://t.co/cAlB4XCcsi 8 10 0.0\n",
      "674318007229923329 This is Lennon. He's in quite the predicament. 8/10 hang in there pupper https://t.co/7mf8XXPAZv 8 10 0.0\n",
      "674269164442398721 This is Bob. He's a Juniper Fitzsimmons. His body is 2, but his face is 85. Always looks miserable. Nice stool. 8/10 https://t.co/vYe9RlVz2N 8 10 0.8\n",
      "674265582246694913 This is Henry. He's a shit dog. Short pointy ears. Leaves trail of pee. Not fluffy. Doesn't come when called. 2/10 https://t.co/Pu9RhfHDEQ 2 10 0.0\n",
      "674262580978937856 This is Gus. He's super stoked about being an elephant. Couldn't be happier. 9/10 for elephant pupper https://t.co/gJS1qU0jP7 9 10 0.9\n",
      "674063288070742018 This is Earl. Earl is lost. Someone help Earl. He has no tags. Just trying to get home. 5/10 hang in there Earl https://t.co/1ZbfqAVDg6 5 10 0.0\n",
      "674045139690631169 Herd of wild dogs here. Not sure what they're trying to do. No real goals in life. 3/10 find your purpose puppers https://t.co/t5ih0VrK02 3 10 0.0\n",
      "674036086168010753 Meet Daisy. She has no eyes &amp; her face has been blurry since birth. Quite the trooper tho. Still havin a blast. 9/10 https://t.co/jcNdw43BIP 9 10 0.9\n",
      "673906403526995968 Guys I'm getting real tired of this. We only rate dogs. Please don't send in other things like this Bulbasaur. 3/10 https://t.co/t5rQHl6W8M 3 10 0.0\n",
      "673715861853720576 This is a heavily opinionated dog. Loves walls. Nobody knows how the hair works. Always ready for a kiss. 4/10 https://t.co/dFiaKZ9cDl 4 10 0.0\n",
      "673705679337693185 This is Dot. He found out you only pretended to throw the ball that one time. You don't fuck with Dot. 8/10 https://t.co/Ymg4fwKlZd 8 10 0.8\n",
      "673700254269775872 Large blue dog here. Cool shades. Flipping us off w both hands. Obviously a preteen. 3/10 for rude blue preteen pup https://t.co/mcPd5AFfhA 3 10 0.0\n",
      "673697980713705472 This is Pickles. She's a tiny pointy pupper. Average walker. Very skeptical of wet leaf. 8/10 https://t.co/lepRCaGcgw 8 10 0.0\n",
      "673688752737402881 Meet Larry. He doesn't know how to shoe. 9/10 damn it Larry https://t.co/jMki5GOV3y 9 10 0.9\n",
      "673612854080196609 This is Jeffri. He's a speckled ice pupper. Very lazy. Enjoys the occasional swim. Rather majestic really. 7/10 https://t.co/0iyItbtkr8 7 10 0.7\n",
      "673580926094458881 When you ask your professor about extra credit on the last day of class. 8/10 https://t.co/H6rqZyE4NP 8 10 0.8\n",
      "673576835670777856 Sun burnt dog here. Quite large. Wants to promote peace. Looks unemployed. Ears for days. 7/10 would pet profusely https://t.co/WlKiN3ll0w 7 10 0.0\n",
      "673359818736984064 This is Steve. He was just relaxing in hot tub when he was intruded upon. 8/10 poor little pup https://t.co/EPq0MRAraJ 8 10 0.8\n",
      "673350198937153538 This is Bella. She's a Genghis Flopped Canuck. Stuck in trash can. 9/10 not to happy about it https://t.co/RMv9EAv57u 9 10 0.9\n",
      "673345638550134785 This is Gerald. He's a fluffy lil yellow pup. Always looks like his favorite team just lost on a hail mary. 7/10 https://t.co/GpSkpN8kXS 7 10 0.0\n",
      "673295268553605120 Meet Eve. She's a raging alcoholic 8/10 (would b 11/10 but pupper alcoholism is a tragic issue that I can't condone) https://t.co/U36HYQIijg 8 10 0.8\n",
      "673240798075449344 Magical floating dog here. Very calm. Always hangs by the pond. Rather moist. Good listener. 6/10 personally I'd pet https://t.co/1euKoOvy49 6 10 0.6\n",
      "673148804208660480 This is Fletcher. He's had a ruff night. No more Fireball for Fletcher. 8/10 it'll be over soon pupper https://t.co/tA4WpkI2cw 8 10 0.0\n",
      "672995267319328768 This is Pumpkin. He can look in two different directions at once. Great with a screwdriver. 8/10 https://t.co/odpuqtz2Fq 8 10 0.8\n",
      "672984142909456390 Very happy pup here. Always smiling. Loves his little leaf. Carries it everywhere with him. 9/10 https://t.co/81BCQAyvcs 9 10 0.0\n",
      "672980819271634944 Extraordinary dog here. Looks large. Just a head. No body. Rather intrusive. 5/10 would still pet https://t.co/ufHWUFA9Pu 5 10 0.0\n",
      "672970152493887488 This is Chet. He's having a hard time. Really struggling. 7/10 hang in there pupper https://t.co/eb4ta0xtnd 7 10 0.0\n",
      "672902681409806336 This is Jimison. He's stuck in a pot. Damn it Jimison. 9/10 https://t.co/KpLyca3o3E 9 10 0.0\n",
      "672884426393653248 Marvelous dog here. Rad ears. Not very soft. Large tumor on nose. Has a pet rock. Good w kids. 6/10 overall neat pup https://t.co/g5YkRqP0dg 6 10 0.0\n",
      "672877615439593473 This is Oscar. He's getting bombarded with the snacks. Not sure he's happy about it. 8/10 for Oscar https://t.co/dJHI7uC2y3 8 10 0.8\n",
      "672828477930868736 This is Jerry. He's a Timbuk Slytherin. Eats his pizza from the side first. Crushed that cup with his bare paws 9/10 https://t.co/fvxHL6cRRs 9 10 0.0\n",
      "672640509974827008 This is Leonidas. He just got rekt by a snowball. 9/10 doggy down https://t.co/uNrmYDUa9M 9 10 0.9\n",
      "672614745925664768 This is Norman. Doesn't bark much. Very docile pup. Up to date on current events. Overall nifty pupper. 6/10 https://t.co/ntxsR98f3U 6 10 0.0\n",
      "672609152938721280 This is Caryl. Likes to get in the microwave. 9/10 damn it Caryl https://t.co/YAVwvNaois 9 10 0.0\n",
      "672594978741354496 Meet Scott. Just trying to catch his train to work. Doesn't need everybody staring. 9/10 ignore the haters pupper https://t.co/jyXbZ35MYz 9 10 0.9\n",
      "672591271085670400 Lots of pups here. All are Judea Hazelnuts. Exceptionally portable. 8/10 for all https://t.co/Pa8EmpDCuI 8 10 0.0\n",
      "672538107540070400 Meet Darby. He's a Fiscal Tutankhamen Waxbeard. Really likes steak. 7/10 https://t.co/rSndxTL0Ap 7 10 0.0\n",
      "672475084225949696 This is Buddy. He's photogenic af. Loves to sexily exit pond. Very striped. Comes with shield. 8/10 would pet well https://t.co/mYhQvAdV4f 8 10 0.0\n",
      "672256522047614977 Mighty rare dogs here. Long smooth necks. Great knees. Travel in squads. 1 out of every 14 is massive. 8/10 for all https://t.co/PoMKKnKpRd 8 10 0.0\n",
      "672239279297454080 This is Ridley. He doesn't know how to couch. 7/10 https://t.co/UHJE0UgMf7 7 10 0.7\n",
      "672231046314901505 Exotic underwater dog here. Very shy. Wont return tennis balls I toss him. Never been petted. 5/10 I bet he's soft https://t.co/WH7Nzc5IBA 5 10 0.0\n",
      "672222792075620352 This is Cal. He's a Swedish Geriatric Cheddar. Upset because the pope is laughing at his eyebrows. 9/10 https://t.co/EW4MsOrF5O 9 10 0.9\n",
      "672205392827572224 This is Opal. He's a Royal John Coctostan. Ready for transport. Basically indestructible. 9/10 good pupper https://t.co/yRBQF9OS7D 9 10 0.0\n",
      "672160042234327040 This is Bubba. He's a Titted Peebles Aorta. Evolutionary masterpiece. Comfortable with his body. 8/10 great pupper https://t.co/aNkkl5nH3W 8 10 0.8\n",
      "672095186491711488 This is Tuco. That's the toast that killed his father. 9/10 https://t.co/ujnWy26RMe 9 10 0.9\n",
      "672068090318987265 Say hello to Gizmo. He's upset because he's not sure if he's really big or the shopping cart is really small. 7/10 https://t.co/XkMtCGhr4a 7 10 0.7\n",
      "671879137494245376 This is Brad. He's a chubby lil pup. Doesn't really need the food he's trying to reach. 5/10 you've had enough Brad https://t.co/vPXKSaNsbE 5 10 0.0\n",
      "671855973984772097 Remarkable dog here. Walks on back legs really well. Looks extra soft. 8/10 would cuddle with https://t.co/gpWLdbposg 8 10 0.0\n",
      "671763349865160704 Say hello to Mark. He's a good dog. Always ready to go for a walk. Excellent posture. 9/10 keep it up Mark https://t.co/m9NleZ1i80 9 10 0.0\n",
      "671744970634719232 Very fit horned dog here. Looks powerful. Not phased by wind. Great beard. Big enough to ride? 6/10 would cuddle https://t.co/wwwYO9C9kl 6 10 0.0\n",
      "671544874165002241 Interesting dog here. Very large. Purple. Manifests rainbows. Perfect teeth. No ears. Surprisingly knowledgable 6/10 https://t.co/QVaEMsB9tS 6 10 0.0\n",
      "671538301157904385 This is Baxter. He's very calm. Hasn't eaten in weeks tho. Not good at fetch. Never blinks. 8/10 would still pet https://t.co/fUuiyu2QTD 8 10 0.0\n",
      "671536543010570240 This is Reginald. He's pondering what life would be like without so much damn skin. 9/10 it'll be ok buddy https://t.co/1U5Ro5FA4c 9 10 0.9\n",
      "671533943490011136 Super rare dog here. Spiffy mohawk. Sharp mouth. Shits eggs. Cool chariot wheel in background. 6/10 v confident pup https://t.co/pcx8jm1J1K 6 10 0.0\n",
      "671518598289059840 This is Scruffers. He's being violated on multiple levels and is not happy about it. 9/10 hang in there Scruffers https://t.co/nLQoltwEZ7 9 10 0.9\n",
      "671511350426865664 Say hello to Hammond. He's just a wee lil pup. Jumps around a shit ton. 8/10 overall very good dog https://t.co/OgDF2ES3Q9 8 10 0.0\n",
      "671488513339211776 This is Julius. He's a cool dog. Carries seashell everywhere. Rad segmented legs. Currently attacking castle. 8/10 https://t.co/CwUK5AIgeD 8 10 0.0\n",
      "671390180817915904 Striped dog here. Having fun playing on back. Sturdy paws. Looks like an organized Dalmatian. 7/10 would still pet https://t.co/U1mSS3Ykez 7 10 0.0\n",
      "671357843010908160 Tfw she says hello from the other side. 9/10 https://t.co/lS1TIDagIb 9 10 0.9\n",
      "671347597085433856 This is Lola. She was not fully prepared for the water slide. 9/10 https://t.co/svlkUlg3NH 9 10 0.0\n",
      "671163268581498880 Pack of horned dogs here. Very team-oriented bunch. All have weird laughs. Bond between them strong. 8/10 for all https://t.co/U7DQQdZ0mX 8 10 0.0\n",
      "671159727754231808 This is Anthony. He just finished up his masters at Harvard. Unprofessional tattoos. Always looks perturbed. 5/10 https://t.co/iHLo9rGay1 5 10 0.0\n",
      "671147085991960577 This is a Helvetica Listerine named Rufus. This time Rufus will be ready for the UPS guy. He'll never expect it 9/10 https://t.co/34OhVhMkVr 9 10 0.9\n",
      "671141549288370177 Neat pup here. Enjoys lettuce. Long af ears. Short lil legs. Hops surprisingly high for dog. 9/10 still very petable https://t.co/HYR611wiA4 9 10 0.0\n",
      "671134062904504320 Say hello to Clarence. He's a western Alkaline Pita. Very proud of himself for dismembering his stuffed dog pal 8/10 https://t.co/BHxr9O7wJY 8 10 0.8\n",
      "671122204919246848 Two miniature golden retrievers here. Webbed paws. Don't walk very efficiently. Can't catch a tennis ball. 4/10s https://t.co/WzVLdSHJU7 4 10 0.0\n",
      "671115716440031232 Meet Phred. He isn't steering, looking at the road, or wearing a seatbelt. Phred is a rolling tornado of danger 6/10 https://t.co/mZD7Bo7HfV 6 10 0.6\n",
      "671109016219725825 This is Toby. He asked for chocolate cake for his birthday but was given vanilla instead. 8/10 it'll be ok Toby https://t.co/sYi2G0he4H 8 10 0.8\n",
      "670838202509447168 Pink dogs here. Unreasonably long necks. Left guy has only 1 leg. Quite nimble. Don't bark tho 4/10s would still pet https://t.co/QY5uvMmmQk 4 10 0.0\n",
      "670833812859932673 This is Jett. He is unimpressed by flower. 7/10 https://t.co/459qWNnV3F 7 10 0.7\n",
      "670826280409919488 Scary dog here. Too many legs. Extra tail. Not soft, let alone fluffy. Won't bark. Moves sideways. Has weapon. 2/10 https://t.co/XOPXCSXiUT 2 10 0.0\n",
      "670792680469889025 This is Antony. He's a Sheraton Tetrahedron. Skips awkwardly. Doesn't look when he crosses the road (reckless). 7/10 https://t.co/gTy4WMXu8l 7 10 0.0\n",
      "670789397210615808 Two obedient dogs here. Left one has extra leg sticking out of its back. They each get 9/10. Would pet both at once https://t.co/RGcNPsmAfY 9 10 0.9\n",
      "670786190031921152 This is Creg. You offered him a ride to work but you're late and you just missed his exit. 8/10 https://t.co/3r7wznfuoa 8 10 0.0\n",
      "670783437142401025 Flamboyant pup here. Probably poisonous. Won't eat kibble. Doesn't bark. Slow af. Petting doesn't look fun. 1/10 https://t.co/jxukeh2BeO 1 10 0.0\n",
      "670782429121134593 This dude slaps your girl's ass what do you do?\n",
      "5/10 https://t.co/6dioUL6gcP 5 10 0.5\n",
      "670780561024270336 This is Traviss. He has no ears. Two rare dogs in background. I bet they all get along nicely. 7/10s I'd pet all https://t.co/Viu56hVhhP 7 10 0.7\n",
      "670755717859713024 Say hello to Gin &amp; Tonic. They're having a staring contest. Very very intense. 9/10 for both https://t.co/F6bI9dF16E 9 10 0.9\n",
      "670733412878163972 This is Jerry. He's a great listener. Low maintenance. Hard to get leash on tho. 8/10 still good dog https://t.co/NsDIt8Z80Z 8 10 0.0\n",
      "670704688707301377 Meet Danny. He's too good to look at the road when he's driving. Absolute menace. 6/10 completely irresponsible https://t.co/I1lMUy1FqH 6 10 0.6\n",
      "670691627984359425 This is Ester. He has a cocaine problem. This is an intervention Ester. We all care about you. 8/10 https://t.co/eCVj2xT59V 8 10 0.8\n",
      "670679630144274432 This is Pluto. He's holding little waddling dog hostage. Little waddling dog very desperate at this point sos. 8/10 https://t.co/HMcD9SLOAN 8 10 0.8\n",
      "670676092097810432 This is Bloo. He's a Westminster CÃÂ®roc. Doesn't think Bart deserves legs. Nice flowers. 8/10 https://t.co/IAc1QCczMc 8 10 0.8\n",
      "670465786746662913 Silly dog here. Wearing bunny ears. Nice long tail. Unique paws. Not crazy soft but will do. Extremely agile. 7/10 https://t.co/2BnCLtJMxD 7 10 0.0\n",
      "670449342516494336 Vibrant dog here. Fabulous tail. Only 2 legs tho. Has wings but can barely fly (lame). Rather elusive. 5/10 okay pup https://t.co/cixC0M3P1e 5 10 0.0\n",
      "670427002554466305 This is a Deciduous Trimester mix named Spork. Only 1 ear works. No seat belt. Incredibly reckless. 9/10 still cute https://t.co/CtuJoLHiDo 9 10 0.0\n",
      "670417414769758208 Sharp dog here. Introverted. Loves purple. Not fun to pet. Hurts to cuddle with. 6/10 still good dog tho https://t.co/Dfv2YaHPMn 6 10 0.0\n",
      "670385711116361728 Meet Larry. He's a Panoramic Benzoate. Can shoot lasers out of his eyes. Very neat. Stuck in that position tho. 8/10 https://t.co/MAZx8MPF0S 8 10 0.8\n",
      "670361874861563904 This is a Rich Mahogany Seltzer named Cherokee. Just got destroyed by a snowball. Isn't very happy about it. 9/10 https://t.co/98ZBi6o4dj 9 10 0.0\n",
      "670303360680108032 This is a Speckled Cauliflower Yosemite named Hemry. He's terrified of intruder dog. Not one bit comfortable. 9/10 https://t.co/yV3Qgjh8iN 9 10 0.9\n",
      "670093938074779648 This is Wally. He's a Flaccid Mitochondria. Going on vacation. Bag definitely full of treats. Great hat. 9/10 https://t.co/vYs9IVzHY9 9 10 0.9\n",
      "670069087419133954 This is Randall. He's from Chernobyl. Built playground himself. Has been stuck up there quite a while. 5/10 good dog https://t.co/pzrvc7wKGd 5 10 0.0\n",
      "670055038660800512 This is Tommy. He's a cool dog. Hard not to step on. Won't let go of seashell. Not fast by any means. 3/10 https://t.co/0gY6XTOpn3 3 10 0.0\n",
      "670037189829525505 Awesome dog here. Not sure where it is tho. Spectacular camouflage. Enjoys leaves. Not very soft. 5/10 still petable https://t.co/rOTOteKx4q 5 10 0.0\n",
      "669993076832759809 This is Zoey. Her dreams of becoming a hippo ballerina don't look promising. 9/10 it'll be ok puppers https://t.co/kR1fqy4NKK 9 10 0.0\n",
      "669749430875258880 Say hello to Clarence. Clarence thought he saw a squirrel. He was just trying to help. 8/10 poor Clarence https://t.co/tbFaTUHLJB 8 10 0.0\n",
      "669682095984410625 Meet Louie. He just pounded that bottle of wine. 9/10 goodnight Louie https://t.co/RAwZvMKRZB 9 10 0.0\n",
      "669680153564442624 This is Shawwn. He's a Turkish Gangrene Robitussin. Spectacular tongue. Cranks out push-ups. 8/10 #NoDaysOff #swole https://t.co/IQFZKNUlXx 8 10 0.8\n",
      "669661792646373376 This is a brave dog. Excellent free climber. Trying to get closer to God. Not very loyal though. Doesn't bark. 5/10 https://t.co/ODnILTr4QM 5 10 0.0\n",
      "669583744538451968 Special dog here. Pretty big. Neck kinda long for dog. Cool spots. Must be a Dalmatian variant. 6/10 would still pet https://t.co/f8GXeDbFzu 6 10 0.0\n",
      "669571471778410496 This is Keith. He's had 13 DUIs. 7/10 that's too many Keith https://t.co/fa7olwrF9Y 7 10 0.0\n",
      "669567591774625800 Meet Kollin. He's a Parakeetian Badminton from Denmark. Great artist. Taking break from research. Loves wicker 9/10 https://t.co/XPLB3eoXiX 9 10 0.9\n",
      "669375718304980992 This is Billl. He's trying to be a ghost but he's not very good at it. 6/10 c'mon Billl https://t.co/ero0XfdGtY 6 10 0.6\n",
      "669354382627049472 Meet Dug. Dug fucken loves peaches. 8/10 https://t.co/JtA1TG21Xx 8 10 0.8\n",
      "669216679721873412 This is Clarq. He's a golden Quetzalcoatl. Clarq enjoys eating his own foot. Damn it Clarq. 8/10 would pet firmly https://t.co/d8ybynaRwZ 8 10 0.8\n",
      "669203728096960512 This is Samsom. He is sexually confused. Really wants to be a triceratops. 9/10 just a great guy https://t.co/HPoce45SI3 9 10 0.9\n",
      "668994913074286592 Two gorgeous pups here. Both have cute fake horns(adorable). Barn in the back looks on fire. 5/10 would pet rly well https://t.co/w5oYFXi0uh 5 10 0.0\n",
      "668992363537309700 This is Harrison. He braves the snow like a champ. Perched at all times. Hasn't blinked in months. 8/10 v nifty dog https://t.co/tiVuq6MNwl 8 10 0.0\n",
      "668989615043424256 This is Bernie. He's taking his Halloween costume very seriously. Wants to be baked. 3/10 not a good idea Bernie smh https://t.co/1zBp1moFlX 3 10 0.3\n",
      "668988183816871936 Honor to rate this dog. Lots of fur on him. Two massive tumors on back. Should get checked out. Very neat tho. 7/10 https://t.co/bMhs18elNF 7 10 0.0\n",
      "668986018524233728 This is Ruby. She's a Bimmington Fettuccini. One ear works a lil better than other. Looks startled. Cool carpet 9/10 https://t.co/j0Wpa42KCH 9 10 0.0\n",
      "668981893510119424 Unique dog here. Oddly shaped tail. Long pink front legs. I don't think dogs breath underwater sos. 4/10 bad owner https://t.co/0EJXxE9UxW 4 10 0.0\n",
      "668932921458302977 This is Herald. He likes to swing. Subtle tongue slip. Owner good at b-ball. Creepy person on bench back there. 9/10 https://t.co/rcrKkL7eB6 9 10 0.9\n",
      "668815180734689280 This is a wild Toblerone from Papua New Guinea. Mouth always open. Addicted to hay. Acts blind. 7/10 handsome dog https://t.co/IGmVbz07tZ 7 10 0.7\n",
      "668643542311546881 Fascinating dog here. Loves beach. Oddly long nose for dog. Massive ass paws. Hard to cuddle w. 3/10 would still pet https://t.co/IiSdmhkC5N 3 10 0.0\n",
      "668631377374486528 Meet Zeek. He is a grey Cumulonimbus. Zeek is hungry. Someone should feed Zeek asap. 5/10 absolutely terrifying https://t.co/fvVNScw8VH 5 10 0.5\n",
      "668627278264475648 This is Timofy. He's a pilot for Southwest. It's Christmas morning &amp; everyone has gotten kickass gifts but him. 9/10 https://t.co/3FuNbzyPwo 9 10 0.9\n",
      "668614819948453888 Here is a horned dog. Much grace. Can jump over moons (dam!). Paws not soft. Bad at barking. 7/10 can still pet tho https://t.co/2Su7gmsnZm 7 10 0.0\n",
      "668537837512433665 This is Spark. He's nervous. Other dog hasn't moved in a while. Won't come when called. Doesn't fetch well 8/10&amp;1/10 https://t.co/stEodX9Aba 8 10 0.8\n",
      "668496999348633600 This is Jo. Jo is a Swedish Queso. Tongue bigger than face. Tiny lil legs. Still no seatbelt. Simply careless. 8/10 https://t.co/Edy7B5vOp2 8 10 0.8\n",
      "668484198282485761 Good teamwork between these dogs. One is on lookout while other eats. Long necks. Nice big house. 9/10s good pups https://t.co/uXgmECGYEB 9 10 0.9\n",
      "668466899341221888 Here is a mother dog caring for her pups. Snazzy red mohawk. Doesn't wag tail. Pups look confused. Overall 4/10 https://t.co/YOHe6lf09m 4 10 0.0\n",
      "668297328638447616 2 rare dogs. They waddle (v inefficient). Sometimes slide on bellies. Right one wants to be aircraft Marshall. 9/10s https://t.co/P8bivfp5sU 9 10 0.0\n",
      "668248472370458624 Say hello to Bisquick. He is a Brown Douglass Fir terrier. Very inbred. Looks terrified. 8/10 still cute tho https://t.co/1XYRh8N00K 8 10 0.8\n",
      "668204964695683073 This is Ron. Ron's currently experiencing a brain freeze. Damn it Ron. 8/10 https://t.co/4ilfcR5SlK 8 10 0.8\n",
      "668171859951755264 This is a Trans Siberian Kellogg named Alfonso. Huge ass eyeballs. Actually Dobby from Harry Potter. 7/10 https://t.co/XpseHBlAAb 7 10 0.7\n",
      "668154635664932864 Fun dogs here. Top one clearly an athlete. Bottom one very stable. Not very soft tho. 9/10s would still cuddle both https://t.co/79sHR36NsI 9 10 0.0\n",
      "668142349051129856 This lil pup is Oliver. Hops around. Has wings but doesn't fly (lame). Annoying chirp. Won't catch tennis balls 2/10 https://t.co/DnhUw0aBM2 2 10 0.0\n",
      "668113020489474048 This is Alfie. He's that one hypocritical gym teacher who made you run laps. Great posture. Cool bench. 6/10 https://t.co/GCJzm3YsfX 6 10 0.6\n",
      "667937095915278337 This dog resembles a baked potato. Bed looks uncomfortable. No tail. Comes with butter tho. 3/10 petting still fun https://t.co/x89NSCEZCq 3 10 0.0\n",
      "667924896115245057 This is Jiminy. He has always wanted to be a cheerleader. Can jump high enough to get on other dog. Go Jiminy. 9/10 https://t.co/fW6kIPFGD2 9 10 0.9\n",
      "667911425562669056 Wow. Armored dog here. Ready for battle. Face looks dangerous. Not very loyal. Lil dog on back havin a blast. 5/10 https://t.co/SyMoWrp368 5 10 0.0\n",
      "667902449697558528 This is Cleopatricia. She is a northern Paperback Maple. Set up hammock somehow. 9/10 would chill in hammock with https://t.co/sJeHdGUt0W 9 10 0.9\n",
      "667878741721415682 This is Tedrick. He lives on the edge. Needs someone to hit the gas tho. Other than that he's a baller. 10&amp;2/10 https://t.co/LvP1TTYSCN 2 10 0.0\n",
      "667861340749471744 This is a Shotokon Macadamia mix named Cheryl. Sophisticated af. Looks like a disappointed librarian. Shh (lol) 9/10 https://t.co/J4GnJ5Swba 9 10 0.9\n",
      "667793409583771648 Dogs only please. Small cows and other non canines will not be tolerated. Sick tattoos tho 8/10 https://t.co/s1z7mX4c9O 8 10 0.8\n",
      "667782464991965184 Super rare dog. Endangered (?). Thinks it's funny. Mocks everything I say. Colorful af. Has wings (dope). 9/10 https://t.co/BY8nQAMz0x 9 10 0.0\n",
      "667773195014021121 This is a rare Hungarian Pinot named Jessiga. She is either mid-stroke or got stuck in the washing machine. 8/10 https://t.co/ZU0i0KJyqD 8 10 0.8\n",
      "667766675769573376 This is Calvin. He is a Luxembourgian Mayo. Having issues with truck. Has it under control tho. 9/10 responsible af https://t.co/3Bbba7y8Xe 9 10 0.0\n",
      "667724302356258817 What a dog to start the day with. Very calm. Likes to chill by pond. Corkscrews sticking out of head. Obedient. 7/10 https://t.co/0nIxPTDWAZ 7 10 0.0\n",
      "667549055577362432 Never seen dog like this. Breathes heavy. Tilts head in a pattern. No bark. Shitty at fetch. Not even cordless. 1/10 https://t.co/i9iSGNn3fx 1 10 0.0\n",
      "667546741521195010 Here is George. George took a selfie of his new man bun and that is downright epic. (Also looks like Rand Paul) 9/10 https://t.co/afRtVsoIIb 9 10 0.9\n",
      "667538891197542400 This is a southwest Coriander named Klint. Hat looks expensive. Still on house arrest :(\n",
      "9/10 https://t.co/IQTOMqDUIe 9 10 0.9\n",
      "667534815156183040 This is Frank (pronounced \"Fronq\"). Too many boxing gloves, not enough passion. Frank is a lover not a fighter. 8/10 https://t.co/CpPxD28IpV 8 10 0.8\n",
      "667517642048163840 This is Dook &amp; Milo. Dook is struggling to find who he really is and Milo is terrified of what that might be. 8/10s https://t.co/fh5KflzBR0 8 10 0.8\n",
      "667495797102141441 This is Philippe from Soviet Russia. Commanding leader. Misplaced other boot. Hung flag himself. 9/10 charismatic af https://t.co/5NhPV8E45i 9 10 0.9\n",
      "667491009379606528 Two dogs in this one. Both are rare Jujitsu Pythagoreans. One slightly whiter than other. Long legs. 7/10 and 8/10 https://t.co/ITxxcc4v9y 7 10 0.7\n",
      "667455448082227200 This is Reese and Twips. Reese protects Twips. Both think they're too good for seat belts. Simply reckless. 7/10s https://t.co/uLzRi1drVK 7 10 0.7\n",
      "667443425659232256 Exotic dog here. Long neck. Weird paws. Obsessed with bread. Waddles. Flies sometimes (wow!). Very happy dog. 6/10 https://t.co/rqO4I3nf2N 6 10 0.0\n",
      "667405339315146752 This is Biden. Biden just tripped... 7/10 https://t.co/3Fm9PwLju1 7 10 0.7\n",
      "667393430834667520 This is Fwed. He is a Canadian Asian Taylormade. Was having a blast until pink spiky football attacked. 8/10 https://t.co/A37eGLz5WS 8 10 0.8\n",
      "667211855547486208 This is Genevieve. She is a golden retriever cocktail mix. Comfortable close to wall. Shows no emotions. 9/10 https://t.co/azEoGqVonH 9 10 0.9\n",
      "667177989038297088 This is a Dasani Kingfisher from Maine. His name is Daryl. Daryl doesn't like being swallowed by a panda. 8/10 https://t.co/jpaeu6LNmW 8 10 0.8\n",
      "667176164155375616 These are strange dogs. All have toupees. Long neck for dogs. In a shed of sorts? Work in groups? 4/10 still petable https://t.co/PZxSarAfSN 4 10 0.4\n",
      "667174963120574464 This is Clarence. His face says he doesn't want to be a donkey, but his tail is super pumped about it. 9/10 https://t.co/fGDWgukcBs 9 10 0.9\n",
      "667090893657276420 This is Clybe. He is an Anemone Valdez. One ear works. Can look in 2 different directions at once. Tongue slip. 7/10 https://t.co/Ks0jZtdIrr 7 10 0.7\n",
      "667065535570550784 Here we have a Hufflepuff. Loves vest. Eyes wide af. Flaccid tail. Matches carpet. Always a little blurry. 8/10 https://t.co/7JdgVqDnvR 8 10 0.0\n",
      "667012601033924608 This is Klevin. He laughs a lot. Very cool dog. 9/10 https://t.co/bATAbPNv0m 9 10 0.0\n",
      "666837028449972224 My goodness. Very rare dog here. Large. Tail dangerous. Kinda fat. Only eats leaves. Doesn't come when called 3/10 https://t.co/xYGdBrMS9h 3 10 0.0\n",
      "666817836334096384 This is Jeph. He is a German Boston Shuttlecock. Enjoys couch. Lost body during French Revolution. True hero 9/10 https://t.co/8whlkYw3mO 9 10 0.9\n",
      "666804364988780544 This is Jockson. He is a Pinnacle Sagittarius. Fancy bandana. Enjoys lightly sucking on hot dog in nature. 8/10 https://t.co/RdKbAOEpDK 8 10 0.8\n",
      "666786068205871104 Unfamiliar with this breed. Ears pointy af. Won't let go of seashell. Won't eat kibble. Not very fast. Bad dog 2/10 https://t.co/EIn5kElY1S 2 10 0.0\n",
      "666776908487630848 This is Josep. He is a Rye Manganese mix. Can drive w eyes closed. Very irresponsible. Menace on the roadways. 5/10 https://t.co/XNGeDwrtYH 5 10 0.0\n",
      "666701168228331520 This is a golden Buckminsterfullerene named Johm. Drives trucks. Lumberjack (?). Enjoys wall. 8/10 would hug softly https://t.co/uQbZJM2DQB 8 10 0.8\n",
      "666691418707132416 This is Christoper. He is a spotted Penne. Can easily navigate stairs. 8/10 https://t.co/bg4TqvvkuF 8 10 0.8\n",
      "666649482315059201 Cool dog. Enjoys couch. Low monotone bark. Very nice kicks. Pisses milk (must be rare). Can't go down stairs. 4/10 https://t.co/vXMKrJC81s 4 10 0.4\n",
      "666644823164719104 This is Jimothy. He is a Botwanian Gouda. Can write (impressive). Very erect tail. Still looking for hoco date. 9/10 https://t.co/LEkZjZxESQ 9 10 0.9\n",
      "666447344410484738 This is Scout. She is a black Downton Abbey. Isn't afraid to get dirty. 9/10 nothing bad to say https://t.co/kH60oka1HW 9 10 0.9\n",
      "666437273139982337 Here we see a lone northeastern Cumberbatch. Half ladybug. Only builds with bricks. Very confident with body. 7/10 https://t.co/7LtjBS0GPK 7 10 0.7\n",
      "666430724426358785 Oh boy what a pup! Sunglasses take this one to the next level. Weirdly folds front legs. Pretty big. 6/10 https://t.co/yECbFrSArM 6 10 0.0\n",
      "666428276349472768 Here we have an Austrian Pulitzer. Collectors edition. Levitates (?). 7/10 would garden with https://t.co/NMQq6HIglK 7 10 0.7\n",
      "666411507551481857 This is quite the dog. Gets really excited when not in water. Not very soft tho. Bad at fetch. Can't do tricks. 2/10 https://t.co/aMCTNWO94t 2 10 0.0\n",
      "666407126856765440 This is a southern Vesuvius bumblegruff. Can drive a truck (wow). Made friends with 5 other nifty dogs (neat). 7/10 https://t.co/LopTBkKa8h 7 10 0.7\n",
      "666396247373291520 Oh goodness. A super rare northeast Qdoba kangaroo mix. Massive feet. No pouch (disappointing). Seems alert. 9/10 https://t.co/Dc7b0E8qFE 9 10 0.9\n",
      "666362758909284353 Unique dog here. Very small. Lives in container of Frosted Flakes (?). Short legs. Must be rare 6/10 would still pet https://t.co/XMD9CwjEnM 6 10 0.0\n",
      "666353288456101888 Here we have a mixed Asiago from the GalÃÂ¡pagos Islands. Only one ear working. Big fan of marijuana carpet. 8/10 https://t.co/tltQ5w9aUO 8 10 0.8\n",
      "666337882303524864 This is an extremely rare horned Parthenon. Not amused. Wears shoes. Overall very nice. 9/10 would pet aggressively https://t.co/QpRjllzWAL 9 10 0.0\n",
      "666293911632134144 This is a funny dog. Weird toes. Won't come down. Loves branch. Refuses to eat his food. Hard to cuddle with. 3/10 https://t.co/IIXis0zta0 3 10 0.0\n",
      "666287406224695296 This is an Albanian 3 1/2 legged  Episcopalian. Loves well-polished hardwood flooring. Penis on the collar. 9/10 https://t.co/d9NcXFKwLv 1 2 0.5\n",
      "666104133288665088 Not familiar with this breed. No tail (weird). Only 2 legs. Doesn't bark. Surprisingly quick. Shits eggs. 1/10 https://t.co/Asgdc6kuLX 1 10 0.0\n",
      "666099513787052032 Can stand on stump for what seems like a while. Built that birdhouse? Impressive. Made friends with a squirrel. 8/10 https://t.co/Ri4nMTLq5C 8 10 0.8\n",
      "666094000022159362 This appears to be a Mongolian Presbyterian mix. Very tired. Tongue slip confirmed. 9/10 would lie down with https://t.co/mnioXo3IfP 9 10 0.9\n",
      "666082916733198337 Here we have a well-established sunblockerspaniel. Lost his other flip-flop. 6/10 not very waterproof https://t.co/3RU6x0vHB7 6 10 0.6\n",
      "666071193221509120 Here we have a northern speckled Rhododendron. Much sass. Gives 0 fucks. Good tongue. 9/10 would caress sensually https://t.co/ZoL8kq2XFx 9 10 0.9\n",
      "666058600524156928 Here is the Rand Paul of retrievers folks! He's probably good at poker. Can drink beer (lol rad). 8/10 good dog https://t.co/pYAJkAe76p 8 10 0.8\n",
      "666057090499244032 My oh my. This is a rare blond Canadian terrier on wheels. Only $8.98. Rather docile. 9/10 very rare https://t.co/yWBqbrzy8O 9 10 0.0\n",
      "666051853826850816 This is an odd dog. Hard on the outside but loving on the inside. Petting still fun. Doesn't play catch well. 2/10 https://t.co/v5A4vzSDdc 2 10 0.0\n",
      "666049248165822465 Here we have a 1949 1st generation vulpix. Enjoys sweat tea and Fox News. Cannot be phased. 5/10 https://t.co/4B7cOc1EDq 5 10 0.5\n",
      "666044226329800704 This is a purebred Piers Morgan. Loves to Netflix and chill. Always looks like he forgot to unplug the iron. 6/10 https://t.co/DWnyCjf2mx 6 10 0.6\n",
      "666033412701032449 Here is a very happy pup. Big fan of well-maintained decks. Just look at that tongue. 9/10 would cuddle af https://t.co/y671yMhoiR 9 10 0.9\n",
      "666029285002620928 This is a western brown Mitsubishi terrier. Upset about leaf. Actually 2 dogs here. 7/10 would walk the shit out of https://t.co/r7mOb2m0UI 7 10 0.7\n",
      "666020888022790149 Here we have a Japanese Irish Setter. Lost eye in Vietnam (?). Big fan of relaxing on stair. 8/10 would pet https://t.co/BLDqew2Ijj 8 10 0.8\n"
     ]
    }
   ],
   "source": [
    "lower_numerators = master_df_5[master_df_5.rating_numerator < master_df_5.rating_denominator]\n",
    "\n",
    "x = lower_numerators\n",
    "\n",
    "# loop through these and show text, rating, and tweet id:    \n",
    "for tweet_id, text, rating_numerator, rating_denominator, dog_rating in zip(x['tweet_id'], \\\n",
    "                                                                x['text'], \\\n",
    "                                                                x['rating_numerator'], \\\n",
    "                                                                x['rating_denominator'], \\\n",
    "                                                                x['dog_rating']):\n",
    "    print(tweet_id, text, rating_numerator, rating_denominator, dog_rating)\n",
    "    "
   ]
  },
  {
   "cell_type": "markdown",
   "metadata": {},
   "source": [
    "#### Some of these are just dogs rated less than 10/10, that is apparently okay for this dataset."
   ]
  },
  {
   "cell_type": "code",
   "execution_count": 287,
   "metadata": {},
   "outputs": [],
   "source": [
    "# make a copy to work with\n",
    "master_df_6 = master_df_5.copy()\n"
   ]
  },
  {
   "cell_type": "markdown",
   "metadata": {},
   "source": [
    "### Issue #6: The ratings should have a denominator of at least 10"
   ]
  },
  {
   "cell_type": "markdown",
   "metadata": {
    "collapsed": true,
    "extensions": {
     "jupyter_dashboards": {
      "version": 1,
      "views": {
       "grid_default": {
        "hidden": true
       },
       "report_default": {
        "hidden": true
       }
      }
     }
    }
   },
   "source": [
    "#### Define: because \"they're good dogs Brent\", it is part of the charm of the dataset that valid ratings take the form 'number greater than 10'/10. Look at all rows where the denominator is less than 10 more closely."
   ]
  },
  {
   "cell_type": "markdown",
   "metadata": {},
   "source": [
    "#### Code"
   ]
  },
  {
   "cell_type": "code",
   "execution_count": 288,
   "metadata": {},
   "outputs": [
    {
     "name": "stdout",
     "output_type": "stream",
     "text": [
      "810984652412424192 Meet Sam. She smiles 24/7 &amp; secretly aspires to be a reindeer. \n",
      "Keep Sam smiling by clicking and sharing this link:\n",
      "https://t.co/98tB8y7y7t https://t.co/LouL5vdvxx 24 7\n",
      "666287406224695296 This is an Albanian 3 1/2 legged  Episcopalian. Loves well-polished hardwood flooring. Penis on the collar. 9/10 https://t.co/d9NcXFKwLv 1 2\n"
     ]
    }
   ],
   "source": [
    "# get tweets with denominators < 10\n",
    "denom_too_low = master_df_6.loc[master_df_6.rating_denominator < 10]\n",
    "denom_too_low = denom_too_low.loc[master_df_6.dog == True]\n",
    "\n",
    "# loop through these and show text, rating, and tweet id:    \n",
    "for tweet_id, text, rating_numerator, rating_denominator in zip(denom_too_low['tweet_id'], \\\n",
    "                                                                denom_too_low['text'], \\\n",
    "                                                                denom_too_low['rating_numerator'], \\\n",
    "                                                                denom_too_low['rating_denominator']):\n",
    "    print(tweet_id, text, rating_numerator, rating_denominator)\n",
    "\n"
   ]
  },
  {
   "cell_type": "code",
   "execution_count": 289,
   "metadata": {},
   "outputs": [],
   "source": [
    "# fix rating on tweet2\n",
    "master_df_6.loc[master_df_6.tweet_id == 810984652412424192, 'rating_numerator'] = 0\n",
    "master_df_6.loc[master_df_6.tweet_id == 810984652412424192, 'rating_denominator'] = 0\n",
    "master_df_6.loc[master_df_6.tweet_id == 810984652412424192, 'dog_rating'] = 0\n",
    "\n",
    "\n",
    "master_df_6.loc[master_df_6.tweet_id == 666287406224695296, 'rating_numerator'] = 9\n",
    "master_df_6.loc[master_df_6.tweet_id == 666287406224695296, 'rating_denominator'] = 10\n",
    "master_df_6.loc[master_df_6.tweet_id == 666287406224695296, 'dog_rating'] = 9/10\n"
   ]
  },
  {
   "cell_type": "markdown",
   "metadata": {},
   "source": [
    "#### Test: Check the tweets with low denominator values."
   ]
  },
  {
   "cell_type": "code",
   "execution_count": 290,
   "metadata": {},
   "outputs": [
    {
     "name": "stdout",
     "output_type": "stream",
     "text": [
      "810984652412424192 Meet Sam. She smiles 24/7 &amp; secretly aspires to be a reindeer. \n",
      "Keep Sam smiling by clicking and sharing this link:\n",
      "https://t.co/98tB8y7y7t https://t.co/LouL5vdvxx 0 0\n"
     ]
    }
   ],
   "source": [
    "# take another look\n",
    "# get tweets with denominators < 10\n",
    "denom_too_low = master_df_6.loc[master_df_6.rating_denominator < 10]\n",
    "denom_too_low = denom_too_low.loc[master_df_6.dog == True]\n",
    "\n",
    "# loop through these and show text, rating, and tweet id:    \n",
    "for tweet_id, text, rating_numerator, rating_denominator in zip(denom_too_low['tweet_id'], \\\n",
    "                                                                denom_too_low['text'], \\\n",
    "                                                                denom_too_low['rating_numerator'], \\\n",
    "                                                                denom_too_low['rating_denominator']):\n",
    "    print(tweet_id, text, rating_numerator, rating_denominator)\n"
   ]
  },
  {
   "cell_type": "code",
   "execution_count": 291,
   "metadata": {},
   "outputs": [],
   "source": [
    "# make copy to work from \n",
    "master_df_7 = master_df_6.copy()\n"
   ]
  },
  {
   "cell_type": "markdown",
   "metadata": {},
   "source": [
    "### Issue #7. some tweets lack dog name (completeness)"
   ]
  },
  {
   "cell_type": "markdown",
   "metadata": {
    "collapsed": true,
    "extensions": {
     "jupyter_dashboards": {
      "version": 1,
      "views": {
       "grid_default": {
        "hidden": true
       },
       "report_default": {
        "hidden": true
       }
      }
     }
    }
   },
   "source": [
    "#### Define: some tweets lack dog names for valid reasons (the dog is anonymous) or for reasons that will disqualify tweets from the dataset. For example, the tweet does not have a picture of a dog, there is more than one dog represented. String matching can eliminate some of these. Some tweets that do include a dog name didn't get the dog name pulled from the text data, probably it was the first word in the text."
   ]
  },
  {
   "cell_type": "markdown",
   "metadata": {},
   "source": [
    "#### Code"
   ]
  },
  {
   "cell_type": "code",
   "execution_count": 292,
   "metadata": {},
   "outputs": [
    {
     "data": {
      "text/html": [
       "<div>\n",
       "<style scoped>\n",
       "    .dataframe tbody tr th:only-of-type {\n",
       "        vertical-align: middle;\n",
       "    }\n",
       "\n",
       "    .dataframe tbody tr th {\n",
       "        vertical-align: top;\n",
       "    }\n",
       "\n",
       "    .dataframe thead th {\n",
       "        text-align: right;\n",
       "    }\n",
       "</style>\n",
       "<table border=\"1\" class=\"dataframe\">\n",
       "  <thead>\n",
       "    <tr style=\"text-align: right;\">\n",
       "      <th></th>\n",
       "      <th>tweet_id</th>\n",
       "      <th>timestamp</th>\n",
       "      <th>text</th>\n",
       "      <th>expanded_urls</th>\n",
       "      <th>rating_numerator</th>\n",
       "      <th>rating_denominator</th>\n",
       "      <th>name</th>\n",
       "      <th>doggo</th>\n",
       "      <th>floofer</th>\n",
       "      <th>pupper</th>\n",
       "      <th>puppo</th>\n",
       "      <th>favorites</th>\n",
       "      <th>retweets</th>\n",
       "      <th>jpg_url</th>\n",
       "      <th>img_num</th>\n",
       "      <th>predicted_breed</th>\n",
       "      <th>dog</th>\n",
       "      <th>dog_rating</th>\n",
       "    </tr>\n",
       "  </thead>\n",
       "  <tbody>\n",
       "    <tr>\n",
       "      <th>1039</th>\n",
       "      <td>711694788429553666</td>\n",
       "      <td>2016-03-20 23:23:54 +0000</td>\n",
       "      <td>Oh. My. God. 13/10 magical af https://t.co/Ezu...</td>\n",
       "      <td>https://twitter.com/dog_rates/status/711694788...</td>\n",
       "      <td>13</td>\n",
       "      <td>10</td>\n",
       "      <td>None</td>\n",
       "      <td>None</td>\n",
       "      <td>None</td>\n",
       "      <td>None</td>\n",
       "      <td>None</td>\n",
       "      <td>35865</td>\n",
       "      <td>20500</td>\n",
       "      <td>https://pbs.twimg.com/tweet_video_thumb/CeBym7...</td>\n",
       "      <td>1</td>\n",
       "      <td>brown_bear</td>\n",
       "      <td>False</td>\n",
       "      <td>0.0</td>\n",
       "    </tr>\n",
       "    <tr>\n",
       "      <th>140</th>\n",
       "      <td>859607811541651456</td>\n",
       "      <td>2017-05-03 03:17:27 +0000</td>\n",
       "      <td>Sorry for the lack of posts today. I came home...</td>\n",
       "      <td>https://twitter.com/dog_rates/status/859607811...</td>\n",
       "      <td>13</td>\n",
       "      <td>10</td>\n",
       "      <td>None</td>\n",
       "      <td>None</td>\n",
       "      <td>None</td>\n",
       "      <td>None</td>\n",
       "      <td>puppo</td>\n",
       "      <td>19476</td>\n",
       "      <td>1704</td>\n",
       "      <td>https://pbs.twimg.com/media/C-3wvtxXcAUTuBE.jpg</td>\n",
       "      <td>1</td>\n",
       "      <td>golden_retriever</td>\n",
       "      <td>True</td>\n",
       "      <td>1.3</td>\n",
       "    </tr>\n",
       "    <tr>\n",
       "      <th>220</th>\n",
       "      <td>840696689258311684</td>\n",
       "      <td>2017-03-11 22:51:24 +0000</td>\n",
       "      <td>I didn't even have to intervene. Took him 4 mi...</td>\n",
       "      <td>https://twitter.com/dog_rates/status/840696689...</td>\n",
       "      <td>10</td>\n",
       "      <td>10</td>\n",
       "      <td>None</td>\n",
       "      <td>None</td>\n",
       "      <td>None</td>\n",
       "      <td>None</td>\n",
       "      <td>None</td>\n",
       "      <td>13377</td>\n",
       "      <td>1116</td>\n",
       "      <td>https://pbs.twimg.com/media/C6rBLenU0AAr8MN.jpg</td>\n",
       "      <td>1</td>\n",
       "      <td>web_site</td>\n",
       "      <td>False</td>\n",
       "      <td>0.0</td>\n",
       "    </tr>\n",
       "    <tr>\n",
       "      <th>1719</th>\n",
       "      <td>672591271085670400</td>\n",
       "      <td>2015-12-04 01:40:29 +0000</td>\n",
       "      <td>Lots of pups here. All are Judea Hazelnuts. Ex...</td>\n",
       "      <td>https://twitter.com/dog_rates/status/672591271...</td>\n",
       "      <td>8</td>\n",
       "      <td>10</td>\n",
       "      <td>None</td>\n",
       "      <td>None</td>\n",
       "      <td>None</td>\n",
       "      <td>None</td>\n",
       "      <td>None</td>\n",
       "      <td>782</td>\n",
       "      <td>207</td>\n",
       "      <td>https://pbs.twimg.com/media/CVWGMQMWUAA7aOM.jpg</td>\n",
       "      <td>1</td>\n",
       "      <td>gondola</td>\n",
       "      <td>False</td>\n",
       "      <td>0.0</td>\n",
       "    </tr>\n",
       "    <tr>\n",
       "      <th>994</th>\n",
       "      <td>717790033953034240</td>\n",
       "      <td>2016-04-06 19:04:14 +0000</td>\n",
       "      <td>Here's a badass mystery pupper. You weren't aw...</td>\n",
       "      <td>https://twitter.com/dog_rates/status/717790033...</td>\n",
       "      <td>10</td>\n",
       "      <td>10</td>\n",
       "      <td>None</td>\n",
       "      <td>None</td>\n",
       "      <td>None</td>\n",
       "      <td>pupper</td>\n",
       "      <td>None</td>\n",
       "      <td>3170</td>\n",
       "      <td>1272</td>\n",
       "      <td>https://pbs.twimg.com/media/CfYaOeMWQAAGfyP.jpg</td>\n",
       "      <td>1</td>\n",
       "      <td>car_mirror</td>\n",
       "      <td>False</td>\n",
       "      <td>0.0</td>\n",
       "    </tr>\n",
       "    <tr>\n",
       "      <th>958</th>\n",
       "      <td>724771698126512129</td>\n",
       "      <td>2016-04-26 01:26:53 +0000</td>\n",
       "      <td>Nothin better than a doggo and a sunset. 11/10...</td>\n",
       "      <td>https://twitter.com/dog_rates/status/724771698...</td>\n",
       "      <td>11</td>\n",
       "      <td>10</td>\n",
       "      <td>None</td>\n",
       "      <td>doggo</td>\n",
       "      <td>None</td>\n",
       "      <td>None</td>\n",
       "      <td>None</td>\n",
       "      <td>2593</td>\n",
       "      <td>725</td>\n",
       "      <td>https://pbs.twimg.com/media/Cg7n_-OU8AA5RR1.jpg</td>\n",
       "      <td>2</td>\n",
       "      <td>German_short-haired_pointer</td>\n",
       "      <td>True</td>\n",
       "      <td>1.1</td>\n",
       "    </tr>\n",
       "    <tr>\n",
       "      <th>1300</th>\n",
       "      <td>689557536375177216</td>\n",
       "      <td>2016-01-19 21:18:22 +0000</td>\n",
       "      <td>Downright majestic af 12/10 https://t.co/WFh2F...</td>\n",
       "      <td>https://twitter.com/dog_rates/status/689557536...</td>\n",
       "      <td>12</td>\n",
       "      <td>10</td>\n",
       "      <td>None</td>\n",
       "      <td>None</td>\n",
       "      <td>None</td>\n",
       "      <td>None</td>\n",
       "      <td>None</td>\n",
       "      <td>2257</td>\n",
       "      <td>519</td>\n",
       "      <td>https://pbs.twimg.com/media/CZHM60BWIAA4AY4.jpg</td>\n",
       "      <td>1</td>\n",
       "      <td>Eskimo_dog</td>\n",
       "      <td>True</td>\n",
       "      <td>1.2</td>\n",
       "    </tr>\n",
       "    <tr>\n",
       "      <th>1632</th>\n",
       "      <td>674447403907457024</td>\n",
       "      <td>2015-12-09 04:36:06 +0000</td>\n",
       "      <td>This pupper just wants a belly rub. This puppe...</td>\n",
       "      <td>https://twitter.com/dog_rates/status/674447403...</td>\n",
       "      <td>10</td>\n",
       "      <td>10</td>\n",
       "      <td>None</td>\n",
       "      <td>None</td>\n",
       "      <td>None</td>\n",
       "      <td>pupper</td>\n",
       "      <td>None</td>\n",
       "      <td>1137</td>\n",
       "      <td>393</td>\n",
       "      <td>https://pbs.twimg.com/media/CVweVUfW4AACPwI.jpg</td>\n",
       "      <td>1</td>\n",
       "      <td>Brabancon_griffon</td>\n",
       "      <td>True</td>\n",
       "      <td>1.0</td>\n",
       "    </tr>\n",
       "    <tr>\n",
       "      <th>1777</th>\n",
       "      <td>671357843010908160</td>\n",
       "      <td>2015-11-30 15:59:17 +0000</td>\n",
       "      <td>Tfw she says hello from the other side. 9/10 h...</td>\n",
       "      <td>https://twitter.com/dog_rates/status/671357843...</td>\n",
       "      <td>9</td>\n",
       "      <td>10</td>\n",
       "      <td>None</td>\n",
       "      <td>None</td>\n",
       "      <td>None</td>\n",
       "      <td>None</td>\n",
       "      <td>None</td>\n",
       "      <td>426</td>\n",
       "      <td>157</td>\n",
       "      <td>https://pbs.twimg.com/media/CVEkZaPXIAEw5vr.jpg</td>\n",
       "      <td>1</td>\n",
       "      <td>Italian_greyhound</td>\n",
       "      <td>True</td>\n",
       "      <td>0.9</td>\n",
       "    </tr>\n",
       "    <tr>\n",
       "      <th>623</th>\n",
       "      <td>776218204058357768</td>\n",
       "      <td>2016-09-15 00:36:55 +0000</td>\n",
       "      <td>Atlas rolled around in some chalk and now he's...</td>\n",
       "      <td>https://twitter.com/dog_rates/status/776218204...</td>\n",
       "      <td>13</td>\n",
       "      <td>10</td>\n",
       "      <td>None</td>\n",
       "      <td>None</td>\n",
       "      <td>floofer</td>\n",
       "      <td>None</td>\n",
       "      <td>None</td>\n",
       "      <td>33345</td>\n",
       "      <td>18497</td>\n",
       "      <td>https://pbs.twimg.com/media/CsWuVEdWcAAqbe9.jpg</td>\n",
       "      <td>1</td>\n",
       "      <td>Samoyed</td>\n",
       "      <td>True</td>\n",
       "      <td>1.3</td>\n",
       "    </tr>\n",
       "  </tbody>\n",
       "</table>\n",
       "</div>"
      ],
      "text/plain": [
       "                tweet_id                  timestamp  \\\n",
       "1039  711694788429553666  2016-03-20 23:23:54 +0000   \n",
       "140   859607811541651456  2017-05-03 03:17:27 +0000   \n",
       "220   840696689258311684  2017-03-11 22:51:24 +0000   \n",
       "1719  672591271085670400  2015-12-04 01:40:29 +0000   \n",
       "994   717790033953034240  2016-04-06 19:04:14 +0000   \n",
       "958   724771698126512129  2016-04-26 01:26:53 +0000   \n",
       "1300  689557536375177216  2016-01-19 21:18:22 +0000   \n",
       "1632  674447403907457024  2015-12-09 04:36:06 +0000   \n",
       "1777  671357843010908160  2015-11-30 15:59:17 +0000   \n",
       "623   776218204058357768  2016-09-15 00:36:55 +0000   \n",
       "\n",
       "                                                   text  \\\n",
       "1039  Oh. My. God. 13/10 magical af https://t.co/Ezu...   \n",
       "140   Sorry for the lack of posts today. I came home...   \n",
       "220   I didn't even have to intervene. Took him 4 mi...   \n",
       "1719  Lots of pups here. All are Judea Hazelnuts. Ex...   \n",
       "994   Here's a badass mystery pupper. You weren't aw...   \n",
       "958   Nothin better than a doggo and a sunset. 11/10...   \n",
       "1300  Downright majestic af 12/10 https://t.co/WFh2F...   \n",
       "1632  This pupper just wants a belly rub. This puppe...   \n",
       "1777  Tfw she says hello from the other side. 9/10 h...   \n",
       "623   Atlas rolled around in some chalk and now he's...   \n",
       "\n",
       "                                          expanded_urls  rating_numerator  \\\n",
       "1039  https://twitter.com/dog_rates/status/711694788...                13   \n",
       "140   https://twitter.com/dog_rates/status/859607811...                13   \n",
       "220   https://twitter.com/dog_rates/status/840696689...                10   \n",
       "1719  https://twitter.com/dog_rates/status/672591271...                 8   \n",
       "994   https://twitter.com/dog_rates/status/717790033...                10   \n",
       "958   https://twitter.com/dog_rates/status/724771698...                11   \n",
       "1300  https://twitter.com/dog_rates/status/689557536...                12   \n",
       "1632  https://twitter.com/dog_rates/status/674447403...                10   \n",
       "1777  https://twitter.com/dog_rates/status/671357843...                 9   \n",
       "623   https://twitter.com/dog_rates/status/776218204...                13   \n",
       "\n",
       "      rating_denominator  name  doggo  floofer  pupper  puppo  favorites  \\\n",
       "1039                  10  None   None     None    None   None      35865   \n",
       "140                   10  None   None     None    None  puppo      19476   \n",
       "220                   10  None   None     None    None   None      13377   \n",
       "1719                  10  None   None     None    None   None        782   \n",
       "994                   10  None   None     None  pupper   None       3170   \n",
       "958                   10  None  doggo     None    None   None       2593   \n",
       "1300                  10  None   None     None    None   None       2257   \n",
       "1632                  10  None   None     None  pupper   None       1137   \n",
       "1777                  10  None   None     None    None   None        426   \n",
       "623                   10  None   None  floofer    None   None      33345   \n",
       "\n",
       "      retweets                                            jpg_url  img_num  \\\n",
       "1039     20500  https://pbs.twimg.com/tweet_video_thumb/CeBym7...        1   \n",
       "140       1704    https://pbs.twimg.com/media/C-3wvtxXcAUTuBE.jpg        1   \n",
       "220       1116    https://pbs.twimg.com/media/C6rBLenU0AAr8MN.jpg        1   \n",
       "1719       207    https://pbs.twimg.com/media/CVWGMQMWUAA7aOM.jpg        1   \n",
       "994       1272    https://pbs.twimg.com/media/CfYaOeMWQAAGfyP.jpg        1   \n",
       "958        725    https://pbs.twimg.com/media/Cg7n_-OU8AA5RR1.jpg        2   \n",
       "1300       519    https://pbs.twimg.com/media/CZHM60BWIAA4AY4.jpg        1   \n",
       "1632       393    https://pbs.twimg.com/media/CVweVUfW4AACPwI.jpg        1   \n",
       "1777       157    https://pbs.twimg.com/media/CVEkZaPXIAEw5vr.jpg        1   \n",
       "623      18497    https://pbs.twimg.com/media/CsWuVEdWcAAqbe9.jpg        1   \n",
       "\n",
       "                  predicted_breed    dog  dog_rating  \n",
       "1039                   brown_bear  False         0.0  \n",
       "140              golden_retriever   True         1.3  \n",
       "220                      web_site  False         0.0  \n",
       "1719                      gondola  False         0.0  \n",
       "994                    car_mirror  False         0.0  \n",
       "958   German_short-haired_pointer   True         1.1  \n",
       "1300                   Eskimo_dog   True         1.2  \n",
       "1632            Brabancon_griffon   True         1.0  \n",
       "1777            Italian_greyhound   True         0.9  \n",
       "623                       Samoyed   True         1.3  "
      ]
     },
     "execution_count": 292,
     "metadata": {},
     "output_type": "execute_result"
    }
   ],
   "source": [
    "# let's look at tweets with a 'None' in the name column\n",
    "no_name = master_df_7[master_df_7.name == 'None']\n",
    "no_name.sample(10)\n"
   ]
  },
  {
   "cell_type": "markdown",
   "metadata": {},
   "source": [
    "#### There are a couple of issues here.\n",
    "- name wasn't pulled from the text\n",
    "- not a dog (only send... do not send... only rate etc)\n",
    "- more than one dog in pic (squad)"
   ]
  },
  {
   "cell_type": "code",
   "execution_count": 293,
   "metadata": {},
   "outputs": [
    {
     "name": "stdout",
     "output_type": "stream",
     "text": [
      "Removed  74  non-dogs or plural dogs tweets.\n"
     ]
    }
   ],
   "source": [
    "# get start count\n",
    "pre = master_df_7.tweet_id.count()\n",
    "\n",
    "# remove not dogs\n",
    "master_df_7 = master_df_7[master_df_7[\"text\"].str.contains(\"not a dog\")==False]\n",
    "master_df_7 = master_df_7[master_df_7[\"text\"].str.contains(\"only rate\")==False]\n",
    "master_df_7 = master_df_7[master_df_7[\"text\"].str.contains(\"stop sending\")==False]\n",
    "master_df_7 = master_df_7[master_df_7[\"text\"].str.contains(\"don't send\")==False]\n",
    "master_df_7 = master_df_7[master_df_7[\"text\"].str.contains(\"squad\")==False]\n",
    "\n",
    "no_name = master_df_7[master_df_7.name == 'None']\n",
    "no_name.sample(1)\n",
    "\n",
    "post = master_df_7.tweet_id.count()\n",
    "\n",
    "print ('Removed ', pre-post, ' non-dogs or plural dogs tweets.')"
   ]
  },
  {
   "cell_type": "markdown",
   "metadata": {},
   "source": [
    "#### Look at the first word of the text for dogs that have 'None' in the name column. \n"
   ]
  },
  {
   "cell_type": "code",
   "execution_count": 294,
   "metadata": {},
   "outputs": [
    {
     "data": {
      "text/plain": [
       "This                     50\n",
       "Here's                   42\n",
       "Here                     34\n",
       "When                     32\n",
       "I                        30\n",
       "We                        8\n",
       "These                     8\n",
       "Two                       7\n",
       "Everybody                 6\n",
       "Happy                     6\n",
       "Oh                        5\n",
       "What                      5\n",
       "12/10                     4\n",
       "Another                   4\n",
       "I'm                       4\n",
       "Exotic                    4\n",
       "Please                    4\n",
       "Very                      4\n",
       "Never                     3\n",
       "Can                       3\n",
       "\"Hello                    3\n",
       "Just                      3\n",
       "Yea                       3\n",
       "Atlas                     3\n",
       "Unique                    3\n",
       "Super                     3\n",
       "If                        3\n",
       "You                       3\n",
       "After                     3\n",
       "I've                      2\n",
       "                         ..\n",
       "\"Good                     1\n",
       "Nothin                    1\n",
       "Striped                   1\n",
       "\"Hi                       1\n",
       "aahhhhkslaldhwnxmzbbs     1\n",
       "Awesome                   1\n",
       "Did...                    1\n",
       "NAAAAAAA                  1\n",
       "Real                      1\n",
       "Nothing                   1\n",
       "*internally               1\n",
       "\"Honestly                 1\n",
       "Endangered                1\n",
       "Seriously,                1\n",
       "Remarkable                1\n",
       "Pupper                    1\n",
       "Hope                      1\n",
       "\"Have                     1\n",
       "Ok                        1\n",
       "Hopefully                 1\n",
       "We.                       1\n",
       "ERMAHGERD                 1\n",
       "Ermergerd                 1\n",
       "Pink                      1\n",
       "oh                        1\n",
       "With                      1\n",
       "\"You                      1\n",
       "Pwease                    1\n",
       "HAPPY                     1\n",
       "Contortionist             1\n",
       "Name: name, Length: 204, dtype: int64"
      ]
     },
     "execution_count": 294,
     "metadata": {},
     "output_type": "execute_result"
    }
   ],
   "source": [
    "# https://stackoverflow.com/questions/37504672/pandas-dataframe-return-first-word-in-string-for-column\n",
    "# df.loc[df.make == '', 'make'] = df.id.str.split().str.get(0)\n",
    "no_name = master_df_7[master_df_7.name == 'None'].copy()\n",
    "\n",
    "no_name.name = no_name.text.str.split().str.get(0).copy()\n",
    "no_name.name\n",
    "no_name.name.value_counts().sort_values(ascending = False)\n"
   ]
  },
  {
   "cell_type": "markdown",
   "metadata": {},
   "source": [
    "#### Atlas is included 3+ times."
   ]
  },
  {
   "cell_type": "code",
   "execution_count": 295,
   "metadata": {},
   "outputs": [
    {
     "data": {
      "text/html": [
       "<div>\n",
       "<style scoped>\n",
       "    .dataframe tbody tr th:only-of-type {\n",
       "        vertical-align: middle;\n",
       "    }\n",
       "\n",
       "    .dataframe tbody tr th {\n",
       "        vertical-align: top;\n",
       "    }\n",
       "\n",
       "    .dataframe thead th {\n",
       "        text-align: right;\n",
       "    }\n",
       "</style>\n",
       "<table border=\"1\" class=\"dataframe\">\n",
       "  <thead>\n",
       "    <tr style=\"text-align: right;\">\n",
       "      <th></th>\n",
       "      <th>tweet_id</th>\n",
       "      <th>timestamp</th>\n",
       "      <th>text</th>\n",
       "      <th>expanded_urls</th>\n",
       "      <th>rating_numerator</th>\n",
       "      <th>rating_denominator</th>\n",
       "      <th>name</th>\n",
       "      <th>doggo</th>\n",
       "      <th>floofer</th>\n",
       "      <th>pupper</th>\n",
       "      <th>puppo</th>\n",
       "      <th>favorites</th>\n",
       "      <th>retweets</th>\n",
       "      <th>jpg_url</th>\n",
       "      <th>img_num</th>\n",
       "      <th>predicted_breed</th>\n",
       "      <th>dog</th>\n",
       "      <th>dog_rating</th>\n",
       "    </tr>\n",
       "  </thead>\n",
       "  <tbody>\n",
       "    <tr>\n",
       "      <th>244</th>\n",
       "      <td>836001077879255040</td>\n",
       "      <td>2017-02-26 23:52:43 +0000</td>\n",
       "      <td>Atlas is back and this time he's prettier than...</td>\n",
       "      <td>https://twitter.com/dog_rates/status/836001077...</td>\n",
       "      <td>13</td>\n",
       "      <td>10</td>\n",
       "      <td>None</td>\n",
       "      <td>None</td>\n",
       "      <td>None</td>\n",
       "      <td>None</td>\n",
       "      <td>None</td>\n",
       "      <td>20924</td>\n",
       "      <td>4935</td>\n",
       "      <td>https://pbs.twimg.com/media/C5oSiskU0AE8sJ_.jpg</td>\n",
       "      <td>4</td>\n",
       "      <td>Samoyed</td>\n",
       "      <td>True</td>\n",
       "      <td>1.3</td>\n",
       "    </tr>\n",
       "    <tr>\n",
       "      <th>394</th>\n",
       "      <td>813217897535406080</td>\n",
       "      <td>2016-12-26 03:00:30 +0000</td>\n",
       "      <td>Here is Atlas. He went all out this year. 13/1...</td>\n",
       "      <td>https://twitter.com/dog_rates/status/813217897...</td>\n",
       "      <td>13</td>\n",
       "      <td>10</td>\n",
       "      <td>Atlas</td>\n",
       "      <td>None</td>\n",
       "      <td>None</td>\n",
       "      <td>None</td>\n",
       "      <td>None</td>\n",
       "      <td>20783</td>\n",
       "      <td>8476</td>\n",
       "      <td>https://pbs.twimg.com/media/C0khWkVXEAI389B.jpg</td>\n",
       "      <td>1</td>\n",
       "      <td>Samoyed</td>\n",
       "      <td>True</td>\n",
       "      <td>1.3</td>\n",
       "    </tr>\n",
       "    <tr>\n",
       "      <th>549</th>\n",
       "      <td>788178268662984705</td>\n",
       "      <td>2016-10-18 00:41:57 +0000</td>\n",
       "      <td>Atlas is back and this time he's got doggles. ...</td>\n",
       "      <td>https://twitter.com/dog_rates/status/788178268...</td>\n",
       "      <td>13</td>\n",
       "      <td>10</td>\n",
       "      <td>None</td>\n",
       "      <td>None</td>\n",
       "      <td>None</td>\n",
       "      <td>None</td>\n",
       "      <td>None</td>\n",
       "      <td>8100</td>\n",
       "      <td>2488</td>\n",
       "      <td>https://pbs.twimg.com/media/CvAr88kW8AEKNAO.jpg</td>\n",
       "      <td>2</td>\n",
       "      <td>Samoyed</td>\n",
       "      <td>True</td>\n",
       "      <td>1.3</td>\n",
       "    </tr>\n",
       "    <tr>\n",
       "      <th>623</th>\n",
       "      <td>776218204058357768</td>\n",
       "      <td>2016-09-15 00:36:55 +0000</td>\n",
       "      <td>Atlas rolled around in some chalk and now he's...</td>\n",
       "      <td>https://twitter.com/dog_rates/status/776218204...</td>\n",
       "      <td>13</td>\n",
       "      <td>10</td>\n",
       "      <td>None</td>\n",
       "      <td>None</td>\n",
       "      <td>floofer</td>\n",
       "      <td>None</td>\n",
       "      <td>None</td>\n",
       "      <td>33345</td>\n",
       "      <td>18497</td>\n",
       "      <td>https://pbs.twimg.com/media/CsWuVEdWcAAqbe9.jpg</td>\n",
       "      <td>1</td>\n",
       "      <td>Samoyed</td>\n",
       "      <td>True</td>\n",
       "      <td>1.3</td>\n",
       "    </tr>\n",
       "    <tr>\n",
       "      <th>716</th>\n",
       "      <td>760539183865880579</td>\n",
       "      <td>2016-08-02 18:14:06 +0000</td>\n",
       "      <td>This is Atlas. Swinging is his passion. 12/10 ...</td>\n",
       "      <td>https://twitter.com/dog_rates/status/760539183...</td>\n",
       "      <td>12</td>\n",
       "      <td>10</td>\n",
       "      <td>Atlas</td>\n",
       "      <td>None</td>\n",
       "      <td>None</td>\n",
       "      <td>None</td>\n",
       "      <td>None</td>\n",
       "      <td>8399</td>\n",
       "      <td>4168</td>\n",
       "      <td>https://pbs.twimg.com/media/Co36VZfWcAEN3R3.jpg</td>\n",
       "      <td>1</td>\n",
       "      <td>Samoyed</td>\n",
       "      <td>True</td>\n",
       "      <td>1.2</td>\n",
       "    </tr>\n",
       "  </tbody>\n",
       "</table>\n",
       "</div>"
      ],
      "text/plain": [
       "               tweet_id                  timestamp  \\\n",
       "244  836001077879255040  2017-02-26 23:52:43 +0000   \n",
       "394  813217897535406080  2016-12-26 03:00:30 +0000   \n",
       "549  788178268662984705  2016-10-18 00:41:57 +0000   \n",
       "623  776218204058357768  2016-09-15 00:36:55 +0000   \n",
       "716  760539183865880579  2016-08-02 18:14:06 +0000   \n",
       "\n",
       "                                                  text  \\\n",
       "244  Atlas is back and this time he's prettier than...   \n",
       "394  Here is Atlas. He went all out this year. 13/1...   \n",
       "549  Atlas is back and this time he's got doggles. ...   \n",
       "623  Atlas rolled around in some chalk and now he's...   \n",
       "716  This is Atlas. Swinging is his passion. 12/10 ...   \n",
       "\n",
       "                                         expanded_urls  rating_numerator  \\\n",
       "244  https://twitter.com/dog_rates/status/836001077...                13   \n",
       "394  https://twitter.com/dog_rates/status/813217897...                13   \n",
       "549  https://twitter.com/dog_rates/status/788178268...                13   \n",
       "623  https://twitter.com/dog_rates/status/776218204...                13   \n",
       "716  https://twitter.com/dog_rates/status/760539183...                12   \n",
       "\n",
       "     rating_denominator   name doggo  floofer pupper puppo  favorites  \\\n",
       "244                  10   None  None     None   None  None      20924   \n",
       "394                  10  Atlas  None     None   None  None      20783   \n",
       "549                  10   None  None     None   None  None       8100   \n",
       "623                  10   None  None  floofer   None  None      33345   \n",
       "716                  10  Atlas  None     None   None  None       8399   \n",
       "\n",
       "     retweets                                          jpg_url  img_num  \\\n",
       "244      4935  https://pbs.twimg.com/media/C5oSiskU0AE8sJ_.jpg        4   \n",
       "394      8476  https://pbs.twimg.com/media/C0khWkVXEAI389B.jpg        1   \n",
       "549      2488  https://pbs.twimg.com/media/CvAr88kW8AEKNAO.jpg        2   \n",
       "623     18497  https://pbs.twimg.com/media/CsWuVEdWcAAqbe9.jpg        1   \n",
       "716      4168  https://pbs.twimg.com/media/Co36VZfWcAEN3R3.jpg        1   \n",
       "\n",
       "    predicted_breed   dog  dog_rating  \n",
       "244         Samoyed  True         1.3  \n",
       "394         Samoyed  True         1.3  \n",
       "549         Samoyed  True         1.3  \n",
       "623         Samoyed  True         1.3  \n",
       "716         Samoyed  True         1.2  "
      ]
     },
     "execution_count": 295,
     "metadata": {},
     "output_type": "execute_result"
    }
   ],
   "source": [
    "master_df_atlas = master_df_7[master_df_7[\"text\"].str.contains(\"Atlas\")]\n",
    "master_df_atlas.head(15)\n"
   ]
  },
  {
   "cell_type": "markdown",
   "metadata": {},
   "source": [
    "#### Atlas is included 5 times! Let's drop 4 Atlas rows.\n"
   ]
  },
  {
   "cell_type": "code",
   "execution_count": 296,
   "metadata": {},
   "outputs": [],
   "source": [
    "# define values\n",
    "values = [813217897535406080, 788178268662984705, 776218204058357768, 760539183865880579]\n",
    "\n",
    "#drop rows that contain any value in the list\n",
    "master_df_7 = master_df_7[master_df_7.tweet_id.isin(values) == False]\n"
   ]
  },
  {
   "cell_type": "code",
   "execution_count": 297,
   "metadata": {},
   "outputs": [
    {
     "name": "stdout",
     "output_type": "stream",
     "text": [
      "<class 'pandas.core.frame.DataFrame'>\n",
      "Int64Index: 494 entries, 5 to 2072\n",
      "Data columns (total 18 columns):\n",
      "tweet_id              494 non-null int64\n",
      "timestamp             494 non-null object\n",
      "text                  494 non-null object\n",
      "expanded_urls         494 non-null object\n",
      "rating_numerator      494 non-null int64\n",
      "rating_denominator    494 non-null int64\n",
      "name                  494 non-null object\n",
      "doggo                 494 non-null object\n",
      "floofer               494 non-null object\n",
      "pupper                494 non-null object\n",
      "puppo                 494 non-null object\n",
      "favorites             494 non-null int64\n",
      "retweets              494 non-null int64\n",
      "jpg_url               494 non-null object\n",
      "img_num               494 non-null int64\n",
      "predicted_breed       494 non-null object\n",
      "dog                   494 non-null bool\n",
      "dog_rating            494 non-null float64\n",
      "dtypes: bool(1), float64(1), int64(6), object(10)\n",
      "memory usage: 70.0+ KB\n"
     ]
    }
   ],
   "source": [
    "no_name = master_df_7[master_df_7.name == 'None']\n",
    "no_name.info()"
   ]
  },
  {
   "cell_type": "markdown",
   "metadata": {},
   "source": [
    "Diminishing returns. stop."
   ]
  },
  {
   "cell_type": "markdown",
   "metadata": {},
   "source": [
    "#### Test: Count of Atlas in the name column: should only have one row."
   ]
  },
  {
   "cell_type": "code",
   "execution_count": 298,
   "metadata": {},
   "outputs": [
    {
     "data": {
      "text/html": [
       "<div>\n",
       "<style scoped>\n",
       "    .dataframe tbody tr th:only-of-type {\n",
       "        vertical-align: middle;\n",
       "    }\n",
       "\n",
       "    .dataframe tbody tr th {\n",
       "        vertical-align: top;\n",
       "    }\n",
       "\n",
       "    .dataframe thead th {\n",
       "        text-align: right;\n",
       "    }\n",
       "</style>\n",
       "<table border=\"1\" class=\"dataframe\">\n",
       "  <thead>\n",
       "    <tr style=\"text-align: right;\">\n",
       "      <th></th>\n",
       "      <th>tweet_id</th>\n",
       "      <th>timestamp</th>\n",
       "      <th>text</th>\n",
       "      <th>expanded_urls</th>\n",
       "      <th>rating_numerator</th>\n",
       "      <th>rating_denominator</th>\n",
       "      <th>name</th>\n",
       "      <th>doggo</th>\n",
       "      <th>floofer</th>\n",
       "      <th>pupper</th>\n",
       "      <th>puppo</th>\n",
       "      <th>favorites</th>\n",
       "      <th>retweets</th>\n",
       "      <th>jpg_url</th>\n",
       "      <th>img_num</th>\n",
       "      <th>predicted_breed</th>\n",
       "      <th>dog</th>\n",
       "      <th>dog_rating</th>\n",
       "    </tr>\n",
       "  </thead>\n",
       "  <tbody>\n",
       "    <tr>\n",
       "      <th>244</th>\n",
       "      <td>836001077879255040</td>\n",
       "      <td>2017-02-26 23:52:43 +0000</td>\n",
       "      <td>Atlas is back and this time he's prettier than...</td>\n",
       "      <td>https://twitter.com/dog_rates/status/836001077...</td>\n",
       "      <td>13</td>\n",
       "      <td>10</td>\n",
       "      <td>None</td>\n",
       "      <td>None</td>\n",
       "      <td>None</td>\n",
       "      <td>None</td>\n",
       "      <td>None</td>\n",
       "      <td>20924</td>\n",
       "      <td>4935</td>\n",
       "      <td>https://pbs.twimg.com/media/C5oSiskU0AE8sJ_.jpg</td>\n",
       "      <td>4</td>\n",
       "      <td>Samoyed</td>\n",
       "      <td>True</td>\n",
       "      <td>1.3</td>\n",
       "    </tr>\n",
       "  </tbody>\n",
       "</table>\n",
       "</div>"
      ],
      "text/plain": [
       "               tweet_id                  timestamp  \\\n",
       "244  836001077879255040  2017-02-26 23:52:43 +0000   \n",
       "\n",
       "                                                  text  \\\n",
       "244  Atlas is back and this time he's prettier than...   \n",
       "\n",
       "                                         expanded_urls  rating_numerator  \\\n",
       "244  https://twitter.com/dog_rates/status/836001077...                13   \n",
       "\n",
       "     rating_denominator  name doggo floofer pupper puppo  favorites  retweets  \\\n",
       "244                  10  None  None    None   None  None      20924      4935   \n",
       "\n",
       "                                             jpg_url  img_num predicted_breed  \\\n",
       "244  https://pbs.twimg.com/media/C5oSiskU0AE8sJ_.jpg        4         Samoyed   \n",
       "\n",
       "      dog  dog_rating  \n",
       "244  True         1.3  "
      ]
     },
     "execution_count": 298,
     "metadata": {},
     "output_type": "execute_result"
    }
   ],
   "source": [
    "master_df_atlas = master_df_7[master_df_7[\"text\"].str.contains(\"Atlas\")]\n",
    "master_df_atlas.head(5)"
   ]
  },
  {
   "cell_type": "code",
   "execution_count": 299,
   "metadata": {},
   "outputs": [],
   "source": [
    "master_df_8 = master_df_7.copy()"
   ]
  },
  {
   "cell_type": "markdown",
   "metadata": {},
   "source": [
    "### Issue #8:  \tSome tweets have invalid dog name (validity)\n"
   ]
  },
  {
   "cell_type": "markdown",
   "metadata": {
    "collapsed": true,
    "extensions": {
     "jupyter_dashboards": {
      "version": 1,
      "views": {
       "grid_default": {
        "hidden": true
       },
       "report_default": {
        "hidden": true
       }
      }
     }
    }
   },
   "source": [
    "#### Define: some of the dog names are 'None' or 'a', these are invalid dog names."
   ]
  },
  {
   "cell_type": "markdown",
   "metadata": {},
   "source": [
    "#### Code"
   ]
  },
  {
   "cell_type": "code",
   "execution_count": 300,
   "metadata": {},
   "outputs": [
    {
     "data": {
      "text/plain": [
       "None        494\n",
       "a            48\n",
       "Charlie      11\n",
       "Oliver       10\n",
       "Cooper       10\n",
       "Lucy         10\n",
       "Tucker        9\n",
       "Penny         9\n",
       "Winston       8\n",
       "Sadie         8\n",
       "Toby          7\n",
       "Lola          7\n",
       "Daisy         7\n",
       "the           6\n",
       "Jax           6\n",
       "Bella         6\n",
       "Bo            6\n",
       "Koda          6\n",
       "Stanley       6\n",
       "Buddy         5\n",
       "Chester       5\n",
       "Oscar         5\n",
       "Rusty         5\n",
       "Scout         5\n",
       "Bailey        5\n",
       "Louis         5\n",
       "Dave          5\n",
       "Leo           5\n",
       "Milo          5\n",
       "Archie        4\n",
       "           ... \n",
       "Mingus        1\n",
       "Spanky        1\n",
       "Willem        1\n",
       "Meatball      1\n",
       "Lilah         1\n",
       "Chadrick      1\n",
       "Kramer        1\n",
       "Ralphson      1\n",
       "Fletcher      1\n",
       "Georgie       1\n",
       "Cecil         1\n",
       "Crimson       1\n",
       "Maisey        1\n",
       "Leonidas      1\n",
       "Angel         1\n",
       "such          1\n",
       "Mauve         1\n",
       "Sora          1\n",
       "Charl         1\n",
       "Marlee        1\n",
       "River         1\n",
       "Butter        1\n",
       "Vixen         1\n",
       "Griswold      1\n",
       "Spencer       1\n",
       "Cheryl        1\n",
       "Margo         1\n",
       "Jimbo         1\n",
       "Pavlov        1\n",
       "Remy          1\n",
       "Name: name, Length: 928, dtype: int64"
      ]
     },
     "execution_count": 300,
     "metadata": {},
     "output_type": "execute_result"
    }
   ],
   "source": [
    "master_df_8.name.value_counts().sort_values(ascending = False)\n"
   ]
  },
  {
   "cell_type": "code",
   "execution_count": 301,
   "metadata": {},
   "outputs": [],
   "source": [
    "master_df_8['name'] = master_df_8['name'].str.replace('None','')\n",
    "master_df_8 = master_df_8[master_df_8.name != 'a']\n",
    "master_df_8 = master_df_8[master_df_8.name != 'an']\n",
    "master_df_8 = master_df_8[master_df_8.name != 'the']\n"
   ]
  },
  {
   "cell_type": "markdown",
   "metadata": {},
   "source": [
    "#### Test: take another look at dog name values, should not include: None, a, an, the, he."
   ]
  },
  {
   "cell_type": "code",
   "execution_count": 302,
   "metadata": {},
   "outputs": [
    {
     "data": {
      "text/html": [
       "<div>\n",
       "<style scoped>\n",
       "    .dataframe tbody tr th:only-of-type {\n",
       "        vertical-align: middle;\n",
       "    }\n",
       "\n",
       "    .dataframe tbody tr th {\n",
       "        vertical-align: top;\n",
       "    }\n",
       "\n",
       "    .dataframe thead th {\n",
       "        text-align: right;\n",
       "    }\n",
       "</style>\n",
       "<table border=\"1\" class=\"dataframe\">\n",
       "  <thead>\n",
       "    <tr style=\"text-align: right;\">\n",
       "      <th></th>\n",
       "      <th>name</th>\n",
       "    </tr>\n",
       "  </thead>\n",
       "  <tbody>\n",
       "    <tr>\n",
       "      <th></th>\n",
       "      <td>494</td>\n",
       "    </tr>\n",
       "    <tr>\n",
       "      <th>Charlie</th>\n",
       "      <td>11</td>\n",
       "    </tr>\n",
       "    <tr>\n",
       "      <th>Cooper</th>\n",
       "      <td>10</td>\n",
       "    </tr>\n",
       "    <tr>\n",
       "      <th>Oliver</th>\n",
       "      <td>10</td>\n",
       "    </tr>\n",
       "    <tr>\n",
       "      <th>Lucy</th>\n",
       "      <td>10</td>\n",
       "    </tr>\n",
       "    <tr>\n",
       "      <th>Tucker</th>\n",
       "      <td>9</td>\n",
       "    </tr>\n",
       "    <tr>\n",
       "      <th>Penny</th>\n",
       "      <td>9</td>\n",
       "    </tr>\n",
       "    <tr>\n",
       "      <th>Sadie</th>\n",
       "      <td>8</td>\n",
       "    </tr>\n",
       "    <tr>\n",
       "      <th>Winston</th>\n",
       "      <td>8</td>\n",
       "    </tr>\n",
       "    <tr>\n",
       "      <th>Daisy</th>\n",
       "      <td>7</td>\n",
       "    </tr>\n",
       "    <tr>\n",
       "      <th>Toby</th>\n",
       "      <td>7</td>\n",
       "    </tr>\n",
       "    <tr>\n",
       "      <th>Lola</th>\n",
       "      <td>7</td>\n",
       "    </tr>\n",
       "    <tr>\n",
       "      <th>Jax</th>\n",
       "      <td>6</td>\n",
       "    </tr>\n",
       "    <tr>\n",
       "      <th>Koda</th>\n",
       "      <td>6</td>\n",
       "    </tr>\n",
       "    <tr>\n",
       "      <th>Stanley</th>\n",
       "      <td>6</td>\n",
       "    </tr>\n",
       "    <tr>\n",
       "      <th>Bella</th>\n",
       "      <td>6</td>\n",
       "    </tr>\n",
       "    <tr>\n",
       "      <th>Bo</th>\n",
       "      <td>6</td>\n",
       "    </tr>\n",
       "    <tr>\n",
       "      <th>Buddy</th>\n",
       "      <td>5</td>\n",
       "    </tr>\n",
       "    <tr>\n",
       "      <th>Bailey</th>\n",
       "      <td>5</td>\n",
       "    </tr>\n",
       "    <tr>\n",
       "      <th>Rusty</th>\n",
       "      <td>5</td>\n",
       "    </tr>\n",
       "    <tr>\n",
       "      <th>Dave</th>\n",
       "      <td>5</td>\n",
       "    </tr>\n",
       "    <tr>\n",
       "      <th>Leo</th>\n",
       "      <td>5</td>\n",
       "    </tr>\n",
       "    <tr>\n",
       "      <th>Oscar</th>\n",
       "      <td>5</td>\n",
       "    </tr>\n",
       "    <tr>\n",
       "      <th>Louis</th>\n",
       "      <td>5</td>\n",
       "    </tr>\n",
       "    <tr>\n",
       "      <th>Scout</th>\n",
       "      <td>5</td>\n",
       "    </tr>\n",
       "    <tr>\n",
       "      <th>Chester</th>\n",
       "      <td>5</td>\n",
       "    </tr>\n",
       "    <tr>\n",
       "      <th>Milo</th>\n",
       "      <td>5</td>\n",
       "    </tr>\n",
       "    <tr>\n",
       "      <th>Chip</th>\n",
       "      <td>4</td>\n",
       "    </tr>\n",
       "    <tr>\n",
       "      <th>Finn</th>\n",
       "      <td>4</td>\n",
       "    </tr>\n",
       "    <tr>\n",
       "      <th>Bentley</th>\n",
       "      <td>4</td>\n",
       "    </tr>\n",
       "    <tr>\n",
       "      <th>...</th>\n",
       "      <td>...</td>\n",
       "    </tr>\n",
       "    <tr>\n",
       "      <th>Bubbles</th>\n",
       "      <td>2</td>\n",
       "    </tr>\n",
       "    <tr>\n",
       "      <th>Calbert</th>\n",
       "      <td>2</td>\n",
       "    </tr>\n",
       "    <tr>\n",
       "      <th>Trooper</th>\n",
       "      <td>2</td>\n",
       "    </tr>\n",
       "    <tr>\n",
       "      <th>Odie</th>\n",
       "      <td>2</td>\n",
       "    </tr>\n",
       "    <tr>\n",
       "      <th>Lorenzo</th>\n",
       "      <td>2</td>\n",
       "    </tr>\n",
       "    <tr>\n",
       "      <th>Elliot</th>\n",
       "      <td>2</td>\n",
       "    </tr>\n",
       "    <tr>\n",
       "      <th>Jackson</th>\n",
       "      <td>2</td>\n",
       "    </tr>\n",
       "    <tr>\n",
       "      <th>Maxaroni</th>\n",
       "      <td>2</td>\n",
       "    </tr>\n",
       "    <tr>\n",
       "      <th>Doc</th>\n",
       "      <td>2</td>\n",
       "    </tr>\n",
       "    <tr>\n",
       "      <th>Coops</th>\n",
       "      <td>2</td>\n",
       "    </tr>\n",
       "    <tr>\n",
       "      <th>Solomon</th>\n",
       "      <td>2</td>\n",
       "    </tr>\n",
       "    <tr>\n",
       "      <th>Chet</th>\n",
       "      <td>2</td>\n",
       "    </tr>\n",
       "    <tr>\n",
       "      <th>Benji</th>\n",
       "      <td>2</td>\n",
       "    </tr>\n",
       "    <tr>\n",
       "      <th>FlÃÂ¡vio</th>\n",
       "      <td>2</td>\n",
       "    </tr>\n",
       "    <tr>\n",
       "      <th>Jimison</th>\n",
       "      <td>2</td>\n",
       "    </tr>\n",
       "    <tr>\n",
       "      <th>Ollie</th>\n",
       "      <td>2</td>\n",
       "    </tr>\n",
       "    <tr>\n",
       "      <th>Reginald</th>\n",
       "      <td>2</td>\n",
       "    </tr>\n",
       "    <tr>\n",
       "      <th>Penelope</th>\n",
       "      <td>2</td>\n",
       "    </tr>\n",
       "    <tr>\n",
       "      <th>Lou</th>\n",
       "      <td>2</td>\n",
       "    </tr>\n",
       "    <tr>\n",
       "      <th>Bisquick</th>\n",
       "      <td>2</td>\n",
       "    </tr>\n",
       "    <tr>\n",
       "      <th>Yogi</th>\n",
       "      <td>2</td>\n",
       "    </tr>\n",
       "    <tr>\n",
       "      <th>Pippa</th>\n",
       "      <td>2</td>\n",
       "    </tr>\n",
       "    <tr>\n",
       "      <th>Alice</th>\n",
       "      <td>2</td>\n",
       "    </tr>\n",
       "    <tr>\n",
       "      <th>Finley</th>\n",
       "      <td>2</td>\n",
       "    </tr>\n",
       "    <tr>\n",
       "      <th>Harold</th>\n",
       "      <td>2</td>\n",
       "    </tr>\n",
       "    <tr>\n",
       "      <th>Theodore</th>\n",
       "      <td>2</td>\n",
       "    </tr>\n",
       "    <tr>\n",
       "      <th>Luca</th>\n",
       "      <td>2</td>\n",
       "    </tr>\n",
       "    <tr>\n",
       "      <th>Sugar</th>\n",
       "      <td>2</td>\n",
       "    </tr>\n",
       "    <tr>\n",
       "      <th>Ash</th>\n",
       "      <td>2</td>\n",
       "    </tr>\n",
       "    <tr>\n",
       "      <th>Moe</th>\n",
       "      <td>2</td>\n",
       "    </tr>\n",
       "  </tbody>\n",
       "</table>\n",
       "<p>150 rows × 1 columns</p>\n",
       "</div>"
      ],
      "text/plain": [
       "           name\n",
       "            494\n",
       "Charlie      11\n",
       "Cooper       10\n",
       "Oliver       10\n",
       "Lucy         10\n",
       "Tucker        9\n",
       "Penny         9\n",
       "Sadie         8\n",
       "Winston       8\n",
       "Daisy         7\n",
       "Toby          7\n",
       "Lola          7\n",
       "Jax           6\n",
       "Koda          6\n",
       "Stanley       6\n",
       "Bella         6\n",
       "Bo            6\n",
       "Buddy         5\n",
       "Bailey        5\n",
       "Rusty         5\n",
       "Dave          5\n",
       "Leo           5\n",
       "Oscar         5\n",
       "Louis         5\n",
       "Scout         5\n",
       "Chester       5\n",
       "Milo          5\n",
       "Chip          4\n",
       "Finn          4\n",
       "Bentley       4\n",
       "...         ...\n",
       "Bubbles       2\n",
       "Calbert       2\n",
       "Trooper       2\n",
       "Odie          2\n",
       "Lorenzo       2\n",
       "Elliot        2\n",
       "Jackson       2\n",
       "Maxaroni      2\n",
       "Doc           2\n",
       "Coops         2\n",
       "Solomon       2\n",
       "Chet          2\n",
       "Benji         2\n",
       "FlÃÂ¡vio     2\n",
       "Jimison       2\n",
       "Ollie         2\n",
       "Reginald      2\n",
       "Penelope      2\n",
       "Lou           2\n",
       "Bisquick      2\n",
       "Yogi          2\n",
       "Pippa         2\n",
       "Alice         2\n",
       "Finley        2\n",
       "Harold        2\n",
       "Theodore      2\n",
       "Luca          2\n",
       "Sugar         2\n",
       "Ash           2\n",
       "Moe           2\n",
       "\n",
       "[150 rows x 1 columns]"
      ]
     },
     "execution_count": 302,
     "metadata": {},
     "output_type": "execute_result"
    }
   ],
   "source": [
    "x = master_df_8.name.value_counts().to_frame()\n",
    "x.head(150)"
   ]
  },
  {
   "cell_type": "code",
   "execution_count": 303,
   "metadata": {},
   "outputs": [],
   "source": [
    "master_df_9 = master_df_8.copy()"
   ]
  },
  {
   "cell_type": "markdown",
   "metadata": {},
   "source": [
    "### Issue #9: tweet id datatype is int64, however these are unique and do not require calculation (consistency)\n"
   ]
  },
  {
   "cell_type": "markdown",
   "metadata": {
    "collapsed": true,
    "extensions": {
     "jupyter_dashboards": {
      "version": 1,
      "views": {
       "grid_default": {
        "hidden": true
       },
       "report_default": {
        "hidden": true
       }
      }
     }
    }
   },
   "source": [
    "#### Define: the tweet id datatype is int64, I would prefer these were string because they do not require calculations."
   ]
  },
  {
   "cell_type": "markdown",
   "metadata": {},
   "source": [
    "#### Code"
   ]
  },
  {
   "cell_type": "code",
   "execution_count": 304,
   "metadata": {},
   "outputs": [
    {
     "name": "stdout",
     "output_type": "stream",
     "text": [
      "<class 'pandas.core.frame.DataFrame'>\n",
      "Int64Index: 1858 entries, 0 to 2072\n",
      "Data columns (total 18 columns):\n",
      "tweet_id              1858 non-null int64\n",
      "timestamp             1858 non-null object\n",
      "text                  1858 non-null object\n",
      "expanded_urls         1858 non-null object\n",
      "rating_numerator      1858 non-null int64\n",
      "rating_denominator    1858 non-null int64\n",
      "name                  1858 non-null object\n",
      "doggo                 1858 non-null object\n",
      "floofer               1858 non-null object\n",
      "pupper                1858 non-null object\n",
      "puppo                 1858 non-null object\n",
      "favorites             1858 non-null int64\n",
      "retweets              1858 non-null int64\n",
      "jpg_url               1858 non-null object\n",
      "img_num               1858 non-null int64\n",
      "predicted_breed       1858 non-null object\n",
      "dog                   1858 non-null bool\n",
      "dog_rating            1858 non-null float64\n",
      "dtypes: bool(1), float64(1), int64(6), object(10)\n",
      "memory usage: 263.1+ KB\n"
     ]
    }
   ],
   "source": [
    "master_df_9.info()"
   ]
  },
  {
   "cell_type": "markdown",
   "metadata": {},
   "source": [
    "#### Test"
   ]
  },
  {
   "cell_type": "code",
   "execution_count": 305,
   "metadata": {},
   "outputs": [
    {
     "name": "stdout",
     "output_type": "stream",
     "text": [
      "<class 'pandas.core.frame.DataFrame'>\n",
      "Int64Index: 1858 entries, 0 to 2072\n",
      "Data columns (total 18 columns):\n",
      "tweet_id              1858 non-null object\n",
      "timestamp             1858 non-null object\n",
      "text                  1858 non-null object\n",
      "expanded_urls         1858 non-null object\n",
      "rating_numerator      1858 non-null int64\n",
      "rating_denominator    1858 non-null int64\n",
      "name                  1858 non-null object\n",
      "doggo                 1858 non-null object\n",
      "floofer               1858 non-null object\n",
      "pupper                1858 non-null object\n",
      "puppo                 1858 non-null object\n",
      "favorites             1858 non-null int64\n",
      "retweets              1858 non-null int64\n",
      "jpg_url               1858 non-null object\n",
      "img_num               1858 non-null int64\n",
      "predicted_breed       1858 non-null object\n",
      "dog                   1858 non-null bool\n",
      "dog_rating            1858 non-null float64\n",
      "dtypes: bool(1), float64(1), int64(5), object(11)\n",
      "memory usage: 263.1+ KB\n"
     ]
    }
   ],
   "source": [
    "master_df_9['tweet_id'] = master_df_9['tweet_id'].apply(str)\n",
    "master_df_9.info()"
   ]
  },
  {
   "cell_type": "code",
   "execution_count": 306,
   "metadata": {},
   "outputs": [],
   "source": [
    "master_df_10 = master_df_9.copy()\n"
   ]
  },
  {
   "cell_type": "markdown",
   "metadata": {},
   "source": [
    "### Issue #10\tratings columns should be float to allow decimals and later analysis. (consistency)\n"
   ]
  },
  {
   "cell_type": "markdown",
   "metadata": {
    "collapsed": true,
    "extensions": {
     "jupyter_dashboards": {
      "version": 1,
      "views": {
       "grid_default": {
        "hidden": true
       },
       "report_default": {
        "hidden": true
       }
      }
     }
    }
   },
   "source": [
    "#### Define: the ratings columns do not need to be int, they can be float in the case of values like 9.5."
   ]
  },
  {
   "cell_type": "markdown",
   "metadata": {},
   "source": [
    "#### Code"
   ]
  },
  {
   "cell_type": "code",
   "execution_count": 307,
   "metadata": {},
   "outputs": [],
   "source": [
    "master_df_10[['rating_numerator', 'rating_denominator']] = master_df_10[['rating_numerator', 'rating_denominator']].astype(float)\n"
   ]
  },
  {
   "cell_type": "markdown",
   "metadata": {},
   "source": [
    "#### Test"
   ]
  },
  {
   "cell_type": "code",
   "execution_count": 308,
   "metadata": {},
   "outputs": [
    {
     "name": "stdout",
     "output_type": "stream",
     "text": [
      "<class 'pandas.core.frame.DataFrame'>\n",
      "Int64Index: 1858 entries, 0 to 2072\n",
      "Data columns (total 18 columns):\n",
      "tweet_id              1858 non-null object\n",
      "timestamp             1858 non-null object\n",
      "text                  1858 non-null object\n",
      "expanded_urls         1858 non-null object\n",
      "rating_numerator      1858 non-null float64\n",
      "rating_denominator    1858 non-null float64\n",
      "name                  1858 non-null object\n",
      "doggo                 1858 non-null object\n",
      "floofer               1858 non-null object\n",
      "pupper                1858 non-null object\n",
      "puppo                 1858 non-null object\n",
      "favorites             1858 non-null int64\n",
      "retweets              1858 non-null int64\n",
      "jpg_url               1858 non-null object\n",
      "img_num               1858 non-null int64\n",
      "predicted_breed       1858 non-null object\n",
      "dog                   1858 non-null bool\n",
      "dog_rating            1858 non-null float64\n",
      "dtypes: bool(1), float64(3), int64(3), object(11)\n",
      "memory usage: 263.1+ KB\n"
     ]
    }
   ],
   "source": [
    "master_df_10.info()\n"
   ]
  },
  {
   "cell_type": "code",
   "execution_count": 309,
   "metadata": {},
   "outputs": [],
   "source": [
    "master_df_11 = master_df_10.copy()\n"
   ]
  },
  {
   "cell_type": "markdown",
   "metadata": {},
   "source": [
    "### Issue 11 timestamp datatype is object"
   ]
  },
  {
   "cell_type": "markdown",
   "metadata": {
    "collapsed": true,
    "extensions": {
     "jupyter_dashboards": {
      "version": 1,
      "views": {
       "grid_default": {
        "hidden": true
       },
       "report_default": {
        "hidden": true
       }
      }
     }
    }
   },
   "source": [
    "#### Define: The timestamp datatype should not be object, it should be datetime so I can use it in my analysis."
   ]
  },
  {
   "cell_type": "markdown",
   "metadata": {},
   "source": [
    "#### Code"
   ]
  },
  {
   "cell_type": "code",
   "execution_count": 310,
   "metadata": {},
   "outputs": [],
   "source": [
    "# timestamp datatype is object\n",
    "master_df_11['date'] = pd.to_datetime(master_df_11['timestamp'])\n",
    "master_df_11.drop('timestamp', axis=1, inplace=True)\n"
   ]
  },
  {
   "cell_type": "markdown",
   "metadata": {},
   "source": [
    "#### Test: Info() should show datatype of datatime64 for timestamp coloumn"
   ]
  },
  {
   "cell_type": "code",
   "execution_count": 311,
   "metadata": {},
   "outputs": [
    {
     "name": "stdout",
     "output_type": "stream",
     "text": [
      "<class 'pandas.core.frame.DataFrame'>\n",
      "Int64Index: 1858 entries, 0 to 2072\n",
      "Data columns (total 18 columns):\n",
      "tweet_id              1858 non-null object\n",
      "text                  1858 non-null object\n",
      "expanded_urls         1858 non-null object\n",
      "rating_numerator      1858 non-null float64\n",
      "rating_denominator    1858 non-null float64\n",
      "name                  1858 non-null object\n",
      "doggo                 1858 non-null object\n",
      "floofer               1858 non-null object\n",
      "pupper                1858 non-null object\n",
      "puppo                 1858 non-null object\n",
      "favorites             1858 non-null int64\n",
      "retweets              1858 non-null int64\n",
      "jpg_url               1858 non-null object\n",
      "img_num               1858 non-null int64\n",
      "predicted_breed       1858 non-null object\n",
      "dog                   1858 non-null bool\n",
      "dog_rating            1858 non-null float64\n",
      "date                  1858 non-null datetime64[ns]\n",
      "dtypes: bool(1), datetime64[ns](1), float64(3), int64(3), object(10)\n",
      "memory usage: 263.1+ KB\n"
     ]
    }
   ],
   "source": [
    "master_df_11.info()\n"
   ]
  },
  {
   "cell_type": "code",
   "execution_count": 312,
   "metadata": {},
   "outputs": [],
   "source": [
    "master_df_12 = master_df_11.copy()"
   ]
  },
  {
   "cell_type": "markdown",
   "metadata": {},
   "source": [
    "### Issue #12 favourites and retweets are float not int"
   ]
  },
  {
   "cell_type": "markdown",
   "metadata": {},
   "source": [
    "#### Define: favourites and retweets are not expected to be fractional values, change these to int."
   ]
  },
  {
   "cell_type": "markdown",
   "metadata": {},
   "source": [
    "#### Code"
   ]
  },
  {
   "cell_type": "code",
   "execution_count": 313,
   "metadata": {},
   "outputs": [],
   "source": [
    "master_df_12[['favorites', 'retweets']] = master_df_12[['favorites', 'retweets']].astype(int)\n"
   ]
  },
  {
   "cell_type": "markdown",
   "metadata": {},
   "source": [
    "#### Test: Info() should show datatypes of int64 for retweets and favorites"
   ]
  },
  {
   "cell_type": "code",
   "execution_count": 314,
   "metadata": {},
   "outputs": [
    {
     "name": "stdout",
     "output_type": "stream",
     "text": [
      "<class 'pandas.core.frame.DataFrame'>\n",
      "Int64Index: 1858 entries, 0 to 2072\n",
      "Data columns (total 18 columns):\n",
      "tweet_id              1858 non-null object\n",
      "text                  1858 non-null object\n",
      "expanded_urls         1858 non-null object\n",
      "rating_numerator      1858 non-null float64\n",
      "rating_denominator    1858 non-null float64\n",
      "name                  1858 non-null object\n",
      "doggo                 1858 non-null object\n",
      "floofer               1858 non-null object\n",
      "pupper                1858 non-null object\n",
      "puppo                 1858 non-null object\n",
      "favorites             1858 non-null int64\n",
      "retweets              1858 non-null int64\n",
      "jpg_url               1858 non-null object\n",
      "img_num               1858 non-null int64\n",
      "predicted_breed       1858 non-null object\n",
      "dog                   1858 non-null bool\n",
      "dog_rating            1858 non-null float64\n",
      "date                  1858 non-null datetime64[ns]\n",
      "dtypes: bool(1), datetime64[ns](1), float64(3), int64(3), object(10)\n",
      "memory usage: 263.1+ KB\n"
     ]
    }
   ],
   "source": [
    "master_df_12.info()"
   ]
  },
  {
   "cell_type": "code",
   "execution_count": 315,
   "metadata": {},
   "outputs": [],
   "source": [
    "master_df_13 = master_df_12.copy()"
   ]
  },
  {
   "cell_type": "markdown",
   "metadata": {},
   "source": [
    "### Tidiness Issue #1 the dog ranks take up 3 columns"
   ]
  },
  {
   "cell_type": "markdown",
   "metadata": {
    "collapsed": true,
    "extensions": {
     "jupyter_dashboards": {
      "version": 1,
      "views": {
       "grid_default": {
        "hidden": true
       },
       "report_default": {
        "hidden": true
       }
      }
     }
    }
   },
   "source": [
    "#### Define: The dog ranks take of 3 columns. To resolve this tidiness issue, there should be one column for dog ranks 'doggo', 'pupper', and 'puppo'."
   ]
  },
  {
   "cell_type": "markdown",
   "metadata": {},
   "source": [
    "#### Code"
   ]
  },
  {
   "cell_type": "code",
   "execution_count": 316,
   "metadata": {},
   "outputs": [
    {
     "name": "stdout",
     "output_type": "stream",
     "text": [
      "False    1785\n",
      "True       73\n",
      "Name: doggo, dtype: int64 False    1654\n",
      "True      204\n",
      "Name: pupper, dtype: int64 False    1835\n",
      "True       23\n",
      "Name: puppo, dtype: int64\n"
     ]
    }
   ],
   "source": [
    "# count # of dogs per rank\n",
    "a = master_df_13.doggo == 'doggo'\n",
    "b = master_df_13.pupper == 'pupper'\n",
    "c = master_df_13.puppo == 'puppo'\n",
    "print(a.value_counts(), b.value_counts(), c.value_counts())"
   ]
  },
  {
   "cell_type": "code",
   "execution_count": 317,
   "metadata": {},
   "outputs": [
    {
     "data": {
      "text/plain": [
       "               1567\n",
       "pupper          196\n",
       "doggo            64\n",
       "puppo            22\n",
       "doggopupper       8\n",
       "doggopuppo        1\n",
       "Name: rank, dtype: int64"
      ]
     },
     "execution_count": 317,
     "metadata": {},
     "output_type": "execute_result"
    }
   ],
   "source": [
    "# remove text 'none' from dog rankings\n",
    "master_df_13['doggo'] = master_df_13['doggo'].str.replace('None','')\n",
    "master_df_13['floofer'] = master_df_13['floofer'].str.replace('None','')\n",
    "master_df_13['pupper'] = master_df_13['pupper'].str.replace('None','')\n",
    "master_df_13['puppo'] = master_df_13['puppo'].str.replace('None','')\n",
    "\n",
    "# create new consolidated rank column and remove old rank columns\n",
    "master_df_13['rank'] = master_df_13.doggo + master_df_13.pupper + master_df_13.puppo\n",
    "master_df_13 = master_df_13.drop(['doggo', 'pupper', 'puppo'], axis = 1)\n",
    "\n",
    "master_df_13['rank'].value_counts()"
   ]
  },
  {
   "cell_type": "markdown",
   "metadata": {},
   "source": [
    "#### Test: A count of dogs per rank should show a count of pupper, doggo, and puppo with no double-ranked dogs.#### Test"
   ]
  },
  {
   "cell_type": "code",
   "execution_count": 318,
   "metadata": {},
   "outputs": [
    {
     "name": "stdout",
     "output_type": "stream",
     "text": [
      "<class 'pandas.core.frame.DataFrame'>\n",
      "Int64Index: 1858 entries, 0 to 2072\n",
      "Data columns (total 16 columns):\n",
      "tweet_id              1858 non-null object\n",
      "text                  1858 non-null object\n",
      "expanded_urls         1858 non-null object\n",
      "rating_numerator      1858 non-null float64\n",
      "rating_denominator    1858 non-null float64\n",
      "name                  1858 non-null object\n",
      "floofer               1858 non-null object\n",
      "favorites             1858 non-null int64\n",
      "retweets              1858 non-null int64\n",
      "jpg_url               1858 non-null object\n",
      "img_num               1858 non-null int64\n",
      "predicted_breed       1858 non-null object\n",
      "dog                   1858 non-null bool\n",
      "dog_rating            1858 non-null float64\n",
      "date                  1858 non-null datetime64[ns]\n",
      "rank                  1858 non-null object\n",
      "dtypes: bool(1), datetime64[ns](1), float64(3), int64(3), object(8)\n",
      "memory usage: 234.1+ KB\n"
     ]
    }
   ],
   "source": [
    "master_df_13.info()"
   ]
  },
  {
   "cell_type": "code",
   "execution_count": 319,
   "metadata": {},
   "outputs": [],
   "source": [
    "master_df_14 = master_df_13.copy()"
   ]
  },
  {
   "cell_type": "markdown",
   "metadata": {},
   "source": [
    "### Tidiness Issue #2: double dog ranking "
   ]
  },
  {
   "cell_type": "markdown",
   "metadata": {
    "collapsed": true,
    "extensions": {
     "jupyter_dashboards": {
      "version": 1,
      "views": {
       "grid_default": {
        "hidden": true
       },
       "report_default": {
        "hidden": true
       }
      }
     }
    }
   },
   "source": [
    "#### Define:  one of the dog rankings is not a ranking but a description of fur. This is a **consistency** issue. To solve this, I create a new 'dog_rank' column and retain the 'floofer' column. "
   ]
  },
  {
   "cell_type": "markdown",
   "metadata": {},
   "source": [
    "#### Code"
   ]
  },
  {
   "cell_type": "code",
   "execution_count": 320,
   "metadata": {},
   "outputs": [
    {
     "data": {
      "text/plain": [
       "               1567\n",
       "pupper          196\n",
       "doggo            64\n",
       "puppo            22\n",
       "doggopupper       8\n",
       "doggopuppo        1\n",
       "Name: rank, dtype: int64"
      ]
     },
     "execution_count": 320,
     "metadata": {},
     "output_type": "execute_result"
    }
   ],
   "source": [
    "master_df_14['rank'].value_counts()"
   ]
  },
  {
   "cell_type": "code",
   "execution_count": 321,
   "metadata": {},
   "outputs": [
    {
     "name": "stdout",
     "output_type": "stream",
     "text": [
      "817777686764523521 This is Dido. She's playing the lead role in \"Pupper Stops to Catch Snow Before Resuming Shadow Box with Dried Apple.\" 13/10 (IG: didodoggo) https://t.co/m7isZrOBX7 13.0 10.0\n",
      "808106460588765185 Here we have Burke (pupper) and Dexter (doggo). Pupper wants to be exactly like doggo. Both 12/10 would pet at same time https://t.co/ANBpEYHaho 12.0 10.0\n",
      "802265048156610565 Like doggo, like pupper version 2. Both 11/10 https://t.co/9IxWAXFqze 11.0 10.0\n",
      "801115127852503040 This is Bones. He's being haunted by another doggo of roughly the same size. 12/10 deep breaths pupper everything's fine https://t.co/55Dqe0SJNj 12.0 10.0\n",
      "785639753186217984 This is Pinot. He's a sophisticated doggo. You can tell by the hat. Also pointier than your average pupper. Still 10/10 would pet cautiously https://t.co/f2wmLZTPHd 10.0 10.0\n",
      "759793422261743616 Meet Maggie &amp; Lila. Maggie is the doggo, Lila is the pupper. They are sisters. Both 12/10 would pet at the same time https://t.co/MYwR4DQKll 12.0 10.0\n",
      "741067306818797568 This is just downright precious af. 12/10 for both pupper and doggo https://t.co/o5J479bZUC 12.0 10.0\n",
      "733109485275860992 Like father (doggo), like son (pupper). Both 12/10 https://t.co/pG2inLaOda 12.0 10.0\n"
     ]
    }
   ],
   "source": [
    "doggopuppers = master_df_14[master_df_14[\"rank\"].str.contains(\"doggopupper\")]\n",
    "\n",
    "x = doggopuppers\n",
    "\n",
    "# loop through these and show text, rating, and tweet id:    \n",
    "for tweet_id, text, rating_numerator, rating_denominator in zip(x['tweet_id'], \\\n",
    "                                                                x['text'], \\\n",
    "                                                                x['rating_numerator'], \\\n",
    "                                                                x['rating_denominator']):\n",
    "    print(tweet_id, text, rating_numerator, rating_denominator)\n",
    "\n",
    "# reassign to pupper: 817777686764523521, 801115127852503040\n",
    "master_df_14.loc[master_df_14['rank'] == 'doggopupper', 'rank'] = 'pupper'\n"
   ]
  },
  {
   "cell_type": "markdown",
   "metadata": {},
   "source": [
    "#### Most of these have two dogs. My analysis will focus on the idea of one dog : one tweet. Delete those with two dogs."
   ]
  },
  {
   "cell_type": "code",
   "execution_count": 322,
   "metadata": {},
   "outputs": [
    {
     "name": "stdout",
     "output_type": "stream",
     "text": [
      "855851453814013952 Here's a puppo participating in the #ScienceMarch. Cleverly disguising her own doggo agenda. 13/10 would keep the planet habitable for https://t.co/cMhq16isel 13.0 10.0\n"
     ]
    }
   ],
   "source": [
    "doggopuppos = master_df_14[master_df_14[\"rank\"].str.contains(\"doggopuppo\")]\n",
    "\n",
    "x = doggopuppos\n",
    "\n",
    "# loop through these and show text, rating, and tweet id:    \n",
    "for tweet_id, text, rating_numerator, rating_denominator in zip(x['tweet_id'], \\\n",
    "                                                                x['text'], \\\n",
    "                                                                x['rating_numerator'], \\\n",
    "                                                                x['rating_denominator']):\n",
    "    print(tweet_id, text, rating_numerator, rating_denominator)\n"
   ]
  },
  {
   "cell_type": "markdown",
   "metadata": {},
   "source": [
    "#### There was an error in generating rank. Correct this."
   ]
  },
  {
   "cell_type": "code",
   "execution_count": 323,
   "metadata": {},
   "outputs": [],
   "source": [
    "master_df_14.loc[master_df_14['rank'] == 'doggopuppo', 'rank'] = 'puppo'\n"
   ]
  },
  {
   "cell_type": "code",
   "execution_count": 324,
   "metadata": {},
   "outputs": [],
   "source": [
    "# define values\n",
    "values = [808106460588765185, 802265048156610565, 759793422261743616, 741067306818797568, 733109485275860992]\n",
    "\n",
    "#drop rows that contain any value in the list\n",
    "master_df_14 = master_df_14[master_df_14.tweet_id.isin(values) == False]"
   ]
  },
  {
   "cell_type": "markdown",
   "metadata": {},
   "source": [
    "#### Test: A count of dogs per rank should show a count of pupper, doggo, and puppo with no double-ranked dogs."
   ]
  },
  {
   "cell_type": "code",
   "execution_count": 325,
   "metadata": {},
   "outputs": [
    {
     "data": {
      "text/plain": [
       "          1567\n",
       "pupper     204\n",
       "doggo       64\n",
       "puppo       23\n",
       "Name: rank, dtype: int64"
      ]
     },
     "execution_count": 325,
     "metadata": {},
     "output_type": "execute_result"
    }
   ],
   "source": [
    "master_df_14['rank'].value_counts()"
   ]
  },
  {
   "cell_type": "code",
   "execution_count": 326,
   "metadata": {},
   "outputs": [],
   "source": [
    "master_df = master_df_14.copy()"
   ]
  },
  {
   "cell_type": "markdown",
   "metadata": {},
   "source": [
    "## Storing Data\n",
    "Save gathered, assessed, and cleaned master dataset to a CSV file named \"twitter_archive_master.csv\"."
   ]
  },
  {
   "cell_type": "code",
   "execution_count": 327,
   "metadata": {},
   "outputs": [],
   "source": [
    "master_df.to_csv(\"twitter_archive_master.csv\")"
   ]
  },
  {
   "cell_type": "markdown",
   "metadata": {},
   "source": [
    "## Analyzing and Visualizing Data\n",
    "In this section, analyze and visualize your wrangled data. You must produce at least **three (3) insights and one (1) visualization.**"
   ]
  },
  {
   "cell_type": "markdown",
   "metadata": {},
   "source": [
    "## Insights\n"
   ]
  },
  {
   "cell_type": "markdown",
   "metadata": {},
   "source": [
    "### Insight 1: Top ten dog breeds by occurrance in We Rate Dogs dataset\n",
    "\n",
    "What are the top breeds in the dataset? We really love our dogs either large or tiny.\n",
    "\n",
    "<table><thead><tr><th>Large</th><th></th><th>Tiny</th><th></th></tr></thead><tbody><tr><td>golden retriever</td><td>136</td><td>pembroke</td><td>83</td></tr><tr><td>labrador retriever</td><td>88</td><td>chihuahua</td><td>76</td></tr><tr><td>chow</td><td>36</td><td>pug</td><td>47</td></tr><tr><td>samoyed</td><td>29</td><td>pomeranian</td><td>36</td></tr><tr><td>malamute</td><td>28</td><td>toy_poodle</td><td>34</td></tr></tbody></table>"
   ]
  },
  {
   "cell_type": "code",
   "execution_count": 328,
   "metadata": {},
   "outputs": [],
   "source": [
    "# table above from https://tablesgenerator.com/html_tables"
   ]
  },
  {
   "cell_type": "code",
   "execution_count": 329,
   "metadata": {},
   "outputs": [],
   "source": [
    "# Top dog breeds\n",
    "# https://re-thought.com/pandas-value_counts/\n",
    "all_dogs = master_df[master_df.dog == True]\n",
    "all_dogs = all_dogs['predicted_breed'].value_counts()\n",
    "\n",
    "df_all_dogs = pd.DataFrame(all_dogs)\n",
    "df_all_dogs = df_all_dogs.reset_index()\n",
    "df_all_dogs.columns = ['breeds', 'counts'] # change column names\n",
    "\n",
    "#df_all_dogs.head(10)"
   ]
  },
  {
   "cell_type": "code",
   "execution_count": 330,
   "metadata": {},
   "outputs": [
    {
     "name": "stderr",
     "output_type": "stream",
     "text": [
      "/opt/conda/lib/python3.6/site-packages/ipykernel_launcher.py:3: SettingWithCopyWarning: \n",
      "A value is trying to be set on a copy of a slice from a DataFrame.\n",
      "Try using .loc[row_indexer,col_indexer] = value instead\n",
      "\n",
      "See the caveats in the documentation: http://pandas.pydata.org/pandas-docs/stable/indexing.html#indexing-view-versus-copy\n",
      "  This is separate from the ipykernel package so we can avoid doing imports until\n"
     ]
    }
   ],
   "source": [
    "# get top ten\n",
    "top_ten_breeds = df_all_dogs.head(10)\n",
    "top_ten_breeds['breeds'] = top_ten_breeds['breeds'].str.lower()\n"
   ]
  },
  {
   "cell_type": "code",
   "execution_count": 331,
   "metadata": {},
   "outputs": [
    {
     "data": {
      "text/plain": [
       "<matplotlib.axes._subplots.AxesSubplot at 0x7f183d40aa20>"
      ]
     },
     "execution_count": 331,
     "metadata": {},
     "output_type": "execute_result"
    },
    {
     "data": {
      "image/png": "[encoded data removed]",
      "text/plain": [
       "<matplotlib.figure.Figure at 0x7f183d796a20>"
      ]
     },
     "metadata": {},
     "output_type": "display_data"
    }
   ],
   "source": [
    "# https://blog.algorexhealth.com/2018/03/almost-10-pie-charts-in-10-python-libraries/\n",
    "cmap = plt.get_cmap('cubehelix')\n",
    "colors = [cmap(i) for i in np.linspace(0, 1, 8)]\n",
    "plt.rcParams[\"figure.figsize\"] = (15, 10)\n",
    "\n",
    "top_ten_breeds.groupby(['breeds']).sum().plot(kind = 'pie', y = 'counts', colors = colors, legend = False)\n"
   ]
  },
  {
   "cell_type": "markdown",
   "metadata": {},
   "source": [
    "### Insight 2: Top breeds by popularity: retweets, favourites, and dog ratings\n"
   ]
  },
  {
   "cell_type": "markdown",
   "metadata": {},
   "source": [
    "The top breeds by frequency of occurrance are not the same as the top breeds by popularity. Not at all. Let's have a look at that black and tan coonhound!\n"
   ]
  },
  {
   "cell_type": "code",
   "execution_count": 332,
   "metadata": {},
   "outputs": [
    {
     "data": {
      "text/plain": [
       "<matplotlib.axes._subplots.AxesSubplot at 0x7f1847443f28>"
      ]
     },
     "execution_count": 332,
     "metadata": {},
     "output_type": "execute_result"
    },
    {
     "data": {
      "image/png": "[encoded data removed]",
      "text/plain": [
       "<matplotlib.figure.Figure at 0x7f1845275400>"
      ]
     },
     "metadata": {
      "needs_background": "light"
     },
     "output_type": "display_data"
    }
   ],
   "source": [
    "# get dogs\n",
    "all_dogs = master_df[master_df.dog == True]\n",
    "# group by breed\n",
    "all_dogs_grouped = all_dogs.groupby('predicted_breed')\n",
    "all_dogs_grouped.head()\n",
    "\n",
    "# get means of retweets and faves\n",
    "all_dogs_grouped = all_dogs.groupby(['predicted_breed'])['retweets'].mean().reset_index()\n",
    "all_dogs_grouped2 = all_dogs.groupby(['predicted_breed'])['favorites'].mean().reset_index()\n",
    "\n",
    "# get a df of these\n",
    "master_dogs = all_dogs_grouped.merge(all_dogs_grouped2, on = ['predicted_breed'],how = 'inner')\n",
    "\n",
    "# get most popular\n",
    "master_dogs['popularity'] = master_dogs.retweets * master_dogs.favorites\n",
    "master_dogs = master_dogs.nlargest(20, 'popularity')\n",
    "\n",
    "master_dogs = master_dogs.set_index('predicted_breed')\n",
    "master_dogs.drop('popularity', axis=1, inplace=True)\n",
    "\n",
    "master_dogs.plot(kind='bar', stacked=True)\n"
   ]
  },
  {
   "cell_type": "code",
   "execution_count": 333,
   "metadata": {},
   "outputs": [
    {
     "name": "stdout",
     "output_type": "stream",
     "text": [
      "159    854120357044912130\n",
      "Name: tweet_id, dtype: object\n"
     ]
    }
   ],
   "source": [
    "x = master_df[master_df.predicted_breed == 'black-and-tan_coonhound']\n",
    "print(x.tweet_id)"
   ]
  },
  {
   "cell_type": "markdown",
   "metadata": {},
   "source": [
    "Oh. Our popular coonhound passed over the rainbow bridge. [Sad tweet][1]\n",
    "\n",
    "[1]: https://twitter.com/dog_rates/status/775410014383026176 'Cooper will be remembered as a good boy by so many'\n",
    "\n"
   ]
  },
  {
   "cell_type": "markdown",
   "metadata": {},
   "source": [
    "### Insight 3: Dog name implied gender and dog rating\n",
    "\n",
    "I thought the implied gender of the dog name would have some effect on the rating, but no. "
   ]
  },
  {
   "cell_type": "code",
   "execution_count": 334,
   "metadata": {},
   "outputs": [
    {
     "data": {
      "text/plain": [
       "<matplotlib.axes._subplots.AxesSubplot at 0x7f18442324a8>"
      ]
     },
     "execution_count": 334,
     "metadata": {},
     "output_type": "execute_result"
    },
    {
     "data": {
      "image/png": "[encoded data removed]",
      "text/plain": [
       "<matplotlib.figure.Figure at 0x7f18474439e8>"
      ]
     },
     "metadata": {
      "needs_background": "light"
     },
     "output_type": "display_data"
    }
   ],
   "source": [
    "# dog name implied gender, and faves/retweets\n",
    "all_names = master_df.copy()\n",
    "all_names['name_count'] = all_names.groupby('name')['name'].transform('size')\n",
    "all_names.drop_duplicates('name', inplace=True)\n",
    "all_names = all_names.dropna(subset=['name'])\n",
    "\n",
    "# remove that pesky no-name\n",
    "all_names = all_names[all_names['tweet_id'] != '891087950875897856']\n",
    "\n",
    "top_names = all_names[all_names['name_count'] > 5]\n",
    "top_names.plot.bar(x = 'name', y = 'dog_rating', rot = 0, legend = False)\n"
   ]
  },
  {
   "cell_type": "code",
   "execution_count": 335,
   "metadata": {},
   "outputs": [
    {
     "name": "stderr",
     "output_type": "stream",
     "text": [
      "/opt/conda/lib/python3.6/site-packages/ipykernel_launcher.py:7: SettingWithCopyWarning: \n",
      "A value is trying to be set on a copy of a slice from a DataFrame.\n",
      "Try using .loc[row_indexer,col_indexer] = value instead\n",
      "\n",
      "See the caveats in the documentation: http://pandas.pydata.org/pandas-docs/stable/indexing.html#indexing-view-versus-copy\n",
      "  import sys\n"
     ]
    },
    {
     "data": {
      "text/plain": [
       "gender\n",
       "f        1.1\n",
       "not f    0.9\n",
       "Name: dog_rating, dtype: float64"
      ]
     },
     "execution_count": 335,
     "metadata": {},
     "output_type": "execute_result"
    }
   ],
   "source": [
    "# f = 'Lola', 'Bella', 'Penny', 'Daisy', 'Sadie', 'Lucy'\n",
    "# m = 'Oliver', 'Stanley', 'cCooper', 'Winston', 'Tucker', 'Toby', 'Bo', 'Koda'\n",
    "# nb = 'Jax', 'Charlie'\n",
    "\n",
    "f = ['Lola', 'Bella', 'Penny', 'Daisy', 'Sadie', 'Lucy']\n",
    "\n",
    "top_names['gender'] = np.where(top_names['name'].isin(f), 'f', 'not f')\n",
    "#print (top_names)\n",
    "\n",
    "top_names.groupby('gender')['dog_rating'].mean()\n"
   ]
  },
  {
   "cell_type": "markdown",
   "metadata": {},
   "source": [
    "#### In fact, the mean dog rating for dogs by gender, even if you include the non-binary names Jax and Charlie, is higher for women-coded names."
   ]
  },
  {
   "cell_type": "markdown",
   "metadata": {},
   "source": [
    "### Visualisation 1: Some of the dogs got ratings less than 10/10. They're good dogs, Bront!\n",
    "\n",
    "#### Let's take a look at the ratings over time.\n",
    "\n",
    "Key information here is that on September 12th, 2016, WeRateDogs tweeted their most [famous tweet][2]. Before this tweet, their ratings were pretty normal, that is, the numerator was less than the denominator. After the 'they're good dogs, Brent' tweet, they changed their ratings habits. Most ratings after September, 2016, are above 10/10, for example.\n",
    "\n",
    "[2]: https://twitter.com/dog_rates/status/775410014383026176 'They\\'re Good Dogs'"
   ]
  },
  {
   "cell_type": "code",
   "execution_count": 336,
   "metadata": {},
   "outputs": [
    {
     "data": {
      "image/png": "[encoded data removed]",
      "text/plain": [
       "<matplotlib.figure.Figure at 0x7f183c709668>"
      ]
     },
     "metadata": {
      "needs_background": "light"
     },
     "output_type": "display_data"
    }
   ],
   "source": [
    "bad_ratings_time = master_df[['dog_rating', 'date']]\n",
    "bad_ratings_time = bad_ratings_time[bad_ratings_time.dog_rating < 2.6]\n",
    "# remove outliers XXX\n",
    "\n",
    "# plot ratings and dates from:\n",
    "# https://www.geeksforgeeks.org/matplotlib-pyplot-plot_date-in-python/\n",
    "plt.plot_date(bad_ratings_time.date, bad_ratings_time.dog_rating, c ='teal')\n",
    "\n",
    "# i want to set a vertical line at 9/2016 but how?\n",
    "plt.show()\n"
   ]
  },
  {
   "cell_type": "markdown",
   "metadata": {},
   "source": [
    "Before Sept. 2016, WeRateDogs rating on a normal scale of 1-10 out of 10. But after a short exchange with Brent, WeRateDogs rated most dogs at 10 or above. They are pretty good dogs."
   ]
  }
 ],
 "metadata": {
  "extensions": {
   "jupyter_dashboards": {
    "activeView": "report_default",
    "version": 1,
    "views": {
     "grid_default": {
      "cellMargin": 10,
      "defaultCellHeight": 20,
      "maxColumns": 12,
      "name": "grid",
      "type": "grid"
     },
     "report_default": {
      "name": "report",
      "type": "report"
     }
    }
   }
  },
  "kernelspec": {
   "display_name": "Python 3",
   "language": "python",
   "name": "python3"
  },
  "language_info": {
   "codemirror_mode": {
    "name": "ipython",
    "version": 3
   },
   "file_extension": ".py",
   "mimetype": "text/x-python",
   "name": "python",
   "nbconvert_exporter": "python",
   "pygments_lexer": "ipython3",
   "version": "3.6.3"
  }
 },
 "nbformat": 4,
 "nbformat_minor": 2
}
